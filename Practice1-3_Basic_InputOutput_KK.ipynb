{
 "cells": [
  {
   "cell_type": "markdown",
   "metadata": {},
   "source": [
    "# 프로그래밍 사고\n",
    "\n",
    "[![Open in Colab](http://colab.research.google.com/assets/colab-badge.svg)](https://colab.research.google.com/github/cheonbi/ProgrammingPython/blob/main/Practice1-3_Basic_InputOutput_KK.ipynb)\n",
    "\n",
    "- **필요성:** 사람마다 사용 언어와 생각 방식이 다르듯 프로그래밍 언어의 처리방식도 사람과 유사한 부분과 다른 부분이 존재하며 이를 이해하는 것이 필수"
   ]
  },
  {
   "cell_type": "markdown",
   "metadata": {},
   "source": [
    "## Y = f(X) + e\n",
    "\n",
    "- **\"세상의 모든 로직은 입력(X), 처리(f), 출력(Y), 그리고 검증(e) 프로세스로 최적화되어 표현된다\"**\n",
    "\n",
    "<center><img src='Image/Programming_IndependentStructure.png' width='600'></center>\n",
    "\n",
    "**1) 사람 교류방식 vs 컴퓨터 교류방식:**\n",
    "> - 나의 말(X)은 다른 사람에게 전달되고 상대방의 생각과 결합되어(f) 새로운 말로 전달(Y)된다.\n",
    "> - 나의 말(X)은 <span style=\"color:red\">**컴퓨터가 알아들을 수 있는 언어로 표현되어야**</span> 프로그램 로직(f)과 결합되어 전달(Y)된다.\n",
    "> <center><img src='Image/Programming_ManVsComputer.png' width='800'></center>\n",
    "\n",
    "**2) 실제 교류방식:** 반복적으로 피드백을 업데이트 하며 관계를 업데이트\n",
    "> <center><img src='Image/Programming_RealCommunication.png' width='600'></center>"
   ]
  },
  {
   "cell_type": "markdown",
   "metadata": {},
   "source": [
    "## 같다 vs 할당한다\n",
    "\n",
    "- **사람의 사고:** \"나\"와 \"KK\"는 같다\n",
    "- **프로그래밍 사고:** \"나\"는 \"KK\"라고 할당한다(반영한다)\n",
    "\n",
    "```python\n",
    "I = \"KK\"\n",
    "print(I)\n",
    "KK\n",
    "```\n",
    "\n",
    "- **프로그래밍 사고:** \"나\"는 \"KK\"로 할당하고, \"너\"는 \"Korea\"로 할당하고, \"나\"는 \"너\"로 할당했다.\n",
    "- **사람의 사고:** \"나\"와 \"KK\"는 같고, \"너\"는 \"Korea\"와 같고, \"나\"는 \"너\"와 같다. Why Korea?\n",
    "\n",
    "```python\n",
    "I = \"KK\"\n",
    "You = \"Korea\"\n",
    "I = You\n",
    "print(I)\n",
    "Korea\n",
    "```"
   ]
  },
  {
   "cell_type": "code",
   "execution_count": 1,
   "metadata": {
    "ExecuteTime": {
     "end_time": "2022-02-28T16:28:14.691464Z",
     "start_time": "2022-02-28T16:28:14.681521Z"
    }
   },
   "outputs": [
    {
     "name": "stdout",
     "output_type": "stream",
     "text": [
      "KK\n"
     ]
    }
   ],
   "source": [
    "# Test\n",
    "I = \"KK\"\n",
    "print(I)"
   ]
  },
  {
   "cell_type": "code",
   "execution_count": 2,
   "metadata": {
    "ExecuteTime": {
     "end_time": "2022-02-28T16:28:14.706424Z",
     "start_time": "2022-02-28T16:28:14.692491Z"
    }
   },
   "outputs": [
    {
     "name": "stdout",
     "output_type": "stream",
     "text": [
      "Korea\n"
     ]
    }
   ],
   "source": [
    "# Test\n",
    "I = \"KK\"\n",
    "You = \"Korea\"\n",
    "I = You\n",
    "print(I)"
   ]
  },
  {
   "cell_type": "code",
   "execution_count": 3,
   "metadata": {
    "ExecuteTime": {
     "end_time": "2022-02-28T16:28:14.721384Z",
     "start_time": "2022-02-28T16:28:14.707421Z"
    }
   },
   "outputs": [
    {
     "name": "stdout",
     "output_type": "stream",
     "text": [
      "Korea Korea\n"
     ]
    }
   ],
   "source": [
    "print(I, You)"
   ]
  },
  {
   "cell_type": "markdown",
   "metadata": {},
   "source": [
    "# 파이썬이 이해하는 데이터 형태\n",
    "\n",
    "- **목적:** 데이터분석과 프로그래밍 과정에서 파이썬이 이해할 수 있는 데이터의 형태로 입력하고 출력됨\n",
    "> - Y = f(X)에서 입력(X)과 그리고 출력(Y)의 형태를 이해한다\n",
    "> - 자료형을 확인할 때는 type 함수를 이용함\n",
    "\n",
    "<center><img src='Image/Basic_DataType.PNG' width='1000'></center>\n",
    "\n",
    "- **데이터 값 핸들링:** 인덱스, 인덱싱, 슬라이싱\n",
    "> - **인덱스(Index):** 데이터 값의 순서를 의미하고 Python에선 1이 아닌 0부터 순서 시작(영어권 문화)\n",
    "> <center><img src='Image/Basic_Index.png' width='400'></center>\n",
    ">\n",
    "> - **인덱싱(Indexing):** 인덱스를 사용하여 데이터의 값을 불러오는 것\n",
    "> ```python\n",
    "데이터형[인덱스]\n",
    "Ready[3]    # d\n",
    "[1,2,3][2]    # 3\n",
    "A = 'My Name'\n",
    "A[3]    # N\n",
    ">```\n",
    ">\n",
    "> - **슬라이싱(Slicing):** 특정 인덱스가 아니라 일정 인덱스 범위의 값을 불러오는 것\n",
    "> <center><img src='Image/Basic_Slicing.png' width='400'></center>\n"
   ]
  },
  {
   "cell_type": "markdown",
   "metadata": {},
   "source": [
    "## 숫자형(Numbers): 숫자의 특성을 갖는 것"
   ]
  },
  {
   "cell_type": "code",
   "execution_count": 4,
   "metadata": {
    "ExecuteTime": {
     "end_time": "2022-02-28T16:28:14.736344Z",
     "start_time": "2022-02-28T16:28:14.722381Z"
    }
   },
   "outputs": [
    {
     "name": "stdout",
     "output_type": "stream",
     "text": [
      "10\n"
     ]
    }
   ],
   "source": [
    "# 10이라는 입력을 A라는 변수에 그대로 출력\n",
    "# print 함수는 값을 출력하는 기능\n",
    "A = 10\n",
    "print(A)    # shift + tab"
   ]
  },
  {
   "cell_type": "code",
   "execution_count": 5,
   "metadata": {
    "ExecuteTime": {
     "end_time": "2022-02-28T16:28:14.752301Z",
     "start_time": "2022-02-28T16:28:14.737341Z"
    }
   },
   "outputs": [
    {
     "data": {
      "text/plain": [
       "10"
      ]
     },
     "execution_count": 5,
     "metadata": {},
     "output_type": "execute_result"
    }
   ],
   "source": [
    "# 기본적으로 마지막줄은 자동 출력기능이라서 print를 사용하지 않아도 됨\n",
    "A = 10\n",
    "A"
   ]
  },
  {
   "cell_type": "code",
   "execution_count": 6,
   "metadata": {
    "ExecuteTime": {
     "end_time": "2022-02-28T16:28:14.767261Z",
     "start_time": "2022-02-28T16:28:14.753298Z"
    }
   },
   "outputs": [
    {
     "data": {
      "text/plain": [
       "10"
      ]
     },
     "execution_count": 6,
     "metadata": {},
     "output_type": "execute_result"
    }
   ],
   "source": [
    "# 마지막줄 이외의 줄은 print, display 함수를 쓰지 않으면 자동 출력되지 않음\n",
    "A = 10\n",
    "A\n",
    "A"
   ]
  },
  {
   "cell_type": "code",
   "execution_count": 7,
   "metadata": {
    "ExecuteTime": {
     "end_time": "2022-02-28T16:28:14.783218Z",
     "start_time": "2022-02-28T16:28:14.768259Z"
    }
   },
   "outputs": [
    {
     "name": "stdout",
     "output_type": "stream",
     "text": [
      "10\n"
     ]
    },
    {
     "data": {
      "text/plain": [
       "10"
      ]
     },
     "execution_count": 7,
     "metadata": {},
     "output_type": "execute_result"
    }
   ],
   "source": [
    "A = 10\n",
    "print(A)\n",
    "A"
   ]
  },
  {
   "cell_type": "code",
   "execution_count": 8,
   "metadata": {
    "ExecuteTime": {
     "end_time": "2022-02-28T16:28:14.798179Z",
     "start_time": "2022-02-28T16:28:14.784216Z"
    }
   },
   "outputs": [
    {
     "data": {
      "text/plain": [
       "int"
      ]
     },
     "execution_count": 8,
     "metadata": {},
     "output_type": "execute_result"
    }
   ],
   "source": [
    "# A+10 입력받아 type함수로 형태를 처리하고 output에 출력\n",
    "output = type(A+10)\n",
    "output"
   ]
  },
  {
   "cell_type": "code",
   "execution_count": 9,
   "metadata": {
    "ExecuteTime": {
     "end_time": "2022-02-28T16:28:14.813138Z",
     "start_time": "2022-02-28T16:28:14.799176Z"
    }
   },
   "outputs": [
    {
     "name": "stdout",
     "output_type": "stream",
     "text": [
      "110\n"
     ]
    }
   ],
   "source": [
    "A = A + 100\n",
    "print(A)"
   ]
  },
  {
   "cell_type": "code",
   "execution_count": 10,
   "metadata": {
    "ExecuteTime": {
     "end_time": "2022-02-28T16:28:14.828099Z",
     "start_time": "2022-02-28T16:28:14.815134Z"
    }
   },
   "outputs": [
    {
     "name": "stdout",
     "output_type": "stream",
     "text": [
      "1110\n"
     ]
    }
   ],
   "source": [
    "print(A + 1000)"
   ]
  },
  {
   "cell_type": "code",
   "execution_count": 11,
   "metadata": {
    "ExecuteTime": {
     "end_time": "2022-02-28T16:28:14.843058Z",
     "start_time": "2022-02-28T16:28:14.829096Z"
    }
   },
   "outputs": [
    {
     "name": "stdout",
     "output_type": "stream",
     "text": [
      "Final A is  110\n"
     ]
    }
   ],
   "source": [
    "# print 함수는 임의의 문자화 함께 출력 가능\n",
    "print('Final A is ', A)"
   ]
  },
  {
   "cell_type": "code",
   "execution_count": 12,
   "metadata": {
    "ExecuteTime": {
     "end_time": "2022-02-28T16:28:14.858018Z",
     "start_time": "2022-02-28T16:28:14.844055Z"
    }
   },
   "outputs": [
    {
     "data": {
      "text/plain": [
       "float"
      ]
     },
     "execution_count": 12,
     "metadata": {},
     "output_type": "execute_result"
    }
   ],
   "source": [
    "B = 3.14\n",
    "type(B)"
   ]
  },
  {
   "cell_type": "code",
   "execution_count": 13,
   "metadata": {
    "ExecuteTime": {
     "end_time": "2022-02-28T16:28:14.872979Z",
     "start_time": "2022-02-28T16:28:14.859015Z"
    }
   },
   "outputs": [
    {
     "data": {
      "text/plain": [
       "(int, float)"
      ]
     },
     "execution_count": 13,
     "metadata": {},
     "output_type": "execute_result"
    }
   ],
   "source": [
    "type(A), type(B)"
   ]
  },
  {
   "cell_type": "code",
   "execution_count": 14,
   "metadata": {
    "ExecuteTime": {
     "end_time": "2022-02-28T16:28:14.887938Z",
     "start_time": "2022-02-28T16:28:14.873976Z"
    }
   },
   "outputs": [
    {
     "data": {
      "text/plain": [
       "113.14"
      ]
     },
     "execution_count": 14,
     "metadata": {},
     "output_type": "execute_result"
    }
   ],
   "source": [
    "# 계산기처럼 쉽게 연산도 가능\n",
    "A + B"
   ]
  },
  {
   "cell_type": "code",
   "execution_count": 15,
   "metadata": {
    "ExecuteTime": {
     "end_time": "2022-02-28T16:28:14.903896Z",
     "start_time": "2022-02-28T16:28:14.889934Z"
    }
   },
   "outputs": [
    {
     "data": {
      "text/plain": [
       "float"
      ]
     },
     "execution_count": 15,
     "metadata": {},
     "output_type": "execute_result"
    }
   ],
   "source": [
    "# int와 float가 더해지면 가장 영역이 넓은 float 형태로 저장\n",
    "type(A + B)"
   ]
  },
  {
   "cell_type": "markdown",
   "metadata": {},
   "source": [
    "## 불리언(Boolean): 참과 거짓으로 표현하는 것"
   ]
  },
  {
   "cell_type": "code",
   "execution_count": 16,
   "metadata": {
    "ExecuteTime": {
     "end_time": "2022-02-28T16:28:14.918856Z",
     "start_time": "2022-02-28T16:28:14.904893Z"
    }
   },
   "outputs": [
    {
     "data": {
      "text/plain": [
       "True"
      ]
     },
     "execution_count": 16,
     "metadata": {},
     "output_type": "execute_result"
    }
   ],
   "source": [
    "# 0이 아닌 숫자는 True\n",
    "bool(A)"
   ]
  },
  {
   "cell_type": "code",
   "execution_count": 17,
   "metadata": {
    "ExecuteTime": {
     "end_time": "2022-02-28T16:28:14.934813Z",
     "start_time": "2022-02-28T16:28:14.920851Z"
    }
   },
   "outputs": [
    {
     "data": {
      "text/plain": [
       "False"
      ]
     },
     "execution_count": 17,
     "metadata": {},
     "output_type": "execute_result"
    }
   ],
   "source": [
    "# 비어있는 문자는 False\n",
    "bool('')"
   ]
  },
  {
   "cell_type": "code",
   "execution_count": 18,
   "metadata": {
    "ExecuteTime": {
     "end_time": "2022-02-28T16:28:14.949773Z",
     "start_time": "2022-02-28T16:28:14.935810Z"
    }
   },
   "outputs": [
    {
     "data": {
      "text/plain": [
       "True"
      ]
     },
     "execution_count": 18,
     "metadata": {},
     "output_type": "execute_result"
    }
   ],
   "source": [
    "bool(' ')"
   ]
  },
  {
   "cell_type": "code",
   "execution_count": 19,
   "metadata": {
    "ExecuteTime": {
     "end_time": "2022-02-28T16:28:14.964732Z",
     "start_time": "2022-02-28T16:28:14.950770Z"
    }
   },
   "outputs": [
    {
     "data": {
      "text/plain": [
       "True"
      ]
     },
     "execution_count": 19,
     "metadata": {},
     "output_type": "execute_result"
    }
   ],
   "source": [
    "bool('python')"
   ]
  },
  {
   "cell_type": "code",
   "execution_count": 20,
   "metadata": {
    "ExecuteTime": {
     "end_time": "2022-02-28T16:28:14.979693Z",
     "start_time": "2022-02-28T16:28:14.965731Z"
    }
   },
   "outputs": [
    {
     "data": {
      "text/plain": [
       "False"
      ]
     },
     "execution_count": 20,
     "metadata": {},
     "output_type": "execute_result"
    }
   ],
   "source": [
    "bool(0)"
   ]
  },
  {
   "cell_type": "code",
   "execution_count": 21,
   "metadata": {
    "ExecuteTime": {
     "end_time": "2022-02-28T16:28:14.994653Z",
     "start_time": "2022-02-28T16:28:14.980691Z"
    }
   },
   "outputs": [
    {
     "data": {
      "text/plain": [
       "True"
      ]
     },
     "execution_count": 21,
     "metadata": {},
     "output_type": "execute_result"
    }
   ],
   "source": [
    "bool(1)"
   ]
  },
  {
   "cell_type": "code",
   "execution_count": 22,
   "metadata": {
    "ExecuteTime": {
     "end_time": "2022-02-28T16:28:15.009612Z",
     "start_time": "2022-02-28T16:28:14.995651Z"
    }
   },
   "outputs": [
    {
     "data": {
      "text/plain": [
       "True"
      ]
     },
     "execution_count": 22,
     "metadata": {},
     "output_type": "execute_result"
    }
   ],
   "source": [
    "bool(100)"
   ]
  },
  {
   "cell_type": "code",
   "execution_count": 23,
   "metadata": {
    "ExecuteTime": {
     "end_time": "2022-02-28T16:28:15.024572Z",
     "start_time": "2022-02-28T16:28:15.010610Z"
    }
   },
   "outputs": [
    {
     "data": {
      "text/plain": [
       "False"
      ]
     },
     "execution_count": 23,
     "metadata": {},
     "output_type": "execute_result"
    }
   ],
   "source": [
    "bool(False)"
   ]
  },
  {
   "cell_type": "code",
   "execution_count": 24,
   "metadata": {
    "ExecuteTime": {
     "end_time": "2022-02-28T16:28:15.039532Z",
     "start_time": "2022-02-28T16:28:15.025570Z"
    }
   },
   "outputs": [
    {
     "data": {
      "text/plain": [
       "True"
      ]
     },
     "execution_count": 24,
     "metadata": {},
     "output_type": "execute_result"
    }
   ],
   "source": [
    "bool(True)"
   ]
  },
  {
   "cell_type": "code",
   "execution_count": 25,
   "metadata": {
    "ExecuteTime": {
     "end_time": "2022-02-28T16:28:15.054492Z",
     "start_time": "2022-02-28T16:28:15.040530Z"
    }
   },
   "outputs": [
    {
     "data": {
      "text/plain": [
       "False"
      ]
     },
     "execution_count": 25,
     "metadata": {},
     "output_type": "execute_result"
    }
   ],
   "source": [
    "# 파이썬은 사람의 언어중 영어의 어순을 그대로 사용하는 특징\n",
    "# I가 You인지 의문문을 쓰면 True/False 반환\n",
    "I = 'KK'\n",
    "You = 'Korea'\n",
    "I is You"
   ]
  },
  {
   "cell_type": "code",
   "execution_count": 26,
   "metadata": {
    "ExecuteTime": {
     "end_time": "2022-02-28T16:28:15.069452Z",
     "start_time": "2022-02-28T16:28:15.055490Z"
    }
   },
   "outputs": [
    {
     "data": {
      "text/plain": [
       "True"
      ]
     },
     "execution_count": 26,
     "metadata": {},
     "output_type": "execute_result"
    }
   ],
   "source": [
    "I = You\n",
    "I is You"
   ]
  },
  {
   "cell_type": "markdown",
   "metadata": {},
   "source": [
    "## 문자열(Strings): 따옴표 안에 입력된 것\n",
    "\n",
    "- 큰 따옴표(\" \")나 작은 따옴표 (' ')로 감싸진 부분을 파이썬은 문자열로 인식\n",
    "```python\n",
    "'hello!'\n",
    "'3.14'\n",
    "\"3.14\"\n",
    "```\n",
    "\n",
    "- 따옴표로 감싸진 문자열 내에서 **`따옴표`** 자체를 문자열로 반영할때는 다른 종류의 따옴표 사용\n",
    "```python\n",
    "'오늘 수업은 \"여기까지\" 하겠습니다!'    # 가능\n",
    "\"오늘 수업은 '여기까지' 하겠습니다!\"    # 가능\n",
    "\"오늘 수업은 \"여기까지\" 하겠습니다!\"    # 불가능\n",
    "'오늘 수업은 '여기까지' 하겠습니다!'    # 불가능\n",
    "```\n",
    "\n",
    "- 여러줄의 문자열을 반영할때는 **`따옴표 3개`** 로 감싸서 사용\n",
    "```python\n",
    "'오늘 수업은 \n",
    "\"여기까지\" 하겠습니다!'    # 불가능\n",
    "'''오늘 수업은\n",
    "\"여기까지\" 하겠습니다!'''    # 가능\n",
    "\"\"\"오늘 수업은\n",
    "'여기까지' 하겠습니다!\"\"\"    # 가능\n",
    "```\n"
   ]
  },
  {
   "cell_type": "code",
   "execution_count": 27,
   "metadata": {
    "ExecuteTime": {
     "end_time": "2022-02-28T16:28:15.084412Z",
     "start_time": "2022-02-28T16:28:15.070450Z"
    }
   },
   "outputs": [
    {
     "data": {
      "text/plain": [
       "str"
      ]
     },
     "execution_count": 27,
     "metadata": {},
     "output_type": "execute_result"
    }
   ],
   "source": [
    "I = 'KK'\n",
    "type(I)"
   ]
  },
  {
   "cell_type": "code",
   "execution_count": 28,
   "metadata": {
    "ExecuteTime": {
     "end_time": "2022-02-28T16:28:15.100370Z",
     "start_time": "2022-02-28T16:28:15.088402Z"
    }
   },
   "outputs": [
    {
     "data": {
      "text/plain": [
       "'My name is KK'"
      ]
     },
     "execution_count": 28,
     "metadata": {},
     "output_type": "execute_result"
    }
   ],
   "source": [
    "Intro = 'My name is KK'\n",
    "Intro"
   ]
  },
  {
   "cell_type": "code",
   "execution_count": 29,
   "metadata": {
    "ExecuteTime": {
     "end_time": "2022-02-28T16:28:15.115330Z",
     "start_time": "2022-02-28T16:28:15.101367Z"
    }
   },
   "outputs": [
    {
     "data": {
      "text/plain": [
       "str"
      ]
     },
     "execution_count": 29,
     "metadata": {},
     "output_type": "execute_result"
    }
   ],
   "source": [
    "type(Intro)"
   ]
  },
  {
   "cell_type": "code",
   "execution_count": 30,
   "metadata": {
    "ExecuteTime": {
     "end_time": "2022-02-28T16:28:15.130318Z",
     "start_time": "2022-02-28T16:28:15.116327Z"
    }
   },
   "outputs": [
    {
     "data": {
      "text/plain": [
       "'My name is KKMy name is KK'"
      ]
     },
     "execution_count": 30,
     "metadata": {},
     "output_type": "execute_result"
    }
   ],
   "source": [
    "# 다른 프로그래밍 언어와 달리 숫자가 아닌 문자로 숫자 연산 적용 가능\n",
    "Intro*2"
   ]
  },
  {
   "cell_type": "code",
   "execution_count": 31,
   "metadata": {
    "ExecuteTime": {
     "end_time": "2022-02-28T16:28:15.145250Z",
     "start_time": "2022-02-28T16:28:15.131287Z"
    }
   },
   "outputs": [
    {
     "data": {
      "text/plain": [
       "str"
      ]
     },
     "execution_count": 31,
     "metadata": {},
     "output_type": "execute_result"
    }
   ],
   "source": [
    "Intro = 'My name is KK & 1.0'\n",
    "type(Intro)"
   ]
  },
  {
   "cell_type": "code",
   "execution_count": 32,
   "metadata": {
    "ExecuteTime": {
     "end_time": "2022-02-28T16:28:15.160210Z",
     "start_time": "2022-02-28T16:28:15.147245Z"
    }
   },
   "outputs": [
    {
     "data": {
      "text/plain": [
       "19"
      ]
     },
     "execution_count": 32,
     "metadata": {},
     "output_type": "execute_result"
    }
   ],
   "source": [
    "# 문자열의 길이 또는 갯수\n",
    "len(Intro)"
   ]
  },
  {
   "cell_type": "code",
   "execution_count": 33,
   "metadata": {
    "ExecuteTime": {
     "end_time": "2022-02-28T16:28:15.175201Z",
     "start_time": "2022-02-28T16:28:15.161207Z"
    }
   },
   "outputs": [
    {
     "data": {
      "text/plain": [
       "'M'"
      ]
     },
     "execution_count": 33,
     "metadata": {},
     "output_type": "execute_result"
    }
   ],
   "source": [
    "# 문자열의 원소를 선택할 때는 대괄호안에 순서를 나타내는 인덱스를 입력\n",
    "# 파이썬의 순서는 \"0\"부터 시작함\n",
    "Intro[0]"
   ]
  },
  {
   "cell_type": "code",
   "execution_count": 34,
   "metadata": {
    "ExecuteTime": {
     "end_time": "2022-02-28T16:28:15.190129Z",
     "start_time": "2022-02-28T16:28:15.176167Z"
    }
   },
   "outputs": [
    {
     "data": {
      "text/plain": [
       "'y'"
      ]
     },
     "execution_count": 34,
     "metadata": {},
     "output_type": "execute_result"
    }
   ],
   "source": [
    "Intro[1]"
   ]
  },
  {
   "cell_type": "code",
   "execution_count": 35,
   "metadata": {
    "ExecuteTime": {
     "end_time": "2022-02-28T16:28:15.205121Z",
     "start_time": "2022-02-28T16:28:15.191127Z"
    },
    "slideshow": {
     "slide_type": "slide"
    }
   },
   "outputs": [
    {
     "data": {
      "text/plain": [
       "'0'"
      ]
     },
     "execution_count": 35,
     "metadata": {},
     "output_type": "execute_result"
    }
   ],
   "source": [
    "Intro[18]"
   ]
  },
  {
   "cell_type": "code",
   "execution_count": 36,
   "metadata": {
    "ExecuteTime": {
     "end_time": "2022-02-28T16:28:15.220049Z",
     "start_time": "2022-02-28T16:28:15.206087Z"
    },
    "slideshow": {
     "slide_type": "slide"
    }
   },
   "outputs": [],
   "source": [
    "# 길이를 벗어난 인덱스를 입력하면 오류\n",
    "# Intro[19]"
   ]
  },
  {
   "cell_type": "code",
   "execution_count": 37,
   "metadata": {
    "ExecuteTime": {
     "end_time": "2022-02-28T16:28:15.235010Z",
     "start_time": "2022-02-28T16:28:15.221047Z"
    }
   },
   "outputs": [
    {
     "data": {
      "text/plain": [
       "'0'"
      ]
     },
     "execution_count": 37,
     "metadata": {},
     "output_type": "execute_result"
    }
   ],
   "source": [
    "# 뒤에서부터 값을 추출가능\n",
    "# 뒤에서의 추출순서는 \"-1\"부터 시작함\n",
    "Intro[-1]"
   ]
  },
  {
   "cell_type": "code",
   "execution_count": 38,
   "metadata": {
    "ExecuteTime": {
     "end_time": "2022-02-28T16:28:15.249970Z",
     "start_time": "2022-02-28T16:28:15.236007Z"
    }
   },
   "outputs": [
    {
     "data": {
      "text/plain": [
       "'.'"
      ]
     },
     "execution_count": 38,
     "metadata": {},
     "output_type": "execute_result"
    }
   ],
   "source": [
    "Intro[-2]"
   ]
  },
  {
   "cell_type": "code",
   "execution_count": 39,
   "metadata": {
    "ExecuteTime": {
     "end_time": "2022-02-28T16:28:15.264929Z",
     "start_time": "2022-02-28T16:28:15.250967Z"
    }
   },
   "outputs": [
    {
     "data": {
      "text/plain": [
       "'My n'"
      ]
     },
     "execution_count": 39,
     "metadata": {},
     "output_type": "execute_result"
    }
   ],
   "source": [
    "# 여러개의 문자열을 선택할 때는 범위로 입력하되 [시작인텍스 이상:끝인덱스 미만] 형식\n",
    "# 끝인덱스는 포함되지 않음\n",
    "Intro[0:4] "
   ]
  },
  {
   "cell_type": "code",
   "execution_count": 40,
   "metadata": {
    "ExecuteTime": {
     "end_time": "2022-02-28T16:28:15.279890Z",
     "start_time": "2022-02-28T16:28:15.265927Z"
    }
   },
   "outputs": [
    {
     "data": {
      "text/plain": [
       "'& 1.'"
      ]
     },
     "execution_count": 40,
     "metadata": {},
     "output_type": "execute_result"
    }
   ],
   "source": [
    "Intro[-5:-1]"
   ]
  },
  {
   "cell_type": "code",
   "execution_count": 41,
   "metadata": {
    "ExecuteTime": {
     "end_time": "2022-02-28T16:28:15.294850Z",
     "start_time": "2022-02-28T16:28:15.280887Z"
    }
   },
   "outputs": [],
   "source": [
    "# 시작인텍스와 끝인텍스를 생략하면 자동으로 시작이나 끝까지 임을 인식함"
   ]
  },
  {
   "cell_type": "code",
   "execution_count": 42,
   "metadata": {
    "ExecuteTime": {
     "end_time": "2022-02-28T16:28:15.309809Z",
     "start_time": "2022-02-28T16:28:15.295847Z"
    }
   },
   "outputs": [
    {
     "data": {
      "text/plain": [
       "'My n'"
      ]
     },
     "execution_count": 42,
     "metadata": {},
     "output_type": "execute_result"
    }
   ],
   "source": [
    "Intro[:4]"
   ]
  },
  {
   "cell_type": "code",
   "execution_count": 43,
   "metadata": {
    "ExecuteTime": {
     "end_time": "2022-02-28T16:28:15.324769Z",
     "start_time": "2022-02-28T16:28:15.310807Z"
    }
   },
   "outputs": [
    {
     "data": {
      "text/plain": [
       "'& 1.0'"
      ]
     },
     "execution_count": 43,
     "metadata": {},
     "output_type": "execute_result"
    }
   ],
   "source": [
    "Intro[-5:]"
   ]
  },
  {
   "cell_type": "code",
   "execution_count": 44,
   "metadata": {
    "ExecuteTime": {
     "end_time": "2022-02-28T16:28:15.339730Z",
     "start_time": "2022-02-28T16:28:15.325767Z"
    }
   },
   "outputs": [
    {
     "data": {
      "text/plain": [
       "'My name is KK & 1.0 Haha'"
      ]
     },
     "execution_count": 44,
     "metadata": {},
     "output_type": "execute_result"
    }
   ],
   "source": [
    "# 더하기로 쉽게 문자열을 붙일 수 있음\n",
    "# 다른 프로그래밍 언어에선 숫자가 아닌 문자에 더하기 연산 불가\n",
    "Intro + ' Haha'"
   ]
  },
  {
   "cell_type": "code",
   "execution_count": 45,
   "metadata": {
    "ExecuteTime": {
     "end_time": "2022-02-28T16:28:15.354689Z",
     "start_time": "2022-02-28T16:28:15.340726Z"
    }
   },
   "outputs": [
    {
     "data": {
      "text/plain": [
       "'110 is your age'"
      ]
     },
     "execution_count": 45,
     "metadata": {},
     "output_type": "execute_result"
    }
   ],
   "source": [
    "# 숫자를 문자로 바꾸기 위해서 str 함수를 사용\n",
    "# %가 위치한 곳에 값을 입력받아 출력\n",
    "'%s is your age' % str(A)"
   ]
  },
  {
   "cell_type": "code",
   "execution_count": 46,
   "metadata": {
    "ExecuteTime": {
     "end_time": "2022-02-28T16:28:15.370646Z",
     "start_time": "2022-02-28T16:28:15.355686Z"
    }
   },
   "outputs": [
    {
     "data": {
      "text/plain": [
       "'110 is your age'"
      ]
     },
     "execution_count": 46,
     "metadata": {},
     "output_type": "execute_result"
    }
   ],
   "source": [
    "str(A) + ' is your age'"
   ]
  },
  {
   "cell_type": "code",
   "execution_count": 47,
   "metadata": {
    "ExecuteTime": {
     "end_time": "2022-02-28T16:28:15.385607Z",
     "start_time": "2022-02-28T16:28:15.371644Z"
    }
   },
   "outputs": [
    {
     "data": {
      "text/plain": [
       "'I ate 10 apples. So I was sick for three days.'"
      ]
     },
     "execution_count": 47,
     "metadata": {},
     "output_type": "execute_result"
    }
   ],
   "source": [
    "# % 호로 여러개의 문자열 입력받아 출력 가능\n",
    "number = 10\n",
    "day = 'three'\n",
    "'I ate %d apples. So I was sick for %s days.' % (number, day)"
   ]
  },
  {
   "cell_type": "code",
   "execution_count": 48,
   "metadata": {
    "ExecuteTime": {
     "end_time": "2022-02-28T16:28:15.401563Z",
     "start_time": "2022-02-28T16:28:15.386604Z"
    }
   },
   "outputs": [
    {
     "data": {
      "text/plain": [
       "'I ate 10 apples. So I was sick for three days.'"
      ]
     },
     "execution_count": 48,
     "metadata": {},
     "output_type": "execute_result"
    }
   ],
   "source": [
    "'I ate {0} apples. So I was sick for {1} days.'.format(10, 'three')"
   ]
  },
  {
   "cell_type": "code",
   "execution_count": 49,
   "metadata": {
    "ExecuteTime": {
     "end_time": "2022-02-28T16:28:15.416523Z",
     "start_time": "2022-02-28T16:28:15.402561Z"
    }
   },
   "outputs": [
    {
     "data": {
      "text/plain": [
       "'I ate {number} apples. So I was sick for {day} days.'"
      ]
     },
     "execution_count": 49,
     "metadata": {},
     "output_type": "execute_result"
    }
   ],
   "source": [
    "number = 10\n",
    "day = 'three'\n",
    "'I ate {number} apples. So I was sick for {day} days.'"
   ]
  },
  {
   "cell_type": "code",
   "execution_count": 50,
   "metadata": {
    "ExecuteTime": {
     "end_time": "2022-02-28T16:28:15.431483Z",
     "start_time": "2022-02-28T16:28:15.417522Z"
    }
   },
   "outputs": [
    {
     "data": {
      "text/plain": [
       "'I ate 10 apples. So I was sick for three days.'"
      ]
     },
     "execution_count": 50,
     "metadata": {},
     "output_type": "execute_result"
    }
   ],
   "source": [
    "number = 10\n",
    "day = 'three'\n",
    "f'I ate {number} apples. So I was sick for {day} days.'"
   ]
  },
  {
   "cell_type": "code",
   "execution_count": 51,
   "metadata": {
    "ExecuteTime": {
     "end_time": "2022-02-28T16:28:15.446443Z",
     "start_time": "2022-02-28T16:28:15.432481Z"
    }
   },
   "outputs": [
    {
     "data": {
      "text/plain": [
       "'M,y, ,n,a,m,e, ,i,s, ,K,K, ,&, ,1,.,0'"
      ]
     },
     "execution_count": 51,
     "metadata": {},
     "output_type": "execute_result"
    }
   ],
   "source": [
    "# join 함수로 반복적으로 값을 사이에 붙일 수 있음\n",
    "# 접착문자열.join(리스트)\n",
    "# 리스트 값들은 모두 문자열에서만 가능\n",
    "','.join(Intro)"
   ]
  },
  {
   "cell_type": "code",
   "execution_count": 52,
   "metadata": {
    "ExecuteTime": {
     "end_time": "2022-02-28T16:28:15.461404Z",
     "start_time": "2022-02-28T16:28:15.447441Z"
    }
   },
   "outputs": [
    {
     "data": {
      "text/plain": [
       "'M y   n a m e   i s   K K   &   1 . 0'"
      ]
     },
     "execution_count": 52,
     "metadata": {},
     "output_type": "execute_result"
    }
   ],
   "source": [
    "' '.join(Intro)"
   ]
  },
  {
   "cell_type": "code",
   "execution_count": 53,
   "metadata": {
    "ExecuteTime": {
     "end_time": "2022-02-28T16:28:15.476364Z",
     "start_time": "2022-02-28T16:28:15.462401Z"
    }
   },
   "outputs": [
    {
     "data": {
      "text/plain": [
       "'0.1 & KK si eman yM'"
      ]
     },
     "execution_count": 53,
     "metadata": {},
     "output_type": "execute_result"
    }
   ],
   "source": [
    "# reversed 함수로 쉽게 값을 뒤집을 수 있음\n",
    "''.join(reversed(Intro))"
   ]
  },
  {
   "cell_type": "code",
   "execution_count": 54,
   "metadata": {
    "ExecuteTime": {
     "end_time": "2022-02-28T16:28:15.491355Z",
     "start_time": "2022-02-28T16:28:15.477362Z"
    }
   },
   "outputs": [
    {
     "data": {
      "text/plain": [
       "'My name is KK & 1.0'"
      ]
     },
     "execution_count": 54,
     "metadata": {},
     "output_type": "execute_result"
    }
   ],
   "source": [
    "# Intro[시작:끝:간격]\n",
    "Intro[::]"
   ]
  },
  {
   "cell_type": "code",
   "execution_count": 55,
   "metadata": {
    "ExecuteTime": {
     "end_time": "2022-02-28T16:28:15.506313Z",
     "start_time": "2022-02-28T16:28:15.492321Z"
    }
   },
   "outputs": [
    {
     "data": {
      "text/plain": [
       "'My name is KK & 1.0'"
      ]
     },
     "execution_count": 55,
     "metadata": {},
     "output_type": "execute_result"
    }
   ],
   "source": [
    "Intro[::1]"
   ]
  },
  {
   "cell_type": "code",
   "execution_count": 56,
   "metadata": {
    "ExecuteTime": {
     "end_time": "2022-02-28T16:28:15.521247Z",
     "start_time": "2022-02-28T16:28:15.507281Z"
    }
   },
   "outputs": [
    {
     "data": {
      "text/plain": [
       "'M aei K&10'"
      ]
     },
     "execution_count": 56,
     "metadata": {},
     "output_type": "execute_result"
    }
   ],
   "source": [
    "Intro[::2]"
   ]
  },
  {
   "cell_type": "code",
   "execution_count": 57,
   "metadata": {
    "ExecuteTime": {
     "end_time": "2022-02-28T16:28:15.536203Z",
     "start_time": "2022-02-28T16:28:15.523238Z"
    }
   },
   "outputs": [
    {
     "data": {
      "text/plain": [
       "'0.1 & KK si eman yM'"
      ]
     },
     "execution_count": 57,
     "metadata": {},
     "output_type": "execute_result"
    }
   ],
   "source": [
    "# 간격도 음수를 사용해 뒤에서 앞으로 추출 가능\n",
    "Intro[::-1]"
   ]
  },
  {
   "cell_type": "code",
   "execution_count": 58,
   "metadata": {
    "ExecuteTime": {
     "end_time": "2022-02-28T16:28:15.551163Z",
     "start_time": "2022-02-28T16:28:15.537201Z"
    }
   },
   "outputs": [
    {
     "data": {
      "text/plain": [
       "['My', 'name', 'is', 'KK', '&', '1.0']"
      ]
     },
     "execution_count": 58,
     "metadata": {},
     "output_type": "execute_result"
    }
   ],
   "source": [
    "# 문자열.split(기준) 함수로 문자열 나누기\n",
    "# '기준'은 쪼개고 나서 사라짐\n",
    "# '기준'이 없으면 자동으로 '공백'을 기준으로 사용\n",
    "# 문자열이 쪼개진 후 결과는 리스트 형태로 반환\n",
    "Intro.split(' ')"
   ]
  },
  {
   "cell_type": "code",
   "execution_count": 59,
   "metadata": {
    "ExecuteTime": {
     "end_time": "2022-02-28T16:28:15.566151Z",
     "start_time": "2022-02-28T16:28:15.552160Z"
    }
   },
   "outputs": [
    {
     "data": {
      "text/plain": [
       "'My'"
      ]
     },
     "execution_count": 59,
     "metadata": {},
     "output_type": "execute_result"
    }
   ],
   "source": [
    "Intro.split(' ')[0]"
   ]
  },
  {
   "cell_type": "code",
   "execution_count": 60,
   "metadata": {
    "ExecuteTime": {
     "end_time": "2022-02-28T16:28:15.581113Z",
     "start_time": "2022-02-28T16:28:15.567121Z"
    }
   },
   "outputs": [
    {
     "data": {
      "text/plain": [
       "2"
      ]
     },
     "execution_count": 60,
     "metadata": {},
     "output_type": "execute_result"
    }
   ],
   "source": [
    "# count 함수로 문자 개수 세기\n",
    "Intro.count('K')"
   ]
  },
  {
   "cell_type": "code",
   "execution_count": 61,
   "metadata": {
    "ExecuteTime": {
     "end_time": "2022-02-28T16:28:15.596044Z",
     "start_time": "2022-02-28T16:28:15.582081Z"
    }
   },
   "outputs": [
    {
     "data": {
      "text/plain": [
       "16"
      ]
     },
     "execution_count": 61,
     "metadata": {},
     "output_type": "execute_result"
    }
   ],
   "source": [
    "# find 함수로 위치 알 수 있음\n",
    "# Intro.find(1)\n",
    "Intro.find('1')"
   ]
  },
  {
   "cell_type": "code",
   "execution_count": 62,
   "metadata": {
    "ExecuteTime": {
     "end_time": "2022-02-28T16:28:15.612000Z",
     "start_time": "2022-02-28T16:28:15.598038Z"
    }
   },
   "outputs": [
    {
     "data": {
      "text/plain": [
       "-1"
      ]
     },
     "execution_count": 62,
     "metadata": {},
     "output_type": "execute_result"
    }
   ],
   "source": [
    "Intro.find('2')"
   ]
  },
  {
   "cell_type": "code",
   "execution_count": 63,
   "metadata": {
    "ExecuteTime": {
     "end_time": "2022-02-28T16:28:15.626960Z",
     "start_time": "2022-02-28T16:28:15.612998Z"
    }
   },
   "outputs": [
    {
     "data": {
      "text/plain": [
       "'MY NAME IS KK & 1.0'"
      ]
     },
     "execution_count": 63,
     "metadata": {},
     "output_type": "execute_result"
    }
   ],
   "source": [
    "# Upper / Lower 함수로 대소문자 변경 가능\n",
    "Intro.upper()"
   ]
  },
  {
   "cell_type": "code",
   "execution_count": 64,
   "metadata": {
    "ExecuteTime": {
     "end_time": "2022-02-28T16:28:15.641920Z",
     "start_time": "2022-02-28T16:28:15.627957Z"
    }
   },
   "outputs": [
    {
     "data": {
      "text/plain": [
       "'my name is kk & 1.0'"
      ]
     },
     "execution_count": 64,
     "metadata": {},
     "output_type": "execute_result"
    }
   ],
   "source": [
    "Intro.lower()"
   ]
  },
  {
   "cell_type": "code",
   "execution_count": 65,
   "metadata": {
    "ExecuteTime": {
     "end_time": "2022-02-28T16:28:15.657878Z",
     "start_time": "2022-02-28T16:28:15.643915Z"
    }
   },
   "outputs": [
    {
     "data": {
      "text/plain": [
       "'Your name is KK & 1.0'"
      ]
     },
     "execution_count": 65,
     "metadata": {},
     "output_type": "execute_result"
    }
   ],
   "source": [
    "# replace 함수로 문자열 바꾸기\n",
    "Intro.replace('My', 'Your')"
   ]
  },
  {
   "cell_type": "markdown",
   "metadata": {},
   "source": [
    "- **Question:** 아래 결과가 출력되도록 코딩하시오('매우'는 13번 등장함)\n",
    "\n",
    "```python\n",
    "파이썬은 매우매우매우매우매우매우매우매우매우매우매우매우매우 쉽다.\n",
    "```"
   ]
  },
  {
   "cell_type": "code",
   "execution_count": null,
   "metadata": {
    "ExecuteTime": {
     "end_time": "2021-10-05T07:36:36.127738Z",
     "start_time": "2021-10-05T07:36:36.121361Z"
    }
   },
   "outputs": [],
   "source": []
  },
  {
   "cell_type": "markdown",
   "metadata": {},
   "source": [
    "- **Question:** 아래 문장에서 슬라이싱을 통해 Trial and error와 ladder 단어를 추출하여 출력하시오\n",
    "\n",
    "```markdown\n",
    "'Trial and error' is a ladder that reaching for the truth.\n",
    "```"
   ]
  },
  {
   "cell_type": "code",
   "execution_count": null,
   "metadata": {
    "ExecuteTime": {
     "end_time": "2021-10-05T07:42:11.928464Z",
     "start_time": "2021-10-05T07:42:11.910085Z"
    }
   },
   "outputs": [],
   "source": []
  },
  {
   "cell_type": "markdown",
   "metadata": {},
   "source": [
    "## 리스트(Lists): 여러개의 값을 하나로 모아서 다룰 때 사용"
   ]
  },
  {
   "cell_type": "code",
   "execution_count": 66,
   "metadata": {
    "ExecuteTime": {
     "end_time": "2022-02-28T16:28:15.673835Z",
     "start_time": "2022-02-28T16:28:15.658876Z"
    }
   },
   "outputs": [
    {
     "data": {
      "text/plain": [
       "[1, 2, 3, 4, 5]"
      ]
     },
     "execution_count": 66,
     "metadata": {},
     "output_type": "execute_result"
    }
   ],
   "source": [
    "# 대괄호로 묶인 데이터를 리스트로 인식\n",
    "Collection = [1,2,3,4,5]\n",
    "Collection"
   ]
  },
  {
   "cell_type": "code",
   "execution_count": 67,
   "metadata": {
    "ExecuteTime": {
     "end_time": "2022-02-28T16:28:15.688795Z",
     "start_time": "2022-02-28T16:28:15.675830Z"
    }
   },
   "outputs": [
    {
     "data": {
      "text/plain": [
       "list"
      ]
     },
     "execution_count": 67,
     "metadata": {},
     "output_type": "execute_result"
    }
   ],
   "source": [
    "type(Collection)"
   ]
  },
  {
   "cell_type": "code",
   "execution_count": 68,
   "metadata": {
    "ExecuteTime": {
     "end_time": "2022-02-28T16:28:15.703755Z",
     "start_time": "2022-02-28T16:28:15.690790Z"
    }
   },
   "outputs": [
    {
     "name": "stdout",
     "output_type": "stream",
     "text": [
      "[10]\n"
     ]
    },
    {
     "data": {
      "text/plain": [
       "list"
      ]
     },
     "execution_count": 68,
     "metadata": {},
     "output_type": "execute_result"
    }
   ],
   "source": [
    "List1 = [10]\n",
    "print(List1)\n",
    "type(List1)"
   ]
  },
  {
   "cell_type": "code",
   "execution_count": 69,
   "metadata": {
    "ExecuteTime": {
     "end_time": "2022-02-28T16:28:15.718715Z",
     "start_time": "2022-02-28T16:28:15.704752Z"
    }
   },
   "outputs": [
    {
     "name": "stdout",
     "output_type": "stream",
     "text": [
      "[]\n"
     ]
    },
    {
     "data": {
      "text/plain": [
       "list"
      ]
     },
     "execution_count": 69,
     "metadata": {},
     "output_type": "execute_result"
    }
   ],
   "source": [
    "# 빈 리스트 생성\n",
    "List2 = []\n",
    "print(List2)\n",
    "type(List2)"
   ]
  },
  {
   "cell_type": "code",
   "execution_count": 70,
   "metadata": {
    "ExecuteTime": {
     "end_time": "2022-02-28T16:28:15.734672Z",
     "start_time": "2022-02-28T16:28:15.720710Z"
    }
   },
   "outputs": [
    {
     "data": {
      "text/plain": [
       "[[10], [], [1, 2, 3, 4, 5]]"
      ]
     },
     "execution_count": 70,
     "metadata": {},
     "output_type": "execute_result"
    }
   ],
   "source": [
    "# 리스트끼리 묶어서 차원을 늘릴 수도 있음\n",
    "Final = [List1, List2, Collection]\n",
    "Final"
   ]
  },
  {
   "cell_type": "code",
   "execution_count": 71,
   "metadata": {
    "ExecuteTime": {
     "end_time": "2022-02-28T16:28:15.750629Z",
     "start_time": "2022-02-28T16:28:15.736668Z"
    }
   },
   "outputs": [
    {
     "data": {
      "text/plain": [
       "list"
      ]
     },
     "execution_count": 71,
     "metadata": {},
     "output_type": "execute_result"
    }
   ],
   "source": [
    "type(Final)"
   ]
  },
  {
   "cell_type": "code",
   "execution_count": 72,
   "metadata": {
    "ExecuteTime": {
     "end_time": "2022-02-28T16:28:15.765589Z",
     "start_time": "2022-02-28T16:28:15.752625Z"
    }
   },
   "outputs": [
    {
     "data": {
      "text/plain": [
       "[10]"
      ]
     },
     "execution_count": 72,
     "metadata": {},
     "output_type": "execute_result"
    }
   ],
   "source": [
    "Final[0]    # 0번쨰 row"
   ]
  },
  {
   "cell_type": "code",
   "execution_count": 73,
   "metadata": {
    "ExecuteTime": {
     "end_time": "2022-02-28T16:28:15.780549Z",
     "start_time": "2022-02-28T16:28:15.766586Z"
    }
   },
   "outputs": [
    {
     "data": {
      "text/plain": [
       "[]"
      ]
     },
     "execution_count": 73,
     "metadata": {},
     "output_type": "execute_result"
    }
   ],
   "source": [
    "Final[1]    # 1번쨰 row"
   ]
  },
  {
   "cell_type": "code",
   "execution_count": 74,
   "metadata": {
    "ExecuteTime": {
     "end_time": "2022-02-28T16:28:15.796507Z",
     "start_time": "2022-02-28T16:28:15.782544Z"
    }
   },
   "outputs": [
    {
     "data": {
      "text/plain": [
       "[1, 2, 3, 4, 5]"
      ]
     },
     "execution_count": 74,
     "metadata": {},
     "output_type": "execute_result"
    }
   ],
   "source": [
    "Final[2]    # 2번쨰 row"
   ]
  },
  {
   "cell_type": "code",
   "execution_count": 75,
   "metadata": {
    "ExecuteTime": {
     "end_time": "2022-02-28T16:28:15.812464Z",
     "start_time": "2022-02-28T16:28:15.798502Z"
    }
   },
   "outputs": [
    {
     "data": {
      "text/plain": [
       "2"
      ]
     },
     "execution_count": 75,
     "metadata": {},
     "output_type": "execute_result"
    }
   ],
   "source": [
    "Final[2][1]    # 2번째 row에서 1번째 값"
   ]
  },
  {
   "cell_type": "code",
   "execution_count": 76,
   "metadata": {
    "ExecuteTime": {
     "end_time": "2022-02-28T16:28:15.827423Z",
     "start_time": "2022-02-28T16:28:15.813461Z"
    }
   },
   "outputs": [
    {
     "data": {
      "text/plain": [
       "5"
      ]
     },
     "execution_count": 76,
     "metadata": {},
     "output_type": "execute_result"
    }
   ],
   "source": [
    "Final[2][-1]    # 2번째 row에서 마지막 값"
   ]
  },
  {
   "cell_type": "code",
   "execution_count": 77,
   "metadata": {
    "ExecuteTime": {
     "end_time": "2022-02-28T16:28:15.843381Z",
     "start_time": "2022-02-28T16:28:15.829419Z"
    }
   },
   "outputs": [
    {
     "data": {
      "text/plain": [
       "[[10]]"
      ]
     },
     "execution_count": 77,
     "metadata": {},
     "output_type": "execute_result"
    }
   ],
   "source": [
    "Final[:1]    # [시작위치 이상: 끝위치 미만]"
   ]
  },
  {
   "cell_type": "code",
   "execution_count": 78,
   "metadata": {
    "ExecuteTime": {
     "end_time": "2022-02-28T16:28:15.858342Z",
     "start_time": "2022-02-28T16:28:15.845376Z"
    }
   },
   "outputs": [
    {
     "data": {
      "text/plain": [
       "[[10], [], [1, 2, 3, 4, 5]]"
      ]
     },
     "execution_count": 78,
     "metadata": {},
     "output_type": "execute_result"
    }
   ],
   "source": [
    "Final[:3]"
   ]
  },
  {
   "cell_type": "code",
   "execution_count": 79,
   "metadata": {
    "ExecuteTime": {
     "end_time": "2022-02-28T16:28:15.873301Z",
     "start_time": "2022-02-28T16:28:15.859339Z"
    }
   },
   "outputs": [
    {
     "data": {
      "text/plain": [
       "[[10], [], [1, 2, 3, 4, 5]]"
      ]
     },
     "execution_count": 79,
     "metadata": {},
     "output_type": "execute_result"
    }
   ],
   "source": [
    "Final[:5]"
   ]
  },
  {
   "cell_type": "code",
   "execution_count": 80,
   "metadata": {
    "ExecuteTime": {
     "end_time": "2022-02-28T16:28:15.888261Z",
     "start_time": "2022-02-28T16:28:15.875297Z"
    }
   },
   "outputs": [
    {
     "data": {
      "text/plain": [
       "[1, 2, 3]"
      ]
     },
     "execution_count": 80,
     "metadata": {},
     "output_type": "execute_result"
    }
   ],
   "source": [
    "Final[2][:3]"
   ]
  },
  {
   "cell_type": "code",
   "execution_count": 81,
   "metadata": {
    "ExecuteTime": {
     "end_time": "2022-02-28T16:28:15.903221Z",
     "start_time": "2022-02-28T16:28:15.889259Z"
    }
   },
   "outputs": [
    {
     "data": {
      "text/plain": [
       "[1, 2, 3, 4, 5]"
      ]
     },
     "execution_count": 81,
     "metadata": {},
     "output_type": "execute_result"
    }
   ],
   "source": [
    "Final[2]"
   ]
  },
  {
   "cell_type": "code",
   "execution_count": 82,
   "metadata": {
    "ExecuteTime": {
     "end_time": "2022-02-28T16:28:15.918181Z",
     "start_time": "2022-02-28T16:28:15.912197Z"
    }
   },
   "outputs": [
    {
     "data": {
      "text/plain": [
       "[1, 2, 3, 4, 5, 100]"
      ]
     },
     "execution_count": 82,
     "metadata": {},
     "output_type": "execute_result"
    }
   ],
   "source": [
    "# append 함수로 값을 추가 가능\n",
    "Final[2].append(100)\n",
    "Final[2]"
   ]
  },
  {
   "cell_type": "code",
   "execution_count": 83,
   "metadata": {
    "ExecuteTime": {
     "end_time": "2022-02-28T16:28:15.933141Z",
     "start_time": "2022-02-28T16:28:15.919179Z"
    }
   },
   "outputs": [
    {
     "data": {
      "text/plain": [
       "[[10], [], [1, 2, 3, 4, 5, 100]]"
      ]
     },
     "execution_count": 83,
     "metadata": {},
     "output_type": "execute_result"
    }
   ],
   "source": [
    "Final"
   ]
  },
  {
   "cell_type": "code",
   "execution_count": 84,
   "metadata": {
    "ExecuteTime": {
     "end_time": "2022-02-28T16:28:15.948101Z",
     "start_time": "2022-02-28T16:28:15.934138Z"
    }
   },
   "outputs": [
    {
     "data": {
      "text/plain": [
       "[1, 2, 3, 4, 5, 100, 1, 2, 3, 4, 5, 100]"
      ]
     },
     "execution_count": 84,
     "metadata": {},
     "output_type": "execute_result"
    }
   ],
   "source": [
    "# 더하기와 반복으로 쉽게 확장가능\n",
    "Final[2] + Final[2]"
   ]
  },
  {
   "cell_type": "code",
   "execution_count": 85,
   "metadata": {
    "ExecuteTime": {
     "end_time": "2022-02-28T16:28:15.963061Z",
     "start_time": "2022-02-28T16:28:15.950100Z"
    }
   },
   "outputs": [
    {
     "data": {
      "text/plain": [
       "[1, 2, 3, 4, 5, 100, 1, 2, 3, 4, 5, 100, 1, 2, 3, 4, 5, 100]"
      ]
     },
     "execution_count": 85,
     "metadata": {},
     "output_type": "execute_result"
    }
   ],
   "source": [
    "# 곱하기로 쉽게 확장가능\n",
    "Final[2] * 3"
   ]
  },
  {
   "cell_type": "code",
   "execution_count": 86,
   "metadata": {
    "ExecuteTime": {
     "end_time": "2022-02-28T16:28:15.979019Z",
     "start_time": "2022-02-28T16:28:15.964059Z"
    }
   },
   "outputs": [
    {
     "data": {
      "text/plain": [
       "3"
      ]
     },
     "execution_count": 86,
     "metadata": {},
     "output_type": "execute_result"
    }
   ],
   "source": [
    "# 길이를 구할때는 len 함수사용\n",
    "len(Final)"
   ]
  },
  {
   "cell_type": "code",
   "execution_count": 87,
   "metadata": {
    "ExecuteTime": {
     "end_time": "2022-02-28T16:28:15.993978Z",
     "start_time": "2022-02-28T16:28:15.980016Z"
    }
   },
   "outputs": [
    {
     "data": {
      "text/plain": [
       "6"
      ]
     },
     "execution_count": 87,
     "metadata": {},
     "output_type": "execute_result"
    }
   ],
   "source": [
    "len(Final[2])"
   ]
  },
  {
   "cell_type": "code",
   "execution_count": 88,
   "metadata": {
    "ExecuteTime": {
     "end_time": "2022-02-28T16:28:16.008938Z",
     "start_time": "2022-02-28T16:28:15.994977Z"
    }
   },
   "outputs": [
    {
     "data": {
      "text/plain": [
       "'1 First'"
      ]
     },
     "execution_count": 88,
     "metadata": {},
     "output_type": "execute_result"
    }
   ],
   "source": [
    "# 숫자를 문자와 붙이려면 형태를 문자로 맞춰야 함\n",
    "# Final[2][0] + ' First'\n",
    "str(Final[2][0]) + ' First'"
   ]
  },
  {
   "cell_type": "code",
   "execution_count": 89,
   "metadata": {
    "ExecuteTime": {
     "end_time": "2022-02-28T16:28:16.023898Z",
     "start_time": "2022-02-28T16:28:16.009936Z"
    }
   },
   "outputs": [
    {
     "data": {
      "text/plain": [
       "[1, 2, 3, 4, 5, 100]"
      ]
     },
     "execution_count": 89,
     "metadata": {},
     "output_type": "execute_result"
    }
   ],
   "source": [
    "Final[2]"
   ]
  },
  {
   "cell_type": "code",
   "execution_count": 90,
   "metadata": {
    "ExecuteTime": {
     "end_time": "2022-02-28T16:28:16.038858Z",
     "start_time": "2022-02-28T16:28:16.024896Z"
    }
   },
   "outputs": [
    {
     "data": {
      "text/plain": [
       "[[10], [], [100, 2, 3, 4, 5, 100]]"
      ]
     },
     "execution_count": 90,
     "metadata": {},
     "output_type": "execute_result"
    }
   ],
   "source": [
    "# 값의 수정은 대입으로 가능\n",
    "Final[2][0] = 100\n",
    "Final"
   ]
  },
  {
   "cell_type": "code",
   "execution_count": 91,
   "metadata": {
    "ExecuteTime": {
     "end_time": "2022-02-28T16:28:16.053817Z",
     "start_time": "2022-02-28T16:28:16.039856Z"
    }
   },
   "outputs": [
    {
     "data": {
      "text/plain": [
       "[[10], [], [100, 2, 3, 4, 5]]"
      ]
     },
     "execution_count": 91,
     "metadata": {},
     "output_type": "execute_result"
    }
   ],
   "source": [
    "# 값의 삭제는 del 함수 사용\n",
    "del Final[2][-1]\n",
    "Final"
   ]
  },
  {
   "cell_type": "code",
   "execution_count": 92,
   "metadata": {
    "ExecuteTime": {
     "end_time": "2022-02-28T16:28:16.068778Z",
     "start_time": "2022-02-28T16:28:16.054816Z"
    }
   },
   "outputs": [],
   "source": [
    "# 값의 추가\n",
    "Final.append(111)"
   ]
  },
  {
   "cell_type": "code",
   "execution_count": 93,
   "metadata": {
    "ExecuteTime": {
     "end_time": "2022-02-28T16:28:16.084736Z",
     "start_time": "2022-02-28T16:28:16.069776Z"
    }
   },
   "outputs": [
    {
     "data": {
      "text/plain": [
       "[[10], [], [100, 2, 3, 4, 5], 111]"
      ]
     },
     "execution_count": 93,
     "metadata": {},
     "output_type": "execute_result"
    }
   ],
   "source": [
    "Final"
   ]
  },
  {
   "cell_type": "code",
   "execution_count": 94,
   "metadata": {
    "ExecuteTime": {
     "end_time": "2022-02-28T16:28:16.099696Z",
     "start_time": "2022-02-28T16:28:16.086734Z"
    }
   },
   "outputs": [
    {
     "data": {
      "text/plain": [
       "[[10], [], [2, 3, 4, 5, 100], 111]"
      ]
     },
     "execution_count": 94,
     "metadata": {},
     "output_type": "execute_result"
    }
   ],
   "source": [
    "# 정렬하기\n",
    "# 같은 유형의 값으로만 들어있어야 비교가 가능하고 정렬이 됨\n",
    "Final[2].sort()\n",
    "Final"
   ]
  },
  {
   "cell_type": "code",
   "execution_count": 95,
   "metadata": {
    "ExecuteTime": {
     "end_time": "2022-02-28T16:28:16.114655Z",
     "start_time": "2022-02-28T16:28:16.100693Z"
    }
   },
   "outputs": [
    {
     "data": {
      "text/plain": [
       "[[10], [], [100, 5, 4, 3, 2], 111]"
      ]
     },
     "execution_count": 95,
     "metadata": {},
     "output_type": "execute_result"
    }
   ],
   "source": [
    "# 역순정렬\n",
    "Final[2].reverse()\n",
    "Final"
   ]
  },
  {
   "cell_type": "code",
   "execution_count": 96,
   "metadata": {
    "ExecuteTime": {
     "end_time": "2022-02-28T16:28:16.129615Z",
     "start_time": "2022-02-28T16:28:16.115670Z"
    }
   },
   "outputs": [
    {
     "data": {
      "text/plain": [
       "3"
      ]
     },
     "execution_count": 96,
     "metadata": {},
     "output_type": "execute_result"
    }
   ],
   "source": [
    "# 위치 반환\n",
    "Final.index(111)"
   ]
  },
  {
   "cell_type": "code",
   "execution_count": 97,
   "metadata": {
    "ExecuteTime": {
     "end_time": "2022-02-28T16:28:16.144575Z",
     "start_time": "2022-02-28T16:28:16.130613Z"
    }
   },
   "outputs": [
    {
     "data": {
      "text/plain": [
       "0"
      ]
     },
     "execution_count": 97,
     "metadata": {},
     "output_type": "execute_result"
    }
   ],
   "source": [
    "Final.index([10])"
   ]
  },
  {
   "cell_type": "code",
   "execution_count": 98,
   "metadata": {
    "ExecuteTime": {
     "end_time": "2022-02-28T16:28:16.159536Z",
     "start_time": "2022-02-28T16:28:16.145573Z"
    }
   },
   "outputs": [
    {
     "data": {
      "text/plain": [
       "[100, 5, 4, 3, 2]"
      ]
     },
     "execution_count": 98,
     "metadata": {},
     "output_type": "execute_result"
    }
   ],
   "source": [
    "Final[2]"
   ]
  },
  {
   "cell_type": "code",
   "execution_count": 99,
   "metadata": {
    "ExecuteTime": {
     "end_time": "2022-02-28T16:28:16.174523Z",
     "start_time": "2022-02-28T16:28:16.160533Z"
    }
   },
   "outputs": [
    {
     "data": {
      "text/plain": [
       "[[10], [], [100, 6, 5, 4, 3, 2], 111]"
      ]
     },
     "execution_count": 99,
     "metadata": {},
     "output_type": "execute_result"
    }
   ],
   "source": [
    "# a번째 위치에 b를 추가하는건 insert(a,b) 사용\n",
    "Final[2].insert(1,6)\n",
    "Final"
   ]
  },
  {
   "cell_type": "code",
   "execution_count": 100,
   "metadata": {
    "ExecuteTime": {
     "end_time": "2022-02-28T16:28:16.189483Z",
     "start_time": "2022-02-28T16:28:16.175537Z"
    }
   },
   "outputs": [
    {
     "data": {
      "text/plain": [
       "[[10], [], [100, 6, 6, 5, 4, 3, 2], 111]"
      ]
     },
     "execution_count": 100,
     "metadata": {},
     "output_type": "execute_result"
    }
   ],
   "source": [
    "Final[2].insert(1,6)\n",
    "Final"
   ]
  },
  {
   "cell_type": "code",
   "execution_count": 101,
   "metadata": {
    "ExecuteTime": {
     "end_time": "2022-02-28T16:28:16.204446Z",
     "start_time": "2022-02-28T16:28:16.190489Z"
    }
   },
   "outputs": [
    {
     "data": {
      "text/plain": [
       "[[10], [], [100, 6, 6, 5, 4, 6, 3, 2], 111]"
      ]
     },
     "execution_count": 101,
     "metadata": {},
     "output_type": "execute_result"
    }
   ],
   "source": [
    "Final[2].insert(5,6)\n",
    "Final"
   ]
  },
  {
   "cell_type": "code",
   "execution_count": 102,
   "metadata": {
    "ExecuteTime": {
     "end_time": "2022-02-28T16:28:16.219403Z",
     "start_time": "2022-02-28T16:28:16.205412Z"
    }
   },
   "outputs": [
    {
     "data": {
      "text/plain": [
       "[[10], [], [100, 6, 5, 4, 6, 3, 2], 111]"
      ]
     },
     "execution_count": 102,
     "metadata": {},
     "output_type": "execute_result"
    }
   ],
   "source": [
    "# 값의 삭제\n",
    "# 여러개일 경우 맨 처음 나오는 한개만 삭제\n",
    "Final[2].remove(6)\n",
    "Final"
   ]
  },
  {
   "cell_type": "code",
   "execution_count": 103,
   "metadata": {
    "ExecuteTime": {
     "end_time": "2022-02-28T16:28:16.234336Z",
     "start_time": "2022-02-28T16:28:16.220373Z"
    }
   },
   "outputs": [
    {
     "data": {
      "text/plain": [
       "2"
      ]
     },
     "execution_count": 103,
     "metadata": {},
     "output_type": "execute_result"
    }
   ],
   "source": [
    "# 특정 값의 개수 세기\n",
    "Final[2].count(6)"
   ]
  },
  {
   "cell_type": "code",
   "execution_count": 104,
   "metadata": {
    "ExecuteTime": {
     "end_time": "2022-02-28T16:28:16.249295Z",
     "start_time": "2022-02-28T16:28:16.236332Z"
    }
   },
   "outputs": [
    {
     "data": {
      "text/plain": [
       "[[10], [], [100, 6, 5, 4, 6, 3, 2, 1, 2, 3], 111]"
      ]
     },
     "execution_count": 104,
     "metadata": {},
     "output_type": "execute_result"
    }
   ],
   "source": [
    "# append는 값의 추가이며 extend는 리스트 확장\n",
    "Final[2].extend([1,2,3])\n",
    "Final"
   ]
  },
  {
   "cell_type": "code",
   "execution_count": 105,
   "metadata": {
    "ExecuteTime": {
     "end_time": "2022-02-28T16:28:16.264256Z",
     "start_time": "2022-02-28T16:28:16.250321Z"
    }
   },
   "outputs": [
    {
     "data": {
      "text/plain": [
       "[[10], [], [100, 6, 5, 4, 6, 3, 2, 1, 2, 3, [1, 2, 3]], 111]"
      ]
     },
     "execution_count": 105,
     "metadata": {},
     "output_type": "execute_result"
    }
   ],
   "source": [
    "Final[2].append([1,2,3])\n",
    "Final"
   ]
  },
  {
   "cell_type": "code",
   "execution_count": 106,
   "metadata": {
    "ExecuteTime": {
     "end_time": "2022-02-28T16:28:16.279239Z",
     "start_time": "2022-02-28T16:28:16.266251Z"
    }
   },
   "outputs": [
    {
     "data": {
      "text/plain": [
       "[[10], [], [100, 6, 5, 4, 6, 3, 2, 1, 2, 3, [1, 2, 3], 1], 111]"
      ]
     },
     "execution_count": 106,
     "metadata": {},
     "output_type": "execute_result"
    }
   ],
   "source": [
    "Final[2].append(1)\n",
    "Final"
   ]
  },
  {
   "cell_type": "code",
   "execution_count": 107,
   "metadata": {
    "ExecuteTime": {
     "end_time": "2022-02-28T16:28:16.294175Z",
     "start_time": "2022-02-28T16:28:16.280212Z"
    }
   },
   "outputs": [],
   "source": [
    "# Final[2].append(1,2)"
   ]
  },
  {
   "cell_type": "markdown",
   "metadata": {},
   "source": [
    "## 튜플(Tuples): 리스트와 유사하나 순서와 값의 변경 불가\n",
    "\n",
    "- 리스트는 값의 생성/삭제/수정이 가능하지만 저장된 값이 쉽게 바뀔수 있는 단점\n",
    "- 리스트는 **`[ ]`**, 튜플은 **`( )`** 기호를 사용하여 형태를 구분\n",
    "- 튜플은 값의 생성/삭제/수정이 불가하지만 그외 기능은 리스트와 동일\n",
    "- 인덱스/인덱싱/슬라이싱/연산 등은 모두 가능\n",
    "\n",
    "```python\n",
    "()    # 빈 튜플\n",
    "('a',)    # 값이 1개인 튜플이며 콤마는 필수!\n",
    "('a', 'b', 'c')    # 값이 3개인 튜플\n",
    "'a', 'b', 'c'    # 위와 동일하게 인식\n",
    "```"
   ]
  },
  {
   "cell_type": "code",
   "execution_count": 108,
   "metadata": {
    "ExecuteTime": {
     "end_time": "2022-02-28T16:28:16.309135Z",
     "start_time": "2022-02-28T16:28:16.295173Z"
    }
   },
   "outputs": [
    {
     "data": {
      "text/plain": [
       "list"
      ]
     },
     "execution_count": 108,
     "metadata": {},
     "output_type": "execute_result"
    }
   ],
   "source": [
    "KK = [1,2]\n",
    "type(KK)"
   ]
  },
  {
   "cell_type": "code",
   "execution_count": 109,
   "metadata": {
    "ExecuteTime": {
     "end_time": "2022-02-28T16:28:16.324125Z",
     "start_time": "2022-02-28T16:28:16.310133Z"
    }
   },
   "outputs": [
    {
     "data": {
      "text/plain": [
       "tuple"
      ]
     },
     "execution_count": 109,
     "metadata": {},
     "output_type": "execute_result"
    }
   ],
   "source": [
    "KK = (1,2)\n",
    "type(KK)"
   ]
  },
  {
   "cell_type": "code",
   "execution_count": 110,
   "metadata": {
    "ExecuteTime": {
     "end_time": "2022-02-28T16:28:16.339085Z",
     "start_time": "2022-02-28T16:28:16.325111Z"
    }
   },
   "outputs": [
    {
     "data": {
      "text/plain": [
       "tuple"
      ]
     },
     "execution_count": 110,
     "metadata": {},
     "output_type": "execute_result"
    }
   ],
   "source": [
    "# 문자 숫자 결합된 튜플 가능\n",
    "KK = ('a', 'b', 100)\n",
    "type(KK)"
   ]
  },
  {
   "cell_type": "code",
   "execution_count": 111,
   "metadata": {
    "ExecuteTime": {
     "end_time": "2022-02-28T16:28:16.354015Z",
     "start_time": "2022-02-28T16:28:16.340080Z"
    }
   },
   "outputs": [
    {
     "data": {
      "text/plain": [
       "('a', 'b', 100)"
      ]
     },
     "execution_count": 111,
     "metadata": {},
     "output_type": "execute_result"
    }
   ],
   "source": [
    "KK"
   ]
  },
  {
   "cell_type": "code",
   "execution_count": 112,
   "metadata": {
    "ExecuteTime": {
     "end_time": "2022-02-28T16:28:16.368975Z",
     "start_time": "2022-02-28T16:28:16.356010Z"
    }
   },
   "outputs": [
    {
     "data": {
      "text/plain": [
       "tuple"
      ]
     },
     "execution_count": 112,
     "metadata": {},
     "output_type": "execute_result"
    }
   ],
   "source": [
    "# 반 튜플 생성\n",
    "KK_test = ()\n",
    "type(KK_test)"
   ]
  },
  {
   "cell_type": "code",
   "execution_count": 113,
   "metadata": {
    "ExecuteTime": {
     "end_time": "2022-02-28T16:28:16.383936Z",
     "start_time": "2022-02-28T16:28:16.369973Z"
    }
   },
   "outputs": [
    {
     "data": {
      "text/plain": [
       "()"
      ]
     },
     "execution_count": 113,
     "metadata": {},
     "output_type": "execute_result"
    }
   ],
   "source": [
    "KK_test"
   ]
  },
  {
   "cell_type": "code",
   "execution_count": 114,
   "metadata": {
    "ExecuteTime": {
     "end_time": "2022-02-28T16:28:16.398895Z",
     "start_time": "2022-02-28T16:28:16.384933Z"
    }
   },
   "outputs": [],
   "source": [
    "# 리스트와 마찬가지로 값의 추출 및 연산으로 확장 가능"
   ]
  },
  {
   "cell_type": "code",
   "execution_count": 115,
   "metadata": {
    "ExecuteTime": {
     "end_time": "2022-02-28T16:28:16.413855Z",
     "start_time": "2022-02-28T16:28:16.399892Z"
    }
   },
   "outputs": [
    {
     "data": {
      "text/plain": [
       "('a', 'b')"
      ]
     },
     "execution_count": 115,
     "metadata": {},
     "output_type": "execute_result"
    }
   ],
   "source": [
    "KK[:2]"
   ]
  },
  {
   "cell_type": "code",
   "execution_count": 116,
   "metadata": {
    "ExecuteTime": {
     "end_time": "2022-02-28T16:28:16.428814Z",
     "start_time": "2022-02-28T16:28:16.414852Z"
    }
   },
   "outputs": [
    {
     "data": {
      "text/plain": [
       "('b', 100)"
      ]
     },
     "execution_count": 116,
     "metadata": {},
     "output_type": "execute_result"
    }
   ],
   "source": [
    "KK[1:]"
   ]
  },
  {
   "cell_type": "code",
   "execution_count": 117,
   "metadata": {
    "ExecuteTime": {
     "end_time": "2022-02-28T16:28:16.443774Z",
     "start_time": "2022-02-28T16:28:16.429812Z"
    }
   },
   "outputs": [
    {
     "data": {
      "text/plain": [
       "('b', 100, 'b', 100, 'b', 100)"
      ]
     },
     "execution_count": 117,
     "metadata": {},
     "output_type": "execute_result"
    }
   ],
   "source": [
    "KK[1:]*3"
   ]
  },
  {
   "cell_type": "markdown",
   "metadata": {},
   "source": [
    "## 집합(Sets): 중복없는 값이나 값을 비교할 떄 사용"
   ]
  },
  {
   "cell_type": "code",
   "execution_count": 118,
   "metadata": {
    "ExecuteTime": {
     "end_time": "2022-02-28T16:28:16.458735Z",
     "start_time": "2022-02-28T16:28:16.444772Z"
    }
   },
   "outputs": [
    {
     "data": {
      "text/plain": [
       "{1, 2, 3, 4, 5}"
      ]
     },
     "execution_count": 118,
     "metadata": {},
     "output_type": "execute_result"
    }
   ],
   "source": [
    "# 중복되지 않은 값들을 추출\n",
    "left = set([1,2,3,5,4,3,2,1])\n",
    "left"
   ]
  },
  {
   "cell_type": "code",
   "execution_count": 119,
   "metadata": {
    "ExecuteTime": {
     "end_time": "2022-02-28T16:28:16.473694Z",
     "start_time": "2022-02-28T16:28:16.459733Z"
    }
   },
   "outputs": [
    {
     "data": {
      "text/plain": [
       "set"
      ]
     },
     "execution_count": 119,
     "metadata": {},
     "output_type": "execute_result"
    }
   ],
   "source": [
    "type(left)"
   ]
  },
  {
   "cell_type": "code",
   "execution_count": 120,
   "metadata": {
    "ExecuteTime": {
     "end_time": "2022-02-28T16:28:16.488654Z",
     "start_time": "2022-02-28T16:28:16.474692Z"
    }
   },
   "outputs": [
    {
     "data": {
      "text/plain": [
       "{4, 5, 6, 7}"
      ]
     },
     "execution_count": 120,
     "metadata": {},
     "output_type": "execute_result"
    }
   ],
   "source": [
    "right = set([4,5,6,7,6,5,4])\n",
    "right"
   ]
  },
  {
   "cell_type": "code",
   "execution_count": 121,
   "metadata": {
    "ExecuteTime": {
     "end_time": "2022-02-28T16:28:16.503614Z",
     "start_time": "2022-02-28T16:28:16.489653Z"
    }
   },
   "outputs": [
    {
     "name": "stdout",
     "output_type": "stream",
     "text": [
      "{1, 2, 3, 4, 5} {4, 5, 6, 7}\n"
     ]
    }
   ],
   "source": [
    "print(left, right)"
   ]
  },
  {
   "cell_type": "code",
   "execution_count": 122,
   "metadata": {
    "ExecuteTime": {
     "end_time": "2022-02-28T16:28:16.518575Z",
     "start_time": "2022-02-28T16:28:16.504612Z"
    }
   },
   "outputs": [
    {
     "data": {
      "text/plain": [
       "{4, 5}"
      ]
     },
     "execution_count": 122,
     "metadata": {},
     "output_type": "execute_result"
    }
   ],
   "source": [
    "# 교집합, 합집합, 차집합 계산 가능\n",
    "left & right"
   ]
  },
  {
   "cell_type": "code",
   "execution_count": 123,
   "metadata": {
    "ExecuteTime": {
     "end_time": "2022-02-28T16:28:16.533566Z",
     "start_time": "2022-02-28T16:28:16.519572Z"
    }
   },
   "outputs": [
    {
     "data": {
      "text/plain": [
       "{4, 5}"
      ]
     },
     "execution_count": 123,
     "metadata": {},
     "output_type": "execute_result"
    }
   ],
   "source": [
    "left.intersection(right)"
   ]
  },
  {
   "cell_type": "code",
   "execution_count": 124,
   "metadata": {
    "ExecuteTime": {
     "end_time": "2022-02-28T16:28:16.548522Z",
     "start_time": "2022-02-28T16:28:16.534559Z"
    }
   },
   "outputs": [
    {
     "data": {
      "text/plain": [
       "{1, 2, 3, 4, 5, 6, 7}"
      ]
     },
     "execution_count": 124,
     "metadata": {},
     "output_type": "execute_result"
    }
   ],
   "source": [
    "left | right"
   ]
  },
  {
   "cell_type": "code",
   "execution_count": 125,
   "metadata": {
    "ExecuteTime": {
     "end_time": "2022-02-28T16:28:16.563485Z",
     "start_time": "2022-02-28T16:28:16.549493Z"
    }
   },
   "outputs": [
    {
     "data": {
      "text/plain": [
       "{1, 2, 3, 4, 5, 6, 7}"
      ]
     },
     "execution_count": 125,
     "metadata": {},
     "output_type": "execute_result"
    }
   ],
   "source": [
    "left.union(right)"
   ]
  },
  {
   "cell_type": "code",
   "execution_count": 126,
   "metadata": {
    "ExecuteTime": {
     "end_time": "2022-02-28T16:28:16.578440Z",
     "start_time": "2022-02-28T16:28:16.564480Z"
    }
   },
   "outputs": [
    {
     "data": {
      "text/plain": [
       "{1, 2, 3}"
      ]
     },
     "execution_count": 126,
     "metadata": {},
     "output_type": "execute_result"
    }
   ],
   "source": [
    "left - right"
   ]
  },
  {
   "cell_type": "code",
   "execution_count": 127,
   "metadata": {
    "ExecuteTime": {
     "end_time": "2022-02-28T16:28:16.593402Z",
     "start_time": "2022-02-28T16:28:16.579412Z"
    }
   },
   "outputs": [
    {
     "data": {
      "text/plain": [
       "{6, 7}"
      ]
     },
     "execution_count": 127,
     "metadata": {},
     "output_type": "execute_result"
    }
   ],
   "source": [
    "right - left"
   ]
  },
  {
   "cell_type": "code",
   "execution_count": 128,
   "metadata": {
    "ExecuteTime": {
     "end_time": "2022-02-28T16:28:16.608363Z",
     "start_time": "2022-02-28T16:28:16.594403Z"
    }
   },
   "outputs": [
    {
     "data": {
      "text/plain": [
       "{1, 2, 3}"
      ]
     },
     "execution_count": 128,
     "metadata": {},
     "output_type": "execute_result"
    }
   ],
   "source": [
    "left.difference(right)"
   ]
  },
  {
   "cell_type": "code",
   "execution_count": 129,
   "metadata": {
    "ExecuteTime": {
     "end_time": "2022-02-28T16:28:16.623324Z",
     "start_time": "2022-02-28T16:28:16.609332Z"
    }
   },
   "outputs": [
    {
     "data": {
      "text/plain": [
       "{6, 7}"
      ]
     },
     "execution_count": 129,
     "metadata": {},
     "output_type": "execute_result"
    }
   ],
   "source": [
    "right.difference(left)"
   ]
  },
  {
   "cell_type": "code",
   "execution_count": 130,
   "metadata": {
    "ExecuteTime": {
     "end_time": "2022-02-28T16:28:16.638282Z",
     "start_time": "2022-02-28T16:28:16.624324Z"
    }
   },
   "outputs": [
    {
     "data": {
      "text/plain": [
       "{1, 2, 3, 4, 5}"
      ]
     },
     "execution_count": 130,
     "metadata": {},
     "output_type": "execute_result"
    }
   ],
   "source": [
    "left"
   ]
  },
  {
   "cell_type": "code",
   "execution_count": 131,
   "metadata": {
    "ExecuteTime": {
     "end_time": "2022-02-28T16:28:16.653245Z",
     "start_time": "2022-02-28T16:28:16.639280Z"
    }
   },
   "outputs": [
    {
     "data": {
      "text/plain": [
       "{1, 2, 3, 4, 5, 6}"
      ]
     },
     "execution_count": 131,
     "metadata": {},
     "output_type": "execute_result"
    }
   ],
   "source": [
    "# add 함수로 신규 값 추가 가능\n",
    "left.add(6)\n",
    "left"
   ]
  },
  {
   "cell_type": "code",
   "execution_count": 132,
   "metadata": {
    "ExecuteTime": {
     "end_time": "2022-02-28T16:28:16.668206Z",
     "start_time": "2022-02-28T16:28:16.654212Z"
    }
   },
   "outputs": [
    {
     "data": {
      "text/plain": [
       "{1, 2, 3, 4, 5, 6}"
      ]
     },
     "execution_count": 132,
     "metadata": {},
     "output_type": "execute_result"
    }
   ],
   "source": [
    "left.add(6)\n",
    "left"
   ]
  },
  {
   "cell_type": "code",
   "execution_count": 133,
   "metadata": {
    "ExecuteTime": {
     "end_time": "2022-02-28T16:28:16.683135Z",
     "start_time": "2022-02-28T16:28:16.669172Z"
    }
   },
   "outputs": [
    {
     "data": {
      "text/plain": [
       "{2, 3, 4, 5, 6}"
      ]
     },
     "execution_count": 133,
     "metadata": {},
     "output_type": "execute_result"
    }
   ],
   "source": [
    "# remove 함수로 기존 값 삭제 가능\n",
    "left.remove(1)\n",
    "left"
   ]
  },
  {
   "cell_type": "code",
   "execution_count": 134,
   "metadata": {
    "ExecuteTime": {
     "end_time": "2022-02-28T16:28:16.698095Z",
     "start_time": "2022-02-28T16:28:16.685130Z"
    }
   },
   "outputs": [
    {
     "data": {
      "text/plain": [
       "{1, 2, 3, 4, 5, 6, 7}"
      ]
     },
     "execution_count": 134,
     "metadata": {},
     "output_type": "execute_result"
    }
   ],
   "source": [
    "# update 함수로 신규 값 추가 가능\n",
    "left.update([1,7])\n",
    "left"
   ]
  },
  {
   "cell_type": "code",
   "execution_count": 135,
   "metadata": {
    "ExecuteTime": {
     "end_time": "2022-02-28T16:28:16.713087Z",
     "start_time": "2022-02-28T16:28:16.700089Z"
    }
   },
   "outputs": [],
   "source": [
    "# 값의 순서가 없는 자료형태이기 때문에 인덱싱으로 값에 접근하려면 리스트나 튜플로 변환해야 함\n",
    "# left[0]"
   ]
  },
  {
   "cell_type": "code",
   "execution_count": 136,
   "metadata": {
    "ExecuteTime": {
     "end_time": "2022-02-28T16:28:16.728042Z",
     "start_time": "2022-02-28T16:28:16.714052Z"
    }
   },
   "outputs": [
    {
     "data": {
      "text/plain": [
       "[4, 5, 6, 1, 7]"
      ]
     },
     "execution_count": 136,
     "metadata": {},
     "output_type": "execute_result"
    }
   ],
   "source": [
    "list(left)[2:]"
   ]
  },
  {
   "cell_type": "code",
   "execution_count": 137,
   "metadata": {
    "ExecuteTime": {
     "end_time": "2022-02-28T16:28:16.743005Z",
     "start_time": "2022-02-28T16:28:16.729011Z"
    }
   },
   "outputs": [
    {
     "data": {
      "text/plain": [
       "(4, 5, 6, 1, 7)"
      ]
     },
     "execution_count": 137,
     "metadata": {},
     "output_type": "execute_result"
    }
   ],
   "source": [
    "tuple(left)[2:]"
   ]
  },
  {
   "cell_type": "markdown",
   "metadata": {},
   "source": [
    "## 딕셔너리(Dictionaries): 짝으로 이루어진 값을 표현할 때 사용\n",
    "\n",
    "- 중괄호기호 **`{ }`** 로 값을 묶어서 형태를 구분\n",
    "- 값은 따옴표 **`Key:Value`** 를 기준으로 키(Key)와 자료(Value)를 묶어서 생성\n",
    "- **Key:** 왼쪽에 있는 키는 데이터의 **`열쇠`** 와 같은 기능\n",
    "> - Key는 변할수 없도록 지정하고 있어서, 변하지 않는 자료형만 사용이 가능\n",
    "> - 리스트는 사용 불가하지만 튜플을 사용 가능\n",
    "- **Value:** 오른쪽에 있는 값은 **`Key`** 로 꺼낼수 있는 지정된 자료\n",
    "> - Key 값이 같은 Value가 2개 이상 있으면 마지막 Value만 Key에 대응되어 저장"
   ]
  },
  {
   "cell_type": "code",
   "execution_count": 138,
   "metadata": {
    "ExecuteTime": {
     "end_time": "2022-02-28T16:28:16.757965Z",
     "start_time": "2022-02-28T16:28:16.744000Z"
    }
   },
   "outputs": [
    {
     "data": {
      "text/plain": [
       "{'Name': 'KK',\n",
       " 'Age': 100,\n",
       " 'Birth': '1104',\n",
       " 'Phone': '010-0000-0000',\n",
       " '1': 'test'}"
      ]
     },
     "execution_count": 138,
     "metadata": {},
     "output_type": "execute_result"
    }
   ],
   "source": [
    "# {키1:값1, 키2:값2, 키3:값3, ...}\n",
    "Teacher = {'Name':'KK', 'Age':100, 'Birth':'1104', 'Phone':'010-0000-0000', '1':'test'}\n",
    "Teacher"
   ]
  },
  {
   "cell_type": "code",
   "execution_count": 139,
   "metadata": {
    "ExecuteTime": {
     "end_time": "2022-02-28T16:28:16.772921Z",
     "start_time": "2022-02-28T16:28:16.758932Z"
    }
   },
   "outputs": [
    {
     "data": {
      "text/plain": [
       "{'Name': ['KK', 'WW'],\n",
       " 'Age': 100,\n",
       " 'Birth': '1104',\n",
       " 'Phone': '010-0000-0000',\n",
       " '1': 'test'}"
      ]
     },
     "execution_count": 139,
     "metadata": {},
     "output_type": "execute_result"
    }
   ],
   "source": [
    "Teacher2 = {'Name':['KK', 'WW'], 'Age':100, 'Birth':'1104', 'Phone':'010-0000-0000', '1':'test'}\n",
    "Teacher2"
   ]
  },
  {
   "cell_type": "markdown",
   "metadata": {},
   "source": [
    "- 함수의 입력값이 많아질때 별도로 처리해서 한꺼번에 입력\n",
    "- 2차원 이상의 데이터를 표현"
   ]
  },
  {
   "cell_type": "code",
   "execution_count": 140,
   "metadata": {
    "ExecuteTime": {
     "end_time": "2022-02-28T16:28:17.237650Z",
     "start_time": "2022-02-28T16:28:16.773892Z"
    }
   },
   "outputs": [
    {
     "data": {
      "text/html": [
       "<div>\n",
       "<style scoped>\n",
       "    .dataframe tbody tr th:only-of-type {\n",
       "        vertical-align: middle;\n",
       "    }\n",
       "\n",
       "    .dataframe tbody tr th {\n",
       "        vertical-align: top;\n",
       "    }\n",
       "\n",
       "    .dataframe thead th {\n",
       "        text-align: right;\n",
       "    }\n",
       "</style>\n",
       "<table border=\"1\" class=\"dataframe\">\n",
       "  <thead>\n",
       "    <tr style=\"text-align: right;\">\n",
       "      <th></th>\n",
       "      <th>Example</th>\n",
       "    </tr>\n",
       "  </thead>\n",
       "  <tbody>\n",
       "    <tr>\n",
       "      <th>Name</th>\n",
       "      <td>KK</td>\n",
       "    </tr>\n",
       "    <tr>\n",
       "      <th>Age</th>\n",
       "      <td>100</td>\n",
       "    </tr>\n",
       "    <tr>\n",
       "      <th>Birth</th>\n",
       "      <td>1104</td>\n",
       "    </tr>\n",
       "    <tr>\n",
       "      <th>Phone</th>\n",
       "      <td>010-0000-0000</td>\n",
       "    </tr>\n",
       "    <tr>\n",
       "      <th>1</th>\n",
       "      <td>test</td>\n",
       "    </tr>\n",
       "  </tbody>\n",
       "</table>\n",
       "</div>"
      ],
      "text/plain": [
       "             Example\n",
       "Name              KK\n",
       "Age              100\n",
       "Birth           1104\n",
       "Phone  010-0000-0000\n",
       "1               test"
      ]
     },
     "execution_count": 140,
     "metadata": {},
     "output_type": "execute_result"
    }
   ],
   "source": [
    "import pandas as pd\n",
    "\n",
    "pd.DataFrame.from_dict(Teacher, orient='index', columns=['Example'])"
   ]
  },
  {
   "cell_type": "code",
   "execution_count": 141,
   "metadata": {
    "ExecuteTime": {
     "end_time": "2022-02-28T16:28:17.252611Z",
     "start_time": "2022-02-28T16:28:17.238649Z"
    }
   },
   "outputs": [
    {
     "data": {
      "text/html": [
       "<div>\n",
       "<style scoped>\n",
       "    .dataframe tbody tr th:only-of-type {\n",
       "        vertical-align: middle;\n",
       "    }\n",
       "\n",
       "    .dataframe tbody tr th {\n",
       "        vertical-align: top;\n",
       "    }\n",
       "\n",
       "    .dataframe thead th {\n",
       "        text-align: right;\n",
       "    }\n",
       "</style>\n",
       "<table border=\"1\" class=\"dataframe\">\n",
       "  <thead>\n",
       "    <tr style=\"text-align: right;\">\n",
       "      <th></th>\n",
       "      <th>Name</th>\n",
       "      <th>Age</th>\n",
       "      <th>Birth</th>\n",
       "      <th>Phone</th>\n",
       "      <th>1</th>\n",
       "    </tr>\n",
       "  </thead>\n",
       "  <tbody>\n",
       "    <tr>\n",
       "      <th>Example</th>\n",
       "      <td>KK</td>\n",
       "      <td>100</td>\n",
       "      <td>1104</td>\n",
       "      <td>010-0000-0000</td>\n",
       "      <td>test</td>\n",
       "    </tr>\n",
       "  </tbody>\n",
       "</table>\n",
       "</div>"
      ],
      "text/plain": [
       "        Name  Age Birth          Phone     1\n",
       "Example   KK  100  1104  010-0000-0000  test"
      ]
     },
     "execution_count": 141,
     "metadata": {},
     "output_type": "execute_result"
    }
   ],
   "source": [
    "pd.DataFrame.from_dict(Teacher, orient='index', columns=['Example']).T"
   ]
  },
  {
   "cell_type": "code",
   "execution_count": 142,
   "metadata": {
    "ExecuteTime": {
     "end_time": "2022-02-28T16:28:17.267602Z",
     "start_time": "2022-02-28T16:28:17.253607Z"
    }
   },
   "outputs": [
    {
     "data": {
      "text/plain": [
       "{'Name': 'KK',\n",
       " 'Age': 100,\n",
       " 'Birth': '1104',\n",
       " 'Phone': '010-0000-0000',\n",
       " 1: 'test2'}"
      ]
     },
     "execution_count": 142,
     "metadata": {},
     "output_type": "execute_result"
    }
   ],
   "source": [
    "# 동일한 key가 2개 존재할 경우 이전 입력값은 무시됨\n",
    "Teacher = {'Name':'KK', 'Age':100, 'Birth':'1104', 'Phone':'010-0000-0000', 1:'test', 1:'test2'}\n",
    "Teacher"
   ]
  },
  {
   "cell_type": "code",
   "execution_count": 143,
   "metadata": {
    "ExecuteTime": {
     "end_time": "2022-02-28T16:28:17.282558Z",
     "start_time": "2022-02-28T16:28:17.268569Z"
    }
   },
   "outputs": [],
   "source": [
    "# Teacher = {'Name':'KK', 'Age':100, 'Birth':'1104', 'Phone':'010-0000-0000', 1:'test', [1]:'test2'}\n",
    "# Teacher"
   ]
  },
  {
   "cell_type": "code",
   "execution_count": 144,
   "metadata": {
    "ExecuteTime": {
     "end_time": "2022-02-28T16:28:17.297518Z",
     "start_time": "2022-02-28T16:28:17.283528Z"
    }
   },
   "outputs": [
    {
     "data": {
      "text/plain": [
       "{'Name': 'KK',\n",
       " 'Age': 100,\n",
       " 'Birth': '1104',\n",
       " 'Phone': '010-0000-0000',\n",
       " 1: 'test2',\n",
       " 'Hobby': None}"
      ]
     },
     "execution_count": 144,
     "metadata": {},
     "output_type": "execute_result"
    }
   ],
   "source": [
    "# key 값을 추가하면 쉽게 데이터 반영\n",
    "# dict[키] = 값\n",
    "Teacher['Hobby'] = None\n",
    "Teacher"
   ]
  },
  {
   "cell_type": "code",
   "execution_count": 145,
   "metadata": {
    "ExecuteTime": {
     "end_time": "2022-02-28T16:28:17.312481Z",
     "start_time": "2022-02-28T16:28:17.298516Z"
    }
   },
   "outputs": [
    {
     "data": {
      "text/plain": [
       "dict"
      ]
     },
     "execution_count": 145,
     "metadata": {},
     "output_type": "execute_result"
    }
   ],
   "source": [
    "type(Teacher)"
   ]
  },
  {
   "cell_type": "code",
   "execution_count": 146,
   "metadata": {
    "ExecuteTime": {
     "end_time": "2022-02-28T16:28:17.327410Z",
     "start_time": "2022-02-28T16:28:17.313448Z"
    }
   },
   "outputs": [
    {
     "data": {
      "text/plain": [
       "'KK'"
      ]
     },
     "execution_count": 146,
     "metadata": {},
     "output_type": "execute_result"
    }
   ],
   "source": [
    "Teacher['Name']"
   ]
  },
  {
   "cell_type": "code",
   "execution_count": 147,
   "metadata": {
    "ExecuteTime": {
     "end_time": "2022-02-28T16:28:17.342401Z",
     "start_time": "2022-02-28T16:28:17.328451Z"
    }
   },
   "outputs": [
    {
     "data": {
      "text/plain": [
       "'test2'"
      ]
     },
     "execution_count": 147,
     "metadata": {},
     "output_type": "execute_result"
    }
   ],
   "source": [
    "Teacher[1]"
   ]
  },
  {
   "cell_type": "code",
   "execution_count": 148,
   "metadata": {
    "ExecuteTime": {
     "end_time": "2022-02-28T16:28:17.357331Z",
     "start_time": "2022-02-28T16:28:17.343406Z"
    }
   },
   "outputs": [
    {
     "data": {
      "text/plain": [
       "dict_keys(['Name', 'Age', 'Birth', 'Phone', 1, 'Hobby'])"
      ]
     },
     "execution_count": 148,
     "metadata": {},
     "output_type": "execute_result"
    }
   ],
   "source": [
    "# key, value 값만 추출하기\n",
    "Teacher.keys()"
   ]
  },
  {
   "cell_type": "code",
   "execution_count": 149,
   "metadata": {
    "ExecuteTime": {
     "end_time": "2022-02-28T16:28:17.372290Z",
     "start_time": "2022-02-28T16:28:17.358356Z"
    }
   },
   "outputs": [
    {
     "data": {
      "text/plain": [
       "dict_values(['KK', 100, '1104', '010-0000-0000', 'test2', None])"
      ]
     },
     "execution_count": 149,
     "metadata": {},
     "output_type": "execute_result"
    }
   ],
   "source": [
    "Teacher.values()"
   ]
  },
  {
   "cell_type": "code",
   "execution_count": 150,
   "metadata": {
    "ExecuteTime": {
     "end_time": "2022-02-28T16:28:17.387280Z",
     "start_time": "2022-02-28T16:28:17.373288Z"
    }
   },
   "outputs": [
    {
     "data": {
      "text/plain": [
       "dict_items([('Name', 'KK'), ('Age', 100), ('Birth', '1104'), ('Phone', '010-0000-0000'), (1, 'test2'), ('Hobby', None)])"
      ]
     },
     "execution_count": 150,
     "metadata": {},
     "output_type": "execute_result"
    }
   ],
   "source": [
    "Teacher.items()"
   ]
  },
  {
   "cell_type": "code",
   "execution_count": 151,
   "metadata": {
    "ExecuteTime": {
     "end_time": "2022-02-28T16:28:17.402238Z",
     "start_time": "2022-02-28T16:28:17.388279Z"
    }
   },
   "outputs": [
    {
     "data": {
      "text/plain": [
       "dict_keys(['Name', 'Age', 'Birth', 'Phone', 1, 'Hobby'])"
      ]
     },
     "execution_count": 151,
     "metadata": {},
     "output_type": "execute_result"
    }
   ],
   "source": [
    "Teacher.keys()"
   ]
  },
  {
   "cell_type": "code",
   "execution_count": 152,
   "metadata": {
    "ExecuteTime": {
     "end_time": "2022-02-28T16:28:17.417205Z",
     "start_time": "2022-02-28T16:28:17.403208Z"
    }
   },
   "outputs": [
    {
     "data": {
      "text/plain": [
       "['Name', 'Age', 'Birth', 'Phone', 1, 'Hobby']"
      ]
     },
     "execution_count": 152,
     "metadata": {},
     "output_type": "execute_result"
    }
   ],
   "source": [
    "list(Teacher.keys())"
   ]
  },
  {
   "cell_type": "code",
   "execution_count": 153,
   "metadata": {
    "ExecuteTime": {
     "end_time": "2022-02-28T16:28:17.432158Z",
     "start_time": "2022-02-28T16:28:17.418168Z"
    }
   },
   "outputs": [
    {
     "data": {
      "text/plain": [
       "True"
      ]
     },
     "execution_count": 153,
     "metadata": {},
     "output_type": "execute_result"
    }
   ],
   "source": [
    "# 영어어순의 in 전치사로 key 존재(포함)여부 확인\n",
    "'Name' in Teacher"
   ]
  },
  {
   "cell_type": "code",
   "execution_count": 154,
   "metadata": {
    "ExecuteTime": {
     "end_time": "2022-02-28T16:28:17.447119Z",
     "start_time": "2022-02-28T16:28:17.433127Z"
    }
   },
   "outputs": [
    {
     "data": {
      "text/plain": [
       "False"
      ]
     },
     "execution_count": 154,
     "metadata": {},
     "output_type": "execute_result"
    }
   ],
   "source": [
    "'Email' in Teacher"
   ]
  },
  {
   "cell_type": "code",
   "execution_count": 155,
   "metadata": {
    "ExecuteTime": {
     "end_time": "2022-02-28T16:28:17.463047Z",
     "start_time": "2022-02-28T16:28:17.448087Z"
    }
   },
   "outputs": [
    {
     "data": {
      "text/plain": [
       "{'Age': 100,\n",
       " 'Birth': '1104',\n",
       " 'Phone': '010-0000-0000',\n",
       " 1: 'test2',\n",
       " 'Hobby': None}"
      ]
     },
     "execution_count": 155,
     "metadata": {},
     "output_type": "execute_result"
    }
   ],
   "source": [
    "# 딕셔너리 자료 삭제\n",
    "del Teacher['Name']\n",
    "Teacher"
   ]
  },
  {
   "cell_type": "code",
   "execution_count": 156,
   "metadata": {
    "ExecuteTime": {
     "end_time": "2022-02-28T16:28:17.478036Z",
     "start_time": "2022-02-28T16:28:17.464045Z"
    }
   },
   "outputs": [
    {
     "data": {
      "text/plain": [
       "{}"
      ]
     },
     "execution_count": 156,
     "metadata": {},
     "output_type": "execute_result"
    }
   ],
   "source": [
    "# 딕셔너리 삭제\n",
    "Teacher.clear()\n",
    "Teacher"
   ]
  },
  {
   "cell_type": "markdown",
   "metadata": {},
   "source": [
    "# 파이썬에서 데이터의 형태 변환\n",
    "\n",
    "**1. 파이썬 정수 변환:** int()     \n",
    "**2. 파이썬 실수 변환:** float()     \n",
    "**3. 파이썬 불리언 변환:** bool()     \n",
    "**4. 파이썬 문자열 변환:** str()     \n",
    "**5. 파이썬 리스트/튜플/집합/딕셔너리 변환:** list()/tuple()/set()/dict()     "
   ]
  },
  {
   "cell_type": "markdown",
   "metadata": {},
   "source": [
    "## 숫자로 변환(Int)\n",
    "\n",
    "> 입력값을 정수형으로 변환\n",
    "> - int(숫자)\n",
    "> - int(불리언)\n",
    "> - int(계산식)\n",
    "> - int('문자열')"
   ]
  },
  {
   "cell_type": "code",
   "execution_count": 157,
   "metadata": {
    "ExecuteTime": {
     "end_time": "2022-02-28T16:28:17.493002Z",
     "start_time": "2022-02-28T16:28:17.479005Z"
    }
   },
   "outputs": [
    {
     "data": {
      "text/plain": [
       "10"
      ]
     },
     "execution_count": 157,
     "metadata": {},
     "output_type": "execute_result"
    }
   ],
   "source": [
    "int(10)"
   ]
  },
  {
   "cell_type": "code",
   "execution_count": 158,
   "metadata": {
    "ExecuteTime": {
     "end_time": "2022-02-28T16:28:17.507955Z",
     "start_time": "2022-02-28T16:28:17.493964Z"
    }
   },
   "outputs": [
    {
     "data": {
      "text/plain": [
       "3"
      ]
     },
     "execution_count": 158,
     "metadata": {},
     "output_type": "execute_result"
    }
   ],
   "source": [
    "# 3.141592 정수로 변환\n",
    "int(3.141592)"
   ]
  },
  {
   "cell_type": "code",
   "execution_count": 159,
   "metadata": {
    "ExecuteTime": {
     "end_time": "2022-02-28T16:28:17.522919Z",
     "start_time": "2022-02-28T16:28:17.508925Z"
    }
   },
   "outputs": [
    {
     "data": {
      "text/plain": [
       "1"
      ]
     },
     "execution_count": 159,
     "metadata": {},
     "output_type": "execute_result"
    }
   ],
   "source": [
    "# True 정수로 변환\n",
    "int(True)"
   ]
  },
  {
   "cell_type": "code",
   "execution_count": 160,
   "metadata": {
    "ExecuteTime": {
     "end_time": "2022-02-28T16:28:17.537875Z",
     "start_time": "2022-02-28T16:28:17.523913Z"
    }
   },
   "outputs": [
    {
     "data": {
      "text/plain": [
       "2"
      ]
     },
     "execution_count": 160,
     "metadata": {},
     "output_type": "execute_result"
    }
   ],
   "source": [
    "# 5를 2로 나누고 정수로 변환\n",
    "int(5/2)"
   ]
  },
  {
   "cell_type": "code",
   "execution_count": 161,
   "metadata": {
    "ExecuteTime": {
     "end_time": "2022-02-28T16:28:17.552807Z",
     "start_time": "2022-02-28T16:28:17.538874Z"
    }
   },
   "outputs": [
    {
     "data": {
      "text/plain": [
       "10"
      ]
     },
     "execution_count": 161,
     "metadata": {},
     "output_type": "execute_result"
    }
   ],
   "source": [
    "# 숫자형태의 문자 10을 정수로 변환\n",
    "int('10')"
   ]
  },
  {
   "cell_type": "code",
   "execution_count": 162,
   "metadata": {
    "ExecuteTime": {
     "end_time": "2022-02-28T16:28:17.567767Z",
     "start_time": "2022-02-28T16:28:17.553832Z"
    }
   },
   "outputs": [],
   "source": [
    "# 문자는 기본적으로 정수 변환 불가\n",
    "# int('KK')"
   ]
  },
  {
   "cell_type": "markdown",
   "metadata": {},
   "source": [
    "## 실수로 변환(Float)\n",
    "\n",
    "> 입력값을 실수형으로 변환\n",
    "> - float(숫자)\n",
    "> - float(불리언)\n",
    "> - float(계산식)\n",
    "> - float('문자열')"
   ]
  },
  {
   "cell_type": "code",
   "execution_count": 163,
   "metadata": {
    "ExecuteTime": {
     "end_time": "2022-02-28T16:28:17.582754Z",
     "start_time": "2022-02-28T16:28:17.568793Z"
    }
   },
   "outputs": [
    {
     "data": {
      "text/plain": [
       "5.0"
      ]
     },
     "execution_count": 163,
     "metadata": {},
     "output_type": "execute_result"
    }
   ],
   "source": [
    "float(5)"
   ]
  },
  {
   "cell_type": "code",
   "execution_count": 164,
   "metadata": {
    "ExecuteTime": {
     "end_time": "2022-02-28T16:28:17.597687Z",
     "start_time": "2022-02-28T16:28:17.583758Z"
    }
   },
   "outputs": [
    {
     "data": {
      "text/plain": [
       "3.141592"
      ]
     },
     "execution_count": 164,
     "metadata": {},
     "output_type": "execute_result"
    }
   ],
   "source": [
    "# 3.141592 실수로 변환\n",
    "float(3.141592)"
   ]
  },
  {
   "cell_type": "code",
   "execution_count": 165,
   "metadata": {
    "ExecuteTime": {
     "end_time": "2022-02-28T16:28:17.612646Z",
     "start_time": "2022-02-28T16:28:17.598685Z"
    }
   },
   "outputs": [
    {
     "data": {
      "text/plain": [
       "0.0"
      ]
     },
     "execution_count": 165,
     "metadata": {},
     "output_type": "execute_result"
    }
   ],
   "source": [
    "# False 실수로 변환\n",
    "float(False)"
   ]
  },
  {
   "cell_type": "code",
   "execution_count": 166,
   "metadata": {
    "ExecuteTime": {
     "end_time": "2022-02-28T16:28:17.627607Z",
     "start_time": "2022-02-28T16:28:17.613645Z"
    }
   },
   "outputs": [
    {
     "data": {
      "text/plain": [
       "1.0"
      ]
     },
     "execution_count": 166,
     "metadata": {},
     "output_type": "execute_result"
    }
   ],
   "source": [
    "# True 실수로 변환\n",
    "float(True)"
   ]
  },
  {
   "cell_type": "code",
   "execution_count": 167,
   "metadata": {
    "ExecuteTime": {
     "end_time": "2022-02-28T16:28:17.642566Z",
     "start_time": "2022-02-28T16:28:17.628605Z"
    }
   },
   "outputs": [
    {
     "data": {
      "text/plain": [
       "3.0"
      ]
     },
     "execution_count": 167,
     "metadata": {},
     "output_type": "execute_result"
    }
   ],
   "source": [
    "# 1 + 2 연산 후 실수로 변환\n",
    "float(1 + 2)"
   ]
  },
  {
   "cell_type": "code",
   "execution_count": 168,
   "metadata": {
    "ExecuteTime": {
     "end_time": "2022-02-28T16:28:17.657526Z",
     "start_time": "2022-02-28T16:28:17.643565Z"
    }
   },
   "outputs": [
    {
     "data": {
      "text/plain": [
       "5.3"
      ]
     },
     "execution_count": 168,
     "metadata": {},
     "output_type": "execute_result"
    }
   ],
   "source": [
    "# 숫자형태의 문자를 실수로 변환\n",
    "float('5.3')"
   ]
  },
  {
   "cell_type": "code",
   "execution_count": 169,
   "metadata": {
    "ExecuteTime": {
     "end_time": "2022-02-28T16:28:17.672486Z",
     "start_time": "2022-02-28T16:28:17.658525Z"
    }
   },
   "outputs": [],
   "source": [
    "# 문자는 기본적으로 실수 변환 불가\n",
    "# float('KK')"
   ]
  },
  {
   "cell_type": "markdown",
   "metadata": {},
   "source": [
    "## 불리언으로 변환(Bool)\n",
    "\n",
    "> 입력값을 불리언형으로 변환(숫자의 경우 0인이 여부, 문자의 경우 비어있는지 여부)\n",
    "> - bool(숫자)\n",
    "> - bool(불리언)\n",
    "> - bool(계산식)\n",
    "> - bool('문자열')"
   ]
  },
  {
   "cell_type": "code",
   "execution_count": 170,
   "metadata": {
    "ExecuteTime": {
     "end_time": "2022-02-28T16:28:17.687446Z",
     "start_time": "2022-02-28T16:28:17.673484Z"
    }
   },
   "outputs": [
    {
     "data": {
      "text/plain": [
       "True"
      ]
     },
     "execution_count": 170,
     "metadata": {},
     "output_type": "execute_result"
    }
   ],
   "source": [
    "bool(54)"
   ]
  },
  {
   "cell_type": "code",
   "execution_count": 171,
   "metadata": {
    "ExecuteTime": {
     "end_time": "2022-02-28T16:28:17.702435Z",
     "start_time": "2022-02-28T16:28:17.688445Z"
    }
   },
   "outputs": [
    {
     "data": {
      "text/plain": [
       "False"
      ]
     },
     "execution_count": 171,
     "metadata": {},
     "output_type": "execute_result"
    }
   ],
   "source": [
    "# 0을 불리언으로 변환\n",
    "bool(0)"
   ]
  },
  {
   "cell_type": "code",
   "execution_count": 172,
   "metadata": {
    "ExecuteTime": {
     "end_time": "2022-02-28T16:28:17.717394Z",
     "start_time": "2022-02-28T16:28:17.703430Z"
    }
   },
   "outputs": [
    {
     "data": {
      "text/plain": [
       "True"
      ]
     },
     "execution_count": 172,
     "metadata": {},
     "output_type": "execute_result"
    }
   ],
   "source": [
    "# 3.141592 불리언으로 변환\n",
    "bool(3.141592)"
   ]
  },
  {
   "cell_type": "code",
   "execution_count": 173,
   "metadata": {
    "ExecuteTime": {
     "end_time": "2022-02-28T16:28:17.732354Z",
     "start_time": "2022-02-28T16:28:17.718365Z"
    }
   },
   "outputs": [
    {
     "data": {
      "text/plain": [
       "False"
      ]
     },
     "execution_count": 173,
     "metadata": {},
     "output_type": "execute_result"
    }
   ],
   "source": [
    "# 0.00 불리언으로 변환\n",
    "bool(0.00)"
   ]
  },
  {
   "cell_type": "code",
   "execution_count": 174,
   "metadata": {
    "ExecuteTime": {
     "end_time": "2022-02-28T16:28:17.747315Z",
     "start_time": "2022-02-28T16:28:17.733352Z"
    }
   },
   "outputs": [
    {
     "data": {
      "text/plain": [
       "False"
      ]
     },
     "execution_count": 174,
     "metadata": {},
     "output_type": "execute_result"
    }
   ],
   "source": [
    "# 1-1 연산결과 불리언으로 변환\n",
    "bool(1-1)"
   ]
  },
  {
   "cell_type": "code",
   "execution_count": 175,
   "metadata": {
    "ExecuteTime": {
     "end_time": "2022-02-28T16:28:17.762275Z",
     "start_time": "2022-02-28T16:28:17.748314Z"
    }
   },
   "outputs": [
    {
     "data": {
      "text/plain": [
       "True"
      ]
     },
     "execution_count": 175,
     "metadata": {},
     "output_type": "execute_result"
    }
   ],
   "source": [
    "# 1-2 연산결과 불리언으로 변환\n",
    "bool(1-2)"
   ]
  },
  {
   "cell_type": "code",
   "execution_count": 176,
   "metadata": {
    "ExecuteTime": {
     "end_time": "2022-02-28T16:28:17.777206Z",
     "start_time": "2022-02-28T16:28:17.763272Z"
    }
   },
   "outputs": [
    {
     "data": {
      "text/plain": [
       "True"
      ]
     },
     "execution_count": 176,
     "metadata": {},
     "output_type": "execute_result"
    }
   ],
   "source": [
    "# 2-1 연산결과 불리언으로 변환\n",
    "bool(2-1)"
   ]
  },
  {
   "cell_type": "code",
   "execution_count": 177,
   "metadata": {
    "ExecuteTime": {
     "end_time": "2022-02-28T16:28:17.792195Z",
     "start_time": "2022-02-28T16:28:17.778204Z"
    }
   },
   "outputs": [
    {
     "data": {
      "text/plain": [
       "True"
      ]
     },
     "execution_count": 177,
     "metadata": {},
     "output_type": "execute_result"
    }
   ],
   "source": [
    "# True 불리언으로 변환\n",
    "bool(True)"
   ]
  },
  {
   "cell_type": "code",
   "execution_count": 178,
   "metadata": {
    "ExecuteTime": {
     "end_time": "2022-02-28T16:28:17.807128Z",
     "start_time": "2022-02-28T16:28:17.793164Z"
    }
   },
   "outputs": [
    {
     "data": {
      "text/plain": [
       "True"
      ]
     },
     "execution_count": 178,
     "metadata": {},
     "output_type": "execute_result"
    }
   ],
   "source": [
    "# KK 문자 불리언으로 변환\n",
    "bool('KK')"
   ]
  },
  {
   "cell_type": "code",
   "execution_count": 179,
   "metadata": {
    "ExecuteTime": {
     "end_time": "2022-02-28T16:28:17.822087Z",
     "start_time": "2022-02-28T16:28:17.809121Z"
    }
   },
   "outputs": [
    {
     "data": {
      "text/plain": [
       "False"
      ]
     },
     "execution_count": 179,
     "metadata": {},
     "output_type": "execute_result"
    }
   ],
   "source": [
    "# 빈문자 불리언으로 변환\n",
    "bool('')"
   ]
  },
  {
   "cell_type": "code",
   "execution_count": 180,
   "metadata": {
    "ExecuteTime": {
     "end_time": "2022-02-28T16:28:17.837047Z",
     "start_time": "2022-02-28T16:28:17.823123Z"
    }
   },
   "outputs": [
    {
     "data": {
      "text/plain": [
       "True"
      ]
     },
     "execution_count": 180,
     "metadata": {},
     "output_type": "execute_result"
    }
   ],
   "source": [
    "# 공백문자 불리언으로 변환\n",
    "bool(' ')"
   ]
  },
  {
   "cell_type": "markdown",
   "metadata": {},
   "source": [
    "## 문자열로 변환(Str)\n",
    "\n",
    "> 입력값을 문자열형으로 변환\n",
    "> - str(숫자)\n",
    "> - str(불리언)\n",
    "> - str(계산식)\n",
    "> - str('문자열')"
   ]
  },
  {
   "cell_type": "code",
   "execution_count": 181,
   "metadata": {
    "ExecuteTime": {
     "end_time": "2022-02-28T16:28:17.852034Z",
     "start_time": "2022-02-28T16:28:17.838045Z"
    }
   },
   "outputs": [
    {
     "data": {
      "text/plain": [
       "'10'"
      ]
     },
     "execution_count": 181,
     "metadata": {},
     "output_type": "execute_result"
    }
   ],
   "source": [
    "# 숫자를 문자열로 변환\n",
    "str(10)"
   ]
  },
  {
   "cell_type": "code",
   "execution_count": 182,
   "metadata": {
    "ExecuteTime": {
     "end_time": "2022-02-28T16:28:17.866967Z",
     "start_time": "2022-02-28T16:28:17.853004Z"
    }
   },
   "outputs": [
    {
     "data": {
      "text/plain": [
       "'3.141592'"
      ]
     },
     "execution_count": 182,
     "metadata": {},
     "output_type": "execute_result"
    }
   ],
   "source": [
    "# 3.141592 문자열로 변환\n",
    "str(3.141592)"
   ]
  },
  {
   "cell_type": "code",
   "execution_count": 183,
   "metadata": {
    "ExecuteTime": {
     "end_time": "2022-02-28T16:28:17.881958Z",
     "start_time": "2022-02-28T16:28:17.867994Z"
    }
   },
   "outputs": [
    {
     "data": {
      "text/plain": [
       "'True'"
      ]
     },
     "execution_count": 183,
     "metadata": {},
     "output_type": "execute_result"
    }
   ],
   "source": [
    "# True를 문자열로 변환\n",
    "str(True)"
   ]
  },
  {
   "cell_type": "code",
   "execution_count": 184,
   "metadata": {
    "ExecuteTime": {
     "end_time": "2022-02-28T16:28:17.897912Z",
     "start_time": "2022-02-28T16:28:17.882924Z"
    }
   },
   "outputs": [
    {
     "data": {
      "text/plain": [
       "'False'"
      ]
     },
     "execution_count": 184,
     "metadata": {},
     "output_type": "execute_result"
    }
   ],
   "source": [
    "# False를 문자열로 변환\n",
    "str(False)"
   ]
  },
  {
   "cell_type": "code",
   "execution_count": 185,
   "metadata": {
    "ExecuteTime": {
     "end_time": "2022-02-28T16:28:17.912871Z",
     "start_time": "2022-02-28T16:28:17.898886Z"
    }
   },
   "outputs": [
    {
     "data": {
      "text/plain": [
       "'2'"
      ]
     },
     "execution_count": 185,
     "metadata": {},
     "output_type": "execute_result"
    }
   ],
   "source": [
    "# 숫자형태 문자 2를 문자열로 변환\n",
    "str('2')"
   ]
  },
  {
   "cell_type": "code",
   "execution_count": 186,
   "metadata": {
    "ExecuteTime": {
     "end_time": "2022-02-28T16:28:17.927834Z",
     "start_time": "2022-02-28T16:28:17.913870Z"
    }
   },
   "outputs": [
    {
     "data": {
      "text/plain": [
       "'KK'"
      ]
     },
     "execution_count": 186,
     "metadata": {},
     "output_type": "execute_result"
    }
   ],
   "source": [
    "# 문자 KK 문자열로 변환\n",
    "str('KK')"
   ]
  },
  {
   "cell_type": "markdown",
   "metadata": {},
   "source": [
    "## 리스트/튜플/집합/딕셔너리 변환"
   ]
  },
  {
   "cell_type": "code",
   "execution_count": 187,
   "metadata": {
    "ExecuteTime": {
     "end_time": "2022-02-28T16:28:17.942764Z",
     "start_time": "2022-02-28T16:28:17.928831Z"
    }
   },
   "outputs": [
    {
     "data": {
      "text/plain": [
       "[1, 2]"
      ]
     },
     "execution_count": 187,
     "metadata": {},
     "output_type": "execute_result"
    }
   ],
   "source": [
    "# (1,2) 튜플을 리스트로 변환\n",
    "list((1,2))"
   ]
  },
  {
   "cell_type": "code",
   "execution_count": 188,
   "metadata": {
    "ExecuteTime": {
     "end_time": "2022-02-28T16:28:17.957723Z",
     "start_time": "2022-02-28T16:28:17.943761Z"
    }
   },
   "outputs": [
    {
     "data": {
      "text/plain": [
       "(1, 2)"
      ]
     },
     "execution_count": 188,
     "metadata": {},
     "output_type": "execute_result"
    }
   ],
   "source": [
    "# [1,2] 리스트를 튜플로 변환\n",
    "tuple([1,2])"
   ]
  },
  {
   "cell_type": "code",
   "execution_count": 189,
   "metadata": {
    "ExecuteTime": {
     "end_time": "2022-02-28T16:28:17.972683Z",
     "start_time": "2022-02-28T16:28:17.958721Z"
    }
   },
   "outputs": [
    {
     "data": {
      "text/plain": [
       "{1, 2}"
      ]
     },
     "execution_count": 189,
     "metadata": {},
     "output_type": "execute_result"
    }
   ],
   "source": [
    "# [1,2,2] 리스트를 집합으로 변환\n",
    "set([1,2,2])"
   ]
  },
  {
   "cell_type": "code",
   "execution_count": 190,
   "metadata": {
    "ExecuteTime": {
     "end_time": "2022-02-28T16:28:17.987644Z",
     "start_time": "2022-02-28T16:28:17.973680Z"
    }
   },
   "outputs": [
    {
     "data": {
      "text/plain": [
       "{1: 2, 3: 4}"
      ]
     },
     "execution_count": 190,
     "metadata": {},
     "output_type": "execute_result"
    }
   ],
   "source": [
    "# [[1,2],[3,4]] 리스트를 딕셔너리로 변환\n",
    "dict([[1,2],[3,4]])"
   ]
  },
  {
   "cell_type": "code",
   "execution_count": 191,
   "metadata": {
    "ExecuteTime": {
     "end_time": "2022-02-28T16:28:18.002603Z",
     "start_time": "2022-02-28T16:28:17.988641Z"
    }
   },
   "outputs": [
    {
     "data": {
      "text/plain": [
       "dict"
      ]
     },
     "execution_count": 191,
     "metadata": {},
     "output_type": "execute_result"
    }
   ],
   "source": [
    "x = {\"a\":1,\"b\":2,\"c\":3}\n",
    "type(x)"
   ]
  },
  {
   "cell_type": "code",
   "execution_count": 192,
   "metadata": {
    "ExecuteTime": {
     "end_time": "2022-02-28T16:28:18.017588Z",
     "start_time": "2022-02-28T16:28:18.003600Z"
    }
   },
   "outputs": [
    {
     "data": {
      "text/plain": [
       "{'a': 1, 'b': 2, 'c': 3}"
      ]
     },
     "execution_count": 192,
     "metadata": {},
     "output_type": "execute_result"
    }
   ],
   "source": [
    "x"
   ]
  },
  {
   "cell_type": "code",
   "execution_count": 193,
   "metadata": {
    "ExecuteTime": {
     "end_time": "2022-02-28T16:28:18.032524Z",
     "start_time": "2022-02-28T16:28:18.018561Z"
    }
   },
   "outputs": [
    {
     "data": {
      "text/plain": [
       "['a', 'b', 'c']"
      ]
     },
     "execution_count": 193,
     "metadata": {},
     "output_type": "execute_result"
    }
   ],
   "source": [
    "# x 딕셔너리를 리스트로 변환\n",
    "list(x)"
   ]
  },
  {
   "cell_type": "code",
   "execution_count": 194,
   "metadata": {
    "ExecuteTime": {
     "end_time": "2022-02-28T16:28:18.047514Z",
     "start_time": "2022-02-28T16:28:18.033553Z"
    }
   },
   "outputs": [
    {
     "data": {
      "text/plain": [
       "[('a', 1), ('b', 2), ('c', 3)]"
      ]
     },
     "execution_count": 194,
     "metadata": {},
     "output_type": "execute_result"
    }
   ],
   "source": [
    "# x 딕셔너리를 튜플기반 리스트로 변환\n",
    "temp = []\n",
    "for i in x:\n",
    "    temp.append((i, x[i]))\n",
    "    \n",
    "temp"
   ]
  },
  {
   "cell_type": "code",
   "execution_count": 195,
   "metadata": {
    "ExecuteTime": {
     "end_time": "2022-02-28T16:28:18.062470Z",
     "start_time": "2022-02-28T16:28:18.048481Z"
    }
   },
   "outputs": [
    {
     "data": {
      "text/plain": [
       "list"
      ]
     },
     "execution_count": 195,
     "metadata": {},
     "output_type": "execute_result"
    }
   ],
   "source": [
    "y = [(i,x[i]) for i in x]\n",
    "type(y)"
   ]
  },
  {
   "cell_type": "code",
   "execution_count": 196,
   "metadata": {
    "ExecuteTime": {
     "end_time": "2022-02-28T16:28:18.077427Z",
     "start_time": "2022-02-28T16:28:18.063476Z"
    }
   },
   "outputs": [
    {
     "data": {
      "text/plain": [
       "[('a', 1), ('b', 2), ('c', 3)]"
      ]
     },
     "execution_count": 196,
     "metadata": {},
     "output_type": "execute_result"
    }
   ],
   "source": [
    "y"
   ]
  },
  {
   "cell_type": "code",
   "execution_count": 197,
   "metadata": {
    "ExecuteTime": {
     "end_time": "2022-02-28T16:28:18.092388Z",
     "start_time": "2022-02-28T16:28:18.078423Z"
    }
   },
   "outputs": [
    {
     "data": {
      "text/plain": [
       "dict"
      ]
     },
     "execution_count": 197,
     "metadata": {},
     "output_type": "execute_result"
    }
   ],
   "source": [
    "z = {i:j for i,j in y}\n",
    "type(z)"
   ]
  },
  {
   "cell_type": "code",
   "execution_count": 198,
   "metadata": {
    "ExecuteTime": {
     "end_time": "2022-02-28T16:28:18.107347Z",
     "start_time": "2022-02-28T16:28:18.093361Z"
    }
   },
   "outputs": [
    {
     "data": {
      "text/plain": [
       "{'a': 1, 'b': 2, 'c': 3}"
      ]
     },
     "execution_count": 198,
     "metadata": {},
     "output_type": "execute_result"
    }
   ],
   "source": [
    "z"
   ]
  },
  {
   "cell_type": "code",
   "execution_count": 199,
   "metadata": {
    "ExecuteTime": {
     "end_time": "2022-02-28T16:28:18.122310Z",
     "start_time": "2022-02-28T16:28:18.108348Z"
    }
   },
   "outputs": [
    {
     "data": {
      "text/plain": [
       "(1+0j)"
      ]
     },
     "execution_count": 199,
     "metadata": {},
     "output_type": "execute_result"
    }
   ],
   "source": [
    "# True 불리언을 복소수로 변환\n",
    "complex(True)"
   ]
  },
  {
   "cell_type": "markdown",
   "metadata": {},
   "source": [
    "# 파이썬이 사용하는 연산의 형태\n",
    "\n",
    "- **목적:** 실제 생활에서 사람이 생각(f)하는 사칙연산과 수리적 로직을 파이썬 방식으로 이해\n",
    "> - **산술연산자(Arithmetic Operator)**\n",
    "> - **할당연산자(Assignment Operator)**\n",
    "> - **비교연산자(Comparison Operator)**\n",
    "> - **논리연산자(Logical Operator)**\n",
    "> - **식별연산자(Identity Operator)**\n",
    "> - **멤버연산자(Menbership Operator)**"
   ]
  },
  {
   "cell_type": "markdown",
   "metadata": {},
   "source": [
    "## 산술연산자(Arithmetic Operator): 수학 연산을 위해 사용\n",
    "\n",
    "| 산술연산자 |  기능  |\n",
    "|:----------:|:------:|\n",
    "|     A + B    | 더하기 |\n",
    "|     A - B    |  빼기  |\n",
    "|     A * B    | 곱하기 |\n",
    "|     A / B    | 나누기 |\n",
    "|     A % B    | 나머지 |\n",
    "|    A ** B    |  제곱  |\n",
    "|    A // B    |   몫   |\n",
    "|   divmod(A,B)   | (몫, 나머지) |"
   ]
  },
  {
   "cell_type": "code",
   "execution_count": 200,
   "metadata": {
    "ExecuteTime": {
     "end_time": "2022-02-28T16:28:18.138267Z",
     "start_time": "2022-02-28T16:28:18.123283Z"
    }
   },
   "outputs": [
    {
     "data": {
      "text/plain": [
       "2"
      ]
     },
     "execution_count": 200,
     "metadata": {},
     "output_type": "execute_result"
    }
   ],
   "source": [
    "1 + 1"
   ]
  },
  {
   "cell_type": "code",
   "execution_count": 201,
   "metadata": {
    "ExecuteTime": {
     "end_time": "2022-02-28T16:28:18.153200Z",
     "start_time": "2022-02-28T16:28:18.139272Z"
    }
   },
   "outputs": [
    {
     "data": {
      "text/plain": [
       "1"
      ]
     },
     "execution_count": 201,
     "metadata": {},
     "output_type": "execute_result"
    }
   ],
   "source": [
    "3 - 2"
   ]
  },
  {
   "cell_type": "code",
   "execution_count": 202,
   "metadata": {
    "ExecuteTime": {
     "end_time": "2022-02-28T16:28:18.169159Z",
     "start_time": "2022-02-28T16:28:18.154198Z"
    }
   },
   "outputs": [
    {
     "data": {
      "text/plain": [
       "4"
      ]
     },
     "execution_count": 202,
     "metadata": {},
     "output_type": "execute_result"
    }
   ],
   "source": [
    "2 * 2"
   ]
  },
  {
   "cell_type": "code",
   "execution_count": 203,
   "metadata": {
    "ExecuteTime": {
     "end_time": "2022-02-28T16:28:18.184145Z",
     "start_time": "2022-02-28T16:28:18.170155Z"
    }
   },
   "outputs": [
    {
     "data": {
      "text/plain": [
       "2.0"
      ]
     },
     "execution_count": 203,
     "metadata": {},
     "output_type": "execute_result"
    }
   ],
   "source": [
    "4 / 2"
   ]
  },
  {
   "cell_type": "code",
   "execution_count": 204,
   "metadata": {
    "ExecuteTime": {
     "end_time": "2022-02-28T16:28:18.199108Z",
     "start_time": "2022-02-28T16:28:18.185147Z"
    }
   },
   "outputs": [
    {
     "data": {
      "text/plain": [
       "1"
      ]
     },
     "execution_count": 204,
     "metadata": {},
     "output_type": "execute_result"
    }
   ],
   "source": [
    "5 % 2"
   ]
  },
  {
   "cell_type": "code",
   "execution_count": 205,
   "metadata": {
    "ExecuteTime": {
     "end_time": "2022-02-28T16:28:18.215062Z",
     "start_time": "2022-02-28T16:28:18.200076Z"
    }
   },
   "outputs": [
    {
     "data": {
      "text/plain": [
       "27"
      ]
     },
     "execution_count": 205,
     "metadata": {},
     "output_type": "execute_result"
    }
   ],
   "source": [
    "3 ** 3    # 3 * 3 * 3"
   ]
  },
  {
   "cell_type": "code",
   "execution_count": 206,
   "metadata": {
    "ExecuteTime": {
     "end_time": "2022-02-28T16:28:18.230023Z",
     "start_time": "2022-02-28T16:28:18.216063Z"
    }
   },
   "outputs": [
    {
     "data": {
      "text/plain": [
       "3.5"
      ]
     },
     "execution_count": 206,
     "metadata": {},
     "output_type": "execute_result"
    }
   ],
   "source": [
    "7 / 2"
   ]
  },
  {
   "cell_type": "code",
   "execution_count": 207,
   "metadata": {
    "ExecuteTime": {
     "end_time": "2022-02-28T16:28:18.244955Z",
     "start_time": "2022-02-28T16:28:18.230993Z"
    }
   },
   "outputs": [
    {
     "data": {
      "text/plain": [
       "3"
      ]
     },
     "execution_count": 207,
     "metadata": {},
     "output_type": "execute_result"
    }
   ],
   "source": [
    "7 // 2"
   ]
  },
  {
   "cell_type": "code",
   "execution_count": 208,
   "metadata": {
    "ExecuteTime": {
     "end_time": "2022-02-28T16:28:18.259947Z",
     "start_time": "2022-02-28T16:28:18.245982Z"
    }
   },
   "outputs": [
    {
     "data": {
      "text/plain": [
       "(2, 1)"
      ]
     },
     "execution_count": 208,
     "metadata": {},
     "output_type": "execute_result"
    }
   ],
   "source": [
    "# 몫과 나머지 함께 구하기\n",
    "divmod(5,2)    # y1, y2 = f(x1, x2)"
   ]
  },
  {
   "cell_type": "code",
   "execution_count": 209,
   "metadata": {
    "ExecuteTime": {
     "end_time": "2022-02-28T16:28:18.274905Z",
     "start_time": "2022-02-28T16:28:18.260935Z"
    }
   },
   "outputs": [],
   "source": [
    "# quotient = divmod(5,2)[0]\n",
    "# remainder = divmod(5,2)[1]"
   ]
  },
  {
   "cell_type": "code",
   "execution_count": 210,
   "metadata": {
    "ExecuteTime": {
     "end_time": "2022-02-28T16:28:18.289862Z",
     "start_time": "2022-02-28T16:28:18.275874Z"
    }
   },
   "outputs": [
    {
     "name": "stdout",
     "output_type": "stream",
     "text": [
      "2 1\n"
     ]
    }
   ],
   "source": [
    "quotient, remainder = divmod(5, 2)\n",
    "print(quotient, remainder)"
   ]
  },
  {
   "cell_type": "code",
   "execution_count": 211,
   "metadata": {
    "ExecuteTime": {
     "end_time": "2022-02-28T16:28:18.304822Z",
     "start_time": "2022-02-28T16:28:18.290864Z"
    }
   },
   "outputs": [
    {
     "data": {
      "text/plain": [
       "1.5999999999999996"
      ]
     },
     "execution_count": 211,
     "metadata": {},
     "output_type": "execute_result"
    }
   ],
   "source": [
    "# 실수 계산부터는 오차가 발생\n",
    "4.3 - 2.7"
   ]
  },
  {
   "cell_type": "code",
   "execution_count": 212,
   "metadata": {
    "ExecuteTime": {
     "end_time": "2022-02-28T16:28:18.319782Z",
     "start_time": "2022-02-28T16:28:18.305823Z"
    }
   },
   "outputs": [
    {
     "data": {
      "text/plain": [
       "9.2"
      ]
     },
     "execution_count": 212,
     "metadata": {},
     "output_type": "execute_result"
    }
   ],
   "source": [
    "# 실수와 정수의 계산은 표현 범위가 넓은 실수로 계산\n",
    "4.2 + 5"
   ]
  },
  {
   "cell_type": "markdown",
   "metadata": {},
   "source": [
    "## 할당연산자(Assignment Operator): 값을 반영하기 위해 사용\n",
    "\n",
    "| 할당연산자 |                        기능                        |\n",
    "|:----------:|:--------------------------------------------------:|\n",
    "|     A = B    |             왼쪽 값에 오른쪽 값을 할당             |\n",
    "|    A += B    |       왼쪽 값을 오른쪽에 더한 후, 왼쪽에 할당      |\n",
    "|    A -= B    |        왼쪽 값을 오른쪽에 뺀 후, 왼쪽에 할당       |\n",
    "|    A *= B    |       왼쪽 값을 오른쪽에 곱한 후, 왼쪽에 할당      |\n",
    "|    A /= B    |       왼쪽 값을 오른쪽에 나눈 후, 왼쪽에 할당      |\n",
    "|    A %= B    | 왼쪽 값을 오른쪽에 나눈 후, 나머지값을 왼쪽에 할당 |"
   ]
  },
  {
   "cell_type": "code",
   "execution_count": 213,
   "metadata": {
    "ExecuteTime": {
     "end_time": "2022-02-28T16:28:18.334742Z",
     "start_time": "2022-02-28T16:28:18.320784Z"
    }
   },
   "outputs": [
    {
     "data": {
      "text/plain": [
       "5"
      ]
     },
     "execution_count": 213,
     "metadata": {},
     "output_type": "execute_result"
    }
   ],
   "source": [
    "x = 5\n",
    "x"
   ]
  },
  {
   "cell_type": "code",
   "execution_count": 214,
   "metadata": {
    "ExecuteTime": {
     "end_time": "2022-02-28T16:28:18.349701Z",
     "start_time": "2022-02-28T16:28:18.335712Z"
    }
   },
   "outputs": [
    {
     "data": {
      "text/plain": [
       "8"
      ]
     },
     "execution_count": 214,
     "metadata": {},
     "output_type": "execute_result"
    }
   ],
   "source": [
    "x = 5\n",
    "# x = x + 3\n",
    "x += 3\n",
    "x"
   ]
  },
  {
   "cell_type": "code",
   "execution_count": 215,
   "metadata": {
    "ExecuteTime": {
     "end_time": "2022-02-28T16:28:18.364663Z",
     "start_time": "2022-02-28T16:28:18.350699Z"
    }
   },
   "outputs": [
    {
     "data": {
      "text/plain": [
       "2"
      ]
     },
     "execution_count": 215,
     "metadata": {},
     "output_type": "execute_result"
    }
   ],
   "source": [
    "x = 5\n",
    "# x = x - 3\n",
    "x -= 3\n",
    "x"
   ]
  },
  {
   "cell_type": "code",
   "execution_count": 216,
   "metadata": {
    "ExecuteTime": {
     "end_time": "2022-02-28T16:28:18.379622Z",
     "start_time": "2022-02-28T16:28:18.365632Z"
    }
   },
   "outputs": [
    {
     "data": {
      "text/plain": [
       "15"
      ]
     },
     "execution_count": 216,
     "metadata": {},
     "output_type": "execute_result"
    }
   ],
   "source": [
    "x = 5\n",
    "# x = x * 3\n",
    "x *= 3\n",
    "x"
   ]
  },
  {
   "cell_type": "code",
   "execution_count": 217,
   "metadata": {
    "ExecuteTime": {
     "end_time": "2022-02-28T16:28:18.394554Z",
     "start_time": "2022-02-28T16:28:18.380619Z"
    }
   },
   "outputs": [
    {
     "data": {
      "text/plain": [
       "1.6666666666666667"
      ]
     },
     "execution_count": 217,
     "metadata": {},
     "output_type": "execute_result"
    }
   ],
   "source": [
    "x = 5\n",
    "# x = x / 3\n",
    "x /= 3\n",
    "x"
   ]
  },
  {
   "cell_type": "code",
   "execution_count": 218,
   "metadata": {
    "ExecuteTime": {
     "end_time": "2022-02-28T16:28:18.409514Z",
     "start_time": "2022-02-28T16:28:18.395580Z"
    }
   },
   "outputs": [
    {
     "data": {
      "text/plain": [
       "2"
      ]
     },
     "execution_count": 218,
     "metadata": {},
     "output_type": "execute_result"
    }
   ],
   "source": [
    "x = 5\n",
    "# x = x % 3\n",
    "x %= 3\n",
    "x"
   ]
  },
  {
   "cell_type": "markdown",
   "metadata": {},
   "source": [
    "## 비교연산자(Comparison Operator): 두 값을 비교하기 위해 사용\n",
    "\n",
    "| 비교연산자 |              기능             |\n",
    "|:----------:|:-----------------------------:|\n",
    "|    A == B    |              같음             |\n",
    "|    A != B    |           같지 않음           |\n",
    "|     A > B    |      왼쪽이 오른쪽보다 큼     |\n",
    "|     A < B    |      오른쪽이 왼쪽보다 큼     |\n",
    "|    A >= B    | 왼쪽이 오른쪽보다 크거나 같음 |\n",
    "|    A <= B    | 오른쪽이 왼쪽보다 크거나 같음 |"
   ]
  },
  {
   "cell_type": "code",
   "execution_count": 219,
   "metadata": {
    "ExecuteTime": {
     "end_time": "2022-02-28T16:28:18.424501Z",
     "start_time": "2022-02-28T16:28:18.410512Z"
    }
   },
   "outputs": [
    {
     "data": {
      "text/plain": [
       "False"
      ]
     },
     "execution_count": 219,
     "metadata": {},
     "output_type": "execute_result"
    }
   ],
   "source": [
    "5 == 3"
   ]
  },
  {
   "cell_type": "code",
   "execution_count": 220,
   "metadata": {
    "ExecuteTime": {
     "end_time": "2022-02-28T16:28:18.439462Z",
     "start_time": "2022-02-28T16:28:18.425472Z"
    }
   },
   "outputs": [
    {
     "data": {
      "text/plain": [
       "True"
      ]
     },
     "execution_count": 220,
     "metadata": {},
     "output_type": "execute_result"
    }
   ],
   "source": [
    "5 != 3"
   ]
  },
  {
   "cell_type": "code",
   "execution_count": 221,
   "metadata": {
    "ExecuteTime": {
     "end_time": "2022-02-28T16:28:18.454422Z",
     "start_time": "2022-02-28T16:28:18.440432Z"
    }
   },
   "outputs": [
    {
     "data": {
      "text/plain": [
       "True"
      ]
     },
     "execution_count": 221,
     "metadata": {},
     "output_type": "execute_result"
    }
   ],
   "source": [
    "4 > 3"
   ]
  },
  {
   "cell_type": "code",
   "execution_count": 222,
   "metadata": {
    "ExecuteTime": {
     "end_time": "2022-02-28T16:28:18.469392Z",
     "start_time": "2022-02-28T16:28:18.455391Z"
    }
   },
   "outputs": [
    {
     "data": {
      "text/plain": [
       "False"
      ]
     },
     "execution_count": 222,
     "metadata": {},
     "output_type": "execute_result"
    }
   ],
   "source": [
    "3 < 3"
   ]
  },
  {
   "cell_type": "code",
   "execution_count": 223,
   "metadata": {
    "ExecuteTime": {
     "end_time": "2022-02-28T16:28:18.484342Z",
     "start_time": "2022-02-28T16:28:18.471350Z"
    }
   },
   "outputs": [
    {
     "data": {
      "text/plain": [
       "True"
      ]
     },
     "execution_count": 223,
     "metadata": {},
     "output_type": "execute_result"
    }
   ],
   "source": [
    "6 >= 6"
   ]
  },
  {
   "cell_type": "code",
   "execution_count": 224,
   "metadata": {
    "ExecuteTime": {
     "end_time": "2022-02-28T16:28:18.499274Z",
     "start_time": "2022-02-28T16:28:18.485312Z"
    }
   },
   "outputs": [
    {
     "data": {
      "text/plain": [
       "True"
      ]
     },
     "execution_count": 224,
     "metadata": {},
     "output_type": "execute_result"
    }
   ],
   "source": [
    "7 <= 8"
   ]
  },
  {
   "cell_type": "markdown",
   "metadata": {},
   "source": [
    "## 논리연산자(Logical Operator): 여러 조건/상황을 반영하기 위해 사용\n",
    "\n",
    "| 논리연산자 |             기능             |\n",
    "|:----------:|:----------------------------:|\n",
    "|    A and B   |    양쪽이 모두 참이면 True   |\n",
    "|    A or B    | 양쪽 중 하나라도 참이면 True |\n",
    "|     not A   |     오른쪽이 False면 True    |"
   ]
  },
  {
   "cell_type": "code",
   "execution_count": 225,
   "metadata": {
    "ExecuteTime": {
     "end_time": "2022-02-28T16:28:18.514234Z",
     "start_time": "2022-02-28T16:28:18.500272Z"
    }
   },
   "outputs": [
    {
     "data": {
      "text/plain": [
       "True"
      ]
     },
     "execution_count": 225,
     "metadata": {},
     "output_type": "execute_result"
    }
   ],
   "source": [
    "# 2는 5보다 작고 그리고 3은 10보다 작은가?\n",
    "2 < 5 and 3 < 10"
   ]
  },
  {
   "cell_type": "code",
   "execution_count": 226,
   "metadata": {
    "ExecuteTime": {
     "end_time": "2022-02-28T16:28:18.529222Z",
     "start_time": "2022-02-28T16:28:18.515232Z"
    }
   },
   "outputs": [
    {
     "data": {
      "text/plain": [
       "True"
      ]
     },
     "execution_count": 226,
     "metadata": {},
     "output_type": "execute_result"
    }
   ],
   "source": [
    "# 2는 4보다 작고 또는 7은 5보다 작은가?\n",
    "2 < 4 or 7 < 5"
   ]
  },
  {
   "cell_type": "code",
   "execution_count": 227,
   "metadata": {
    "ExecuteTime": {
     "end_time": "2022-02-28T16:28:18.544190Z",
     "start_time": "2022-02-28T16:28:18.530216Z"
    }
   },
   "outputs": [
    {
     "data": {
      "text/plain": [
       "True"
      ]
     },
     "execution_count": 227,
     "metadata": {},
     "output_type": "execute_result"
    }
   ],
   "source": [
    "# \"3은 4보다 작고 그리고 5는 2보다 작다\" 가 아닌것은 무엇인가?\n",
    "not (3 < 4 and 5 < 2)"
   ]
  },
  {
   "cell_type": "markdown",
   "metadata": {},
   "source": [
    "## 식별연산자(Identity Operator): 동일여부 비교하기 위해 사용\n",
    "\n",
    "| 식별연산자 |        기능        |\n",
    "|:----------:|:------------------:|\n",
    "|    A is B    | 양쪽이 같으면 True |\n",
    "|  A is not B  | 양쪽이 다르면 True |"
   ]
  },
  {
   "cell_type": "code",
   "execution_count": 228,
   "metadata": {
    "ExecuteTime": {
     "end_time": "2022-02-28T16:28:18.559143Z",
     "start_time": "2022-02-28T16:28:18.545151Z"
    }
   },
   "outputs": [
    {
     "data": {
      "text/plain": [
       "True"
      ]
     },
     "execution_count": 228,
     "metadata": {},
     "output_type": "execute_result"
    }
   ],
   "source": [
    "x = 'KK'\n",
    "y = 'KK'\n",
    "# x 와 y는 같은가?\n",
    "x is y"
   ]
  },
  {
   "cell_type": "code",
   "execution_count": 229,
   "metadata": {
    "ExecuteTime": {
     "end_time": "2022-02-28T16:28:18.574074Z",
     "start_time": "2022-02-28T16:28:18.560141Z"
    }
   },
   "outputs": [
    {
     "data": {
      "text/plain": [
       "True"
      ]
     },
     "execution_count": 229,
     "metadata": {},
     "output_type": "execute_result"
    }
   ],
   "source": [
    "# x 와 y는 같은가?\n",
    "x == y"
   ]
  },
  {
   "cell_type": "code",
   "execution_count": 230,
   "metadata": {
    "ExecuteTime": {
     "end_time": "2022-02-28T16:28:18.589061Z",
     "start_time": "2022-02-28T16:28:18.575101Z"
    }
   },
   "outputs": [
    {
     "data": {
      "text/plain": [
       "False"
      ]
     },
     "execution_count": 230,
     "metadata": {},
     "output_type": "execute_result"
    }
   ],
   "source": [
    "x = 'KK'\n",
    "y = 'Korea'\n",
    "# x 와 y는 같은가?\n",
    "x is y"
   ]
  },
  {
   "cell_type": "code",
   "execution_count": 231,
   "metadata": {
    "ExecuteTime": {
     "end_time": "2022-02-28T16:28:18.604025Z",
     "start_time": "2022-02-28T16:28:18.590060Z"
    }
   },
   "outputs": [
    {
     "data": {
      "text/plain": [
       "True"
      ]
     },
     "execution_count": 231,
     "metadata": {},
     "output_type": "execute_result"
    }
   ],
   "source": [
    "x = 'KK'\n",
    "y = 'Korea'\n",
    "# x 와 y는 다른가?\n",
    "x is not y"
   ]
  },
  {
   "cell_type": "markdown",
   "metadata": {},
   "source": [
    "## 멤버연산자(Menbership Operator): 포함여부 확인하기 위해 사용\n",
    "\n",
    "| 멤버연산자 |                기능                |\n",
    "|:----------:|:----------------------------------:|\n",
    "|    A in B    |     값이 오른쪽에 포함되면 True    |\n",
    "|  A not in B  | 값이 오른쪽에 포함되지 않으면 True |"
   ]
  },
  {
   "cell_type": "code",
   "execution_count": 232,
   "metadata": {
    "ExecuteTime": {
     "end_time": "2022-02-28T16:28:18.618954Z",
     "start_time": "2022-02-28T16:28:18.604992Z"
    }
   },
   "outputs": [
    {
     "data": {
      "text/plain": [
       "True"
      ]
     },
     "execution_count": 232,
     "metadata": {},
     "output_type": "execute_result"
    }
   ],
   "source": [
    "list_test = ['KK', 'Korea']\n",
    "# 'KK' 문자열은 list_test에 포함되는가?\n",
    "'KK' in list_test"
   ]
  },
  {
   "cell_type": "code",
   "execution_count": 233,
   "metadata": {
    "ExecuteTime": {
     "end_time": "2022-02-28T16:28:18.633949Z",
     "start_time": "2022-02-28T16:28:18.619952Z"
    }
   },
   "outputs": [
    {
     "data": {
      "text/plain": [
       "False"
      ]
     },
     "execution_count": 233,
     "metadata": {},
     "output_type": "execute_result"
    }
   ],
   "source": [
    "# 'KKK' 문자열은 list_test에 포함되는가?\n",
    "'KKK' in list_test"
   ]
  },
  {
   "cell_type": "code",
   "execution_count": 234,
   "metadata": {
    "ExecuteTime": {
     "end_time": "2022-02-28T16:28:18.648902Z",
     "start_time": "2022-02-28T16:28:18.634939Z"
    },
    "scrolled": true
   },
   "outputs": [
    {
     "data": {
      "text/plain": [
       "True"
      ]
     },
     "execution_count": 234,
     "metadata": {},
     "output_type": "execute_result"
    }
   ],
   "source": [
    "# 'KKK' 문자열은 list_test에 포함되지 않는가?\n",
    "'KKK' not in list_test"
   ]
  },
  {
   "cell_type": "markdown",
   "metadata": {},
   "source": [
    "## 연산의 우선순위(Priority): 여러개 연산시 우선순위부터 계산\n",
    "\n",
    "> - 괄호가 있으면 먼저 계산하고 나머지는 우선순위대로 계산\n",
    "> - 우선순위가 같다면 왼쪽 항부터 계산\n",
    "\n",
    "| 우선순위 | 연산자 | 설명 |\n",
    "|:---:|:---:|:---:|\n",
    "| 1 | (값...), [값...], {키: 값...}, {값...} | 튜플, 리스트, 딕셔너리, 세트 생성 |\n",
    "| 2 | x[인덱스], x[인덱스:인덱스], x(인수...), x.속성 | 리스트(튜플)   첨자, 슬라이싱, 함수 호출, 속성 참조 |\n",
    "| 3 | await   x | await 표현식 |\n",
    "| 4 | ** | 거듭제곱 |\n",
    "| 5 | +x, -x, ~x | 단항 덧셈(양의 부호), 단항 뺄셈(음의 부호), 비트 NOT |\n",
    "| 6 | *, @, /, //, % | 곱셈, 행렬 곱셈, 나눗셈, 버림 나눗셈, 나머지 |\n",
    "| 7 | +, - | 덧셈, 뺄셈 |\n",
    "| 8 | <<, >> | 비트 시프트 |\n",
    "| 9 | & | 비트 AND |\n",
    "| 10 | ^ | 비트 XOR |\n",
    "| 11 | \\| | 비트 OR |\n",
    "| 12 | in, not   in, is, is not,   <, <=, >, >=, !=, == | 포함 연산자, 객체 비교 연산자, 비교 연산자 |\n",
    "| 13 | not   x | 논리   NOT |\n",
    "| 14 | and | 논리 AND |\n",
    "| 15 | or | 논리 OR |\n",
    "| 16 | if else | 조건부 표현식 |\n",
    "| 17 | lambda | 람다 표현식 |\n",
    "\n",
    "- **Question:** 하기 출력을 실행하고 각 계산마다 어떤 순서로 계산하는지 주석(#)으로 서술하시오\n",
    "```python\n",
    "print(2 ** 2 ** 3)\n",
    "print(5 - 2 * 3 ** 4 // (( 5 + 6) % 7 ) / 8 )\n",
    "print(3 + 4 * 4 > 5 * 7 - 1)\n",
    "```"
   ]
  },
  {
   "cell_type": "code",
   "execution_count": 235,
   "metadata": {
    "ExecuteTime": {
     "end_time": "2022-02-28T16:28:18.663865Z",
     "start_time": "2022-02-28T16:28:18.649871Z"
    }
   },
   "outputs": [
    {
     "name": "stdout",
     "output_type": "stream",
     "text": [
      "256\n"
     ]
    }
   ],
   "source": [
    "print(2 ** 2 ** 3)"
   ]
  },
  {
   "cell_type": "code",
   "execution_count": 236,
   "metadata": {
    "ExecuteTime": {
     "end_time": "2022-02-28T16:28:18.678819Z",
     "start_time": "2022-02-28T16:28:18.664831Z"
    }
   },
   "outputs": [],
   "source": [
    "# 위 결과 출력 순서 작성\n",
    "# 1)\n",
    "# 2)\n",
    "# ..."
   ]
  },
  {
   "cell_type": "code",
   "execution_count": 237,
   "metadata": {
    "ExecuteTime": {
     "end_time": "2022-02-28T16:28:18.693754Z",
     "start_time": "2022-02-28T16:28:18.679792Z"
    }
   },
   "outputs": [
    {
     "name": "stdout",
     "output_type": "stream",
     "text": [
      "0.0\n"
     ]
    }
   ],
   "source": [
    "print(5 - 2 * 3 ** 4 // (( 5 + 6) % 7 ) / 8 )"
   ]
  },
  {
   "cell_type": "code",
   "execution_count": 238,
   "metadata": {
    "ExecuteTime": {
     "end_time": "2022-02-28T16:28:18.708743Z",
     "start_time": "2022-02-28T16:28:18.694779Z"
    }
   },
   "outputs": [],
   "source": [
    "# 위 결과 출력 순서 작성\n",
    "# 1)\n",
    "# 2)\n",
    "# ..."
   ]
  },
  {
   "cell_type": "code",
   "execution_count": 239,
   "metadata": {
    "ExecuteTime": {
     "end_time": "2022-02-28T16:28:18.723701Z",
     "start_time": "2022-02-28T16:28:18.709728Z"
    }
   },
   "outputs": [
    {
     "name": "stdout",
     "output_type": "stream",
     "text": [
      "False\n"
     ]
    }
   ],
   "source": [
    "print(3 + 4 * 4 > 5 * 7 - 1)"
   ]
  },
  {
   "cell_type": "code",
   "execution_count": 240,
   "metadata": {
    "ExecuteTime": {
     "end_time": "2022-02-28T16:28:18.738662Z",
     "start_time": "2022-02-28T16:28:18.724696Z"
    }
   },
   "outputs": [],
   "source": [
    "# 위 결과 출력 순서 작성\n",
    "# 1)\n",
    "# 2)\n",
    "# ..."
   ]
  }
 ],
 "metadata": {
  "hide_input": false,
  "kernelspec": {
   "display_name": "Python 3 (ipykernel)",
   "language": "python",
   "name": "python3"
  },
  "language_info": {
   "codemirror_mode": {
    "name": "ipython",
    "version": 3
   },
   "file_extension": ".py",
   "mimetype": "text/x-python",
   "name": "python",
   "nbconvert_exporter": "python",
   "pygments_lexer": "ipython3",
   "version": "3.9.7"
  },
  "toc": {
   "base_numbering": 1,
   "nav_menu": {},
   "number_sections": true,
   "sideBar": true,
   "skip_h1_title": false,
   "title_cell": "Table of Contents",
   "title_sidebar": "Contents",
   "toc_cell": false,
   "toc_position": {
    "height": "calc(100% - 180px)",
    "left": "10px",
    "top": "150px",
    "width": "437.797px"
   },
   "toc_section_display": true,
   "toc_window_display": true
  },
  "varInspector": {
   "cols": {
    "lenName": 16,
    "lenType": 16,
    "lenVar": 40
   },
   "kernels_config": {
    "python": {
     "delete_cmd_postfix": "",
     "delete_cmd_prefix": "del ",
     "library": "var_list.py",
     "varRefreshCmd": "print(var_dic_list())"
    },
    "r": {
     "delete_cmd_postfix": ") ",
     "delete_cmd_prefix": "rm(",
     "library": "var_list.r",
     "varRefreshCmd": "cat(var_dic_list()) "
    }
   },
   "types_to_exclude": [
    "module",
    "function",
    "builtin_function_or_method",
    "instance",
    "_Feature"
   ],
   "window_display": false
  }
 },
 "nbformat": 4,
 "nbformat_minor": 4
}
