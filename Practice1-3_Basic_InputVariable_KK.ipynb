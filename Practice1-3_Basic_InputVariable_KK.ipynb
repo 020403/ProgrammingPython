{
  "cells": [
    {
      "cell_type": "markdown",
      "metadata": {
        "id": "SPK24O__iadx"
      },
      "source": [
        "# **파이썬에서 변하는 데이터 형태**\n",
        "\n",
        "[![Open in Colab](http://colab.research.google.com/assets/colab-badge.svg)](https://colab.research.google.com/github/thekimk/Tutorial-Python-Programming/blob/main/Practice1-3_Basic_InputVariable_KK.ipynb)\n",
        "\n",
        "> **\"파이썬의 데이터 형에 연산자를 직접 계산/출력 할 수 있지만, 데이터 형을 저장 할수도 있음\"**\n",
        "> - 파이썬이 이해하는 데이터 형태\n",
        "> - 파이썬에서 데이터의 형태 변환\n",
        "> - 파이썬이 사용하는 연산의 형태\n",
        "\n",
        "- **변수(Variable):** 변할수 있는 값으로 임시로 혹은 영구적으로 데이터 형을 기억해두기 위한 저장소\n",
        "\n",
        "> - 비어있는 변수를 만들고 데이터 형을 담아 할당(저장)\n",
        "> - 할당된 변수를 사용하여 그 안에 담긴 데이터를 사용할 수 있음\n",
        "> - 프로그래밍에서 **`같다`** 의미 기호는 **`==`**\n",
        "> <center><img src='https://github.com/thekimk/Tutorial-Python-Programming/blob/main/Image/Basic/Variable_Structure.png?raw=1' width='200'></center>\n",
        "> - **예시:**\n",
        ">```python\n",
        "name = 'KK'\n",
        "age = 100\n",
        "location = ['서울시', '용산구']\n",
        "age = 10\n",
        "print(age)    # 10\n",
        ">```\n",
        "\n",
        "- **생성규칙:** 규칙을 지킨 경우만 변수로 인식\n",
        "\n",
        "> - 영문 문자와 숫자, _(밑줄 문자)를 사용할 수 있음\n",
        "> - 문자부터 시작해야 하며 숫자부터 시작하면 안됨\n",
        "> - 숫자로만 구성된 변수는 사용할 수 없음\n",
        "> - 대소문자를 구분하기 때문에 크기가 다르면 다른 변수\n",
        "> - 빈칸과 특수 문자(+, -, *, /, $, @, &, % 등) 사용할 수 없음\n",
        "\n",
        "- **다른 프로그래밍 언어와의 차이점**\n",
        "\n",
        "> **(1)** 변수 생성시 타입(Type)을 미 선언\n",
        ">\n",
        "> **(2)** 변수 생성 없이 바로 사용 가능\n",
        ">\n",
        "> **`C언어`**\n",
        ">```c\n",
        "#include <stdio.h>\n",
        "int a;\n",
        "int b;\n",
        "int c;\n",
        "a = 20;\n",
        "b = 100;\n",
        "c = a*b\n",
        "printf(c)\n",
        ">```\n",
        ">\n",
        "> <br>\n",
        ">\n",
        "> **`Python`**\n",
        ">```python\n",
        "a,b = 20,100\n",
        "print(a*b)\n",
        ">```\n",
        "\n",
        "- **변수생성팁:** 누가 봐도 이해하기 쉬운 센스 있는 변수 선언 추천\n",
        "\n",
        ">```python\n",
        "a = [500, 800, 600, 1200]    # ??\n",
        "price_flow = [500, 800, 600, 1200]    # 가격흐름\n",
        "```"
      ]
    },
    {
      "cell_type": "code",
      "execution_count": 5,
      "metadata": {
        "ExecuteTime": {
          "end_time": "2024-09-27T13:38:04.411466Z",
          "start_time": "2024-09-27T13:38:04.408267Z"
        },
        "id": "wETd7WLFiad1"
      },
      "outputs": [],
      "source": [
        "# 숫자가 가장 처음에 등장하면 에러가 발생\n",
        "# 4pple = 10"
      ]
    },
    {
      "cell_type": "code",
      "execution_count": 6,
      "metadata": {
        "ExecuteTime": {
          "end_time": "2024-09-27T13:38:04.420187Z",
          "start_time": "2024-09-27T13:38:04.412467Z"
        },
        "id": "qef_lOdbiad3",
        "outputId": "0405e08a-4e60-4713-86cb-09c8747ff6b0",
        "colab": {
          "base_uri": "https://localhost:8080/"
        }
      },
      "outputs": [
        {
          "output_type": "execute_result",
          "data": {
            "text/plain": [
              "50"
            ]
          },
          "metadata": {},
          "execution_count": 6
        }
      ],
      "source": [
        "# 정상적으로 admin이란 변수 생성\n",
        "admin = 50\n",
        "admin"
      ]
    },
    {
      "cell_type": "code",
      "execution_count": 7,
      "metadata": {
        "ExecuteTime": {
          "end_time": "2024-09-27T13:38:04.426648Z",
          "start_time": "2024-09-27T13:38:04.421189Z"
        },
        "id": "kmPI9riXiad4",
        "outputId": "703640d0-caaf-4ff6-c01e-5a0a9ff5e9d3",
        "colab": {
          "base_uri": "https://localhost:8080/"
        }
      },
      "outputs": [
        {
          "output_type": "execute_result",
          "data": {
            "text/plain": [
              "60"
            ]
          },
          "metadata": {},
          "execution_count": 7
        }
      ],
      "source": [
        "# 정상적으로 Apple이란 변수 생성\n",
        "Apple = 60\n",
        "Apple"
      ]
    },
    {
      "cell_type": "code",
      "execution_count": 8,
      "metadata": {
        "ExecuteTime": {
          "end_time": "2024-09-27T13:38:04.433611Z",
          "start_time": "2024-09-27T13:38:04.427650Z"
        },
        "id": "yJYY35KOiad5",
        "outputId": "de90fa6d-6f7b-4ab6-e4df-da7b3b93f3ea",
        "colab": {
          "base_uri": "https://localhost:8080/"
        }
      },
      "outputs": [
        {
          "output_type": "execute_result",
          "data": {
            "text/plain": [
              "70"
            ]
          },
          "metadata": {},
          "execution_count": 8
        }
      ],
      "source": [
        "# 대소문자를 구분하기 때문에 앞에 나온 변수인 Apple과는 별개의 변수\n",
        "apple = 70\n",
        "apple"
      ]
    },
    {
      "cell_type": "code",
      "execution_count": 10,
      "metadata": {
        "ExecuteTime": {
          "end_time": "2024-09-27T13:38:04.440374Z",
          "start_time": "2024-09-27T13:38:04.434613Z"
        },
        "id": "wRrDaGLviad5",
        "outputId": "51cf94bf-1ff2-42ef-e041-27f0c5068e18",
        "colab": {
          "base_uri": "https://localhost:8080/"
        }
      },
      "outputs": [
        {
          "output_type": "execute_result",
          "data": {
            "text/plain": [
              "False"
            ]
          },
          "metadata": {},
          "execution_count": 10
        }
      ],
      "source": [
        "# Apple과 apple이 같은지 비교\n",
        "Apple == apple    # Apple is apple"
      ]
    },
    {
      "cell_type": "code",
      "execution_count": 11,
      "metadata": {
        "ExecuteTime": {
          "end_time": "2024-09-27T13:38:04.447351Z",
          "start_time": "2024-09-27T13:38:04.440374Z"
        },
        "id": "hr5Y0X-siad6",
        "outputId": "5f1fa593-36ff-4cfe-c607-77d6b7360fa7",
        "colab": {
          "base_uri": "https://localhost:8080/"
        }
      },
      "outputs": [
        {
          "output_type": "stream",
          "name": "stdout",
          "text": [
            "50 60 70\n"
          ]
        }
      ],
      "source": [
        "# 세 변수의 값을 모두 출력하면 50 60 70이다.\n",
        "print(admin, Apple, apple)"
      ]
    },
    {
      "cell_type": "code",
      "execution_count": 12,
      "metadata": {
        "ExecuteTime": {
          "end_time": "2024-09-27T13:38:04.454425Z",
          "start_time": "2024-09-27T13:38:04.447351Z"
        },
        "id": "OcELSWeNiad6",
        "outputId": "eb20b539-f840-44c6-f701-b9780d213d95",
        "colab": {
          "base_uri": "https://localhost:8080/"
        }
      },
      "outputs": [
        {
          "output_type": "execute_result",
          "data": {
            "text/plain": [
              "10"
            ]
          },
          "metadata": {},
          "execution_count": 12
        }
      ],
      "source": [
        "# 변수에 어떤 데이터/값의 형태를 반영할지 미리 선언할 필요없이\n",
        "# 변수에 저장된 값의 형태를 파악해서 자동으로 인지\n",
        "x = 10\n",
        "x"
      ]
    },
    {
      "cell_type": "code",
      "execution_count": 13,
      "metadata": {
        "ExecuteTime": {
          "end_time": "2024-09-27T13:38:04.461080Z",
          "start_time": "2024-09-27T13:38:04.455426Z"
        },
        "id": "CNO38mEMiad7",
        "outputId": "4e2c6704-c893-4b11-e1c9-817499ea55d6",
        "colab": {
          "base_uri": "https://localhost:8080/"
        }
      },
      "outputs": [
        {
          "output_type": "execute_result",
          "data": {
            "text/plain": [
              "int"
            ]
          },
          "metadata": {},
          "execution_count": 13
        }
      ],
      "source": [
        "type(x)"
      ]
    },
    {
      "cell_type": "code",
      "execution_count": 14,
      "metadata": {
        "ExecuteTime": {
          "end_time": "2024-09-27T13:38:04.467681Z",
          "start_time": "2024-09-27T13:38:04.462209Z"
        },
        "id": "X474Fpyyiad8",
        "outputId": "e5df25e3-24cc-428c-c65d-8c429bd5ff57",
        "colab": {
          "base_uri": "https://localhost:8080/",
          "height": 35
        }
      },
      "outputs": [
        {
          "output_type": "execute_result",
          "data": {
            "text/plain": [
              "'Hello, world!'"
            ],
            "application/vnd.google.colaboratory.intrinsic+json": {
              "type": "string"
            }
          },
          "metadata": {},
          "execution_count": 14
        }
      ],
      "source": [
        "y = 'Hello, world!'\n",
        "y"
      ]
    },
    {
      "cell_type": "code",
      "execution_count": 15,
      "metadata": {
        "ExecuteTime": {
          "end_time": "2024-09-27T13:38:04.476943Z",
          "start_time": "2024-09-27T13:38:04.467681Z"
        },
        "id": "TRPI5l1Fiad8",
        "outputId": "ced89618-e133-4ac8-8c66-cd025f930f22",
        "colab": {
          "base_uri": "https://localhost:8080/"
        }
      },
      "outputs": [
        {
          "output_type": "execute_result",
          "data": {
            "text/plain": [
              "str"
            ]
          },
          "metadata": {},
          "execution_count": 15
        }
      ],
      "source": [
        "# 타입확인\n",
        "type(y)"
      ]
    },
    {
      "cell_type": "code",
      "execution_count": 16,
      "metadata": {
        "ExecuteTime": {
          "end_time": "2024-09-27T13:38:04.484381Z",
          "start_time": "2024-09-27T13:38:04.477946Z"
        },
        "id": "r-sYrfZDiad8",
        "outputId": "f9e40db4-1636-4123-a6e8-d065524abb8f",
        "colab": {
          "base_uri": "https://localhost:8080/"
        }
      },
      "outputs": [
        {
          "output_type": "execute_result",
          "data": {
            "text/plain": [
              "{'name': 'KK'}"
            ]
          },
          "metadata": {},
          "execution_count": 16
        }
      ],
      "source": [
        "z = {'name': 'KK'}\n",
        "z"
      ]
    },
    {
      "cell_type": "code",
      "execution_count": 17,
      "metadata": {
        "ExecuteTime": {
          "end_time": "2024-09-27T13:38:04.491499Z",
          "start_time": "2024-09-27T13:38:04.485383Z"
        },
        "id": "VGWSY4DIiad9",
        "outputId": "819bbf6e-533f-40f5-b87d-bdb6320bdb7e",
        "colab": {
          "base_uri": "https://localhost:8080/"
        }
      },
      "outputs": [
        {
          "output_type": "execute_result",
          "data": {
            "text/plain": [
              "dict"
            ]
          },
          "metadata": {},
          "execution_count": 17
        }
      ],
      "source": [
        "# 타입확인\n",
        "type(z)"
      ]
    },
    {
      "cell_type": "markdown",
      "metadata": {
        "id": "ZplGEzF3iad9"
      },
      "source": [
        "## 예약어/외장함수/내장함수 이름 불가\n",
        "\n",
        "**\"파이썬 예약어(if, for, while, and, or 등)/외장함수/내장함수는 변수명 사용불가(비권장)\"**\n",
        "- **예약어(Reserved Words):** 파이썬에서 이미 문법적인 용도로 사용되는 단어들"
      ]
    },
    {
      "cell_type": "code",
      "execution_count": 18,
      "metadata": {
        "ExecuteTime": {
          "end_time": "2024-09-27T13:38:04.497780Z",
          "start_time": "2024-09-27T13:38:04.492506Z"
        },
        "id": "YoGVQ_2Diad9",
        "outputId": "53867bd3-daf4-4b6a-d930-4bb83dd4eecb",
        "colab": {
          "base_uri": "https://localhost:8080/"
        }
      },
      "outputs": [
        {
          "output_type": "stream",
          "name": "stdout",
          "text": [
            "35\n",
            "\n",
            "['False', 'None', 'True', 'and', 'as', 'assert', 'async', 'await', 'break', 'class', 'continue', 'def', 'del', 'elif', 'else', 'except', 'finally', 'for', 'from', 'global', 'if', 'import', 'in', 'is', 'lambda', 'nonlocal', 'not', 'or', 'pass', 'raise', 'return', 'try', 'while', 'with', 'yield']\n"
          ]
        }
      ],
      "source": [
        "import keyword    # 예약어 모음을 확인하기 위해 외장함수 호출\n",
        "\n",
        "print(len(keyword.kwlist))\n",
        "print()\n",
        "print(keyword.kwlist)"
      ]
    },
    {
      "cell_type": "markdown",
      "metadata": {
        "id": "kKjSGQifiad9"
      },
      "source": [
        "- **외장함수:** 자주 사용하는 기능을 정의하고 실행하는 역할을 담은 파일(함수/클래스)\n",
        "> - `패키지(Package)` > `모듈(Module)` > `함수(Function)`\n",
        "> - 모듈/함수 이름을 변수로 써도 상관 없지만, 기존에 모듈/함수 사용 불가\n"
      ]
    },
    {
      "cell_type": "code",
      "execution_count": 19,
      "metadata": {
        "ExecuteTime": {
          "end_time": "2024-09-27T13:38:04.504321Z",
          "start_time": "2024-09-27T13:38:04.497780Z"
        },
        "id": "rZs3gZE3iad9"
      },
      "outputs": [],
      "source": [
        "# keyword = 10"
      ]
    },
    {
      "cell_type": "code",
      "execution_count": null,
      "metadata": {
        "ExecuteTime": {
          "end_time": "2024-09-27T13:38:04.510974Z",
          "start_time": "2024-09-27T13:38:04.505323Z"
        },
        "id": "tIOWL4qpiad9"
      },
      "outputs": [],
      "source": [
        "# keyword.    # tab을 누르면 내장 함수 목록 출력"
      ]
    },
    {
      "cell_type": "code",
      "execution_count": 20,
      "metadata": {
        "ExecuteTime": {
          "end_time": "2024-09-27T13:38:04.518202Z",
          "start_time": "2024-09-27T13:38:04.511976Z"
        },
        "id": "Q2qUw1L0iad-",
        "outputId": "d29957f8-381e-4a17-c917-b378d5d5b089",
        "colab": {
          "base_uri": "https://localhost:8080/"
        }
      },
      "outputs": [
        {
          "output_type": "execute_result",
          "data": {
            "text/plain": [
              "['__all__',\n",
              " '__builtins__',\n",
              " '__cached__',\n",
              " '__doc__',\n",
              " '__file__',\n",
              " '__loader__',\n",
              " '__name__',\n",
              " '__package__',\n",
              " '__spec__',\n",
              " 'iskeyword',\n",
              " 'issoftkeyword',\n",
              " 'kwlist',\n",
              " 'softkwlist']"
            ]
          },
          "metadata": {},
          "execution_count": 20
        }
      ],
      "source": [
        "dir(keyword)   # dir 명령어로 내장 함수 목록 출력"
      ]
    },
    {
      "cell_type": "code",
      "execution_count": 21,
      "metadata": {
        "ExecuteTime": {
          "end_time": "2024-09-27T13:38:04.898831Z",
          "start_time": "2024-09-27T13:38:04.518202Z"
        },
        "scrolled": true,
        "id": "8a1vGjPLiad-",
        "outputId": "e3c56807-d7ba-4702-adae-fd6f77a5837b",
        "colab": {
          "base_uri": "https://localhost:8080/"
        }
      },
      "outputs": [
        {
          "output_type": "execute_result",
          "data": {
            "text/plain": [
              "['ArrowDtype',\n",
              " 'BooleanDtype',\n",
              " 'Categorical',\n",
              " 'CategoricalDtype',\n",
              " 'CategoricalIndex',\n",
              " 'DataFrame',\n",
              " 'DateOffset',\n",
              " 'DatetimeIndex',\n",
              " 'DatetimeTZDtype',\n",
              " 'ExcelFile',\n",
              " 'ExcelWriter',\n",
              " 'Flags',\n",
              " 'Float32Dtype',\n",
              " 'Float64Dtype',\n",
              " 'Grouper',\n",
              " 'HDFStore',\n",
              " 'Index',\n",
              " 'IndexSlice',\n",
              " 'Int16Dtype',\n",
              " 'Int32Dtype',\n",
              " 'Int64Dtype',\n",
              " 'Int8Dtype',\n",
              " 'Interval',\n",
              " 'IntervalDtype',\n",
              " 'IntervalIndex',\n",
              " 'MultiIndex',\n",
              " 'NA',\n",
              " 'NaT',\n",
              " 'NamedAgg',\n",
              " 'Period',\n",
              " 'PeriodDtype',\n",
              " 'PeriodIndex',\n",
              " 'RangeIndex',\n",
              " 'Series',\n",
              " 'SparseDtype',\n",
              " 'StringDtype',\n",
              " 'Timedelta',\n",
              " 'TimedeltaIndex',\n",
              " 'Timestamp',\n",
              " 'UInt16Dtype',\n",
              " 'UInt32Dtype',\n",
              " 'UInt64Dtype',\n",
              " 'UInt8Dtype',\n",
              " '__all__',\n",
              " '__builtins__',\n",
              " '__cached__',\n",
              " '__doc__',\n",
              " '__docformat__',\n",
              " '__file__',\n",
              " '__git_version__',\n",
              " '__loader__',\n",
              " '__name__',\n",
              " '__package__',\n",
              " '__path__',\n",
              " '__spec__',\n",
              " '__version__',\n",
              " '_built_with_meson',\n",
              " '_config',\n",
              " '_is_numpy_dev',\n",
              " '_libs',\n",
              " '_pandas_datetime_CAPI',\n",
              " '_pandas_parser_CAPI',\n",
              " '_testing',\n",
              " '_typing',\n",
              " '_version_meson',\n",
              " 'annotations',\n",
              " 'api',\n",
              " 'array',\n",
              " 'arrays',\n",
              " 'bdate_range',\n",
              " 'compat',\n",
              " 'concat',\n",
              " 'core',\n",
              " 'crosstab',\n",
              " 'cut',\n",
              " 'date_range',\n",
              " 'describe_option',\n",
              " 'errors',\n",
              " 'eval',\n",
              " 'factorize',\n",
              " 'from_dummies',\n",
              " 'get_dummies',\n",
              " 'get_option',\n",
              " 'infer_freq',\n",
              " 'interval_range',\n",
              " 'io',\n",
              " 'isna',\n",
              " 'isnull',\n",
              " 'json_normalize',\n",
              " 'lreshape',\n",
              " 'melt',\n",
              " 'merge',\n",
              " 'merge_asof',\n",
              " 'merge_ordered',\n",
              " 'notna',\n",
              " 'notnull',\n",
              " 'offsets',\n",
              " 'option_context',\n",
              " 'options',\n",
              " 'pandas',\n",
              " 'period_range',\n",
              " 'pivot',\n",
              " 'pivot_table',\n",
              " 'plotting',\n",
              " 'qcut',\n",
              " 'read_clipboard',\n",
              " 'read_csv',\n",
              " 'read_excel',\n",
              " 'read_feather',\n",
              " 'read_fwf',\n",
              " 'read_gbq',\n",
              " 'read_hdf',\n",
              " 'read_html',\n",
              " 'read_json',\n",
              " 'read_orc',\n",
              " 'read_parquet',\n",
              " 'read_pickle',\n",
              " 'read_sas',\n",
              " 'read_spss',\n",
              " 'read_sql',\n",
              " 'read_sql_query',\n",
              " 'read_sql_table',\n",
              " 'read_stata',\n",
              " 'read_table',\n",
              " 'read_xml',\n",
              " 'reset_option',\n",
              " 'set_eng_float_format',\n",
              " 'set_option',\n",
              " 'show_versions',\n",
              " 'test',\n",
              " 'testing',\n",
              " 'timedelta_range',\n",
              " 'to_datetime',\n",
              " 'to_numeric',\n",
              " 'to_pickle',\n",
              " 'to_timedelta',\n",
              " 'tseries',\n",
              " 'unique',\n",
              " 'util',\n",
              " 'value_counts',\n",
              " 'wide_to_long']"
            ]
          },
          "metadata": {},
          "execution_count": 21
        }
      ],
      "source": [
        "# 예시\n",
        "import pandas as pd\n",
        "dir(pd)"
      ]
    },
    {
      "cell_type": "markdown",
      "metadata": {
        "id": "wykfYBi1iad-"
      },
      "source": [
        "- **[내장함수(Built-in Function)](https://docs.python.org/ko/3.8/library/functions.html):** 별도의 모듈(Module)/라이브러리 추가 없이 기본적으로 제공되는 함수\n",
        "\n",
        "> - 수많은 내장 함수 존재하며 일일이 설명은 어렵고, 필요시 지속적으로 언급"
      ]
    },
    {
      "cell_type": "code",
      "execution_count": 22,
      "metadata": {
        "ExecuteTime": {
          "end_time": "2024-09-27T13:38:04.902217Z",
          "start_time": "2024-09-27T13:38:04.899834Z"
        },
        "id": "PrXp6GVfiad-",
        "outputId": "76e69273-ba9c-47eb-deca-ec40104d5e31",
        "colab": {
          "base_uri": "https://localhost:8080/"
        }
      },
      "outputs": [
        {
          "output_type": "execute_result",
          "data": {
            "text/plain": [
              "3"
            ]
          },
          "metadata": {},
          "execution_count": 22
        }
      ],
      "source": [
        "# -3의 절대값\n",
        "abs(-3)"
      ]
    },
    {
      "cell_type": "code",
      "execution_count": 23,
      "metadata": {
        "ExecuteTime": {
          "end_time": "2024-09-27T13:38:04.909946Z",
          "start_time": "2024-09-27T13:38:04.903220Z"
        },
        "id": "ZM9Dpzwqiad-",
        "outputId": "3c970764-3ee1-4024-f854-da9c2894bf53",
        "colab": {
          "base_uri": "https://localhost:8080/"
        }
      },
      "outputs": [
        {
          "output_type": "execute_result",
          "data": {
            "text/plain": [
              "2"
            ]
          },
          "metadata": {},
          "execution_count": 23
        }
      ],
      "source": [
        "# 1과 2 중에서 최대값\n",
        "max(1,2)"
      ]
    },
    {
      "cell_type": "code",
      "execution_count": 24,
      "metadata": {
        "ExecuteTime": {
          "end_time": "2024-09-27T13:38:04.916891Z",
          "start_time": "2024-09-27T13:38:04.909946Z"
        },
        "id": "Tm4kJnpuiad-",
        "outputId": "15ca6515-f821-473c-c5d5-ac84c32805a9",
        "colab": {
          "base_uri": "https://localhost:8080/"
        }
      },
      "outputs": [
        {
          "output_type": "execute_result",
          "data": {
            "text/plain": [
              "3"
            ]
          },
          "metadata": {},
          "execution_count": 24
        }
      ],
      "source": [
        "# [1,2,3] 중에서 최대값\n",
        "max([1,2,3])"
      ]
    },
    {
      "cell_type": "code",
      "execution_count": 25,
      "metadata": {
        "ExecuteTime": {
          "end_time": "2024-09-27T13:38:04.923793Z",
          "start_time": "2024-09-27T13:38:04.917892Z"
        },
        "id": "1GzXx7Dkiad-",
        "outputId": "bd39d4d3-0617-458f-a634-12fc9d5d88aa",
        "colab": {
          "base_uri": "https://localhost:8080/"
        }
      },
      "outputs": [
        {
          "output_type": "execute_result",
          "data": {
            "text/plain": [
              "1"
            ]
          },
          "metadata": {},
          "execution_count": 25
        }
      ],
      "source": [
        "# 1과 2 중에서 최소값\n",
        "min(1,2)"
      ]
    },
    {
      "cell_type": "code",
      "execution_count": 26,
      "metadata": {
        "ExecuteTime": {
          "end_time": "2024-09-27T13:38:04.930845Z",
          "start_time": "2024-09-27T13:38:04.924795Z"
        },
        "id": "6w6zbAu7iad-",
        "outputId": "f3ef7948-5722-493b-abdb-d78706a6aad2",
        "colab": {
          "base_uri": "https://localhost:8080/"
        }
      },
      "outputs": [
        {
          "output_type": "execute_result",
          "data": {
            "text/plain": [
              "1"
            ]
          },
          "metadata": {},
          "execution_count": 26
        }
      ],
      "source": [
        "# [1,2,3] 중에서 최소값\n",
        "min([1,2,3])"
      ]
    },
    {
      "cell_type": "code",
      "execution_count": 27,
      "metadata": {
        "ExecuteTime": {
          "end_time": "2024-09-27T13:38:04.938056Z",
          "start_time": "2024-09-27T13:38:04.931849Z"
        },
        "id": "8JHi3Q37iad_",
        "outputId": "ced6c2fb-e279-484d-930e-cebc1b48b3f4",
        "colab": {
          "base_uri": "https://localhost:8080/"
        }
      },
      "outputs": [
        {
          "output_type": "execute_result",
          "data": {
            "text/plain": [
              "16"
            ]
          },
          "metadata": {},
          "execution_count": 27
        }
      ],
      "source": [
        "# 2^4\n",
        "2**4"
      ]
    },
    {
      "cell_type": "code",
      "execution_count": 28,
      "metadata": {
        "ExecuteTime": {
          "end_time": "2024-09-27T13:38:04.944857Z",
          "start_time": "2024-09-27T13:38:04.941059Z"
        },
        "id": "S5vbW8Igiad_",
        "outputId": "7549dd0f-eb2b-4c8e-a70c-82a6848d70ef",
        "colab": {
          "base_uri": "https://localhost:8080/"
        }
      },
      "outputs": [
        {
          "output_type": "execute_result",
          "data": {
            "text/plain": [
              "16"
            ]
          },
          "metadata": {},
          "execution_count": 28
        }
      ],
      "source": [
        "# 2^4\n",
        "pow(2,4)"
      ]
    },
    {
      "cell_type": "code",
      "execution_count": 29,
      "metadata": {
        "ExecuteTime": {
          "end_time": "2024-09-27T13:38:04.952517Z",
          "start_time": "2024-09-27T13:38:04.944857Z"
        },
        "id": "H13i_5Awiad_",
        "outputId": "c65b3870-b70c-4dda-a968-cfed9b5d7dcb",
        "colab": {
          "base_uri": "https://localhost:8080/"
        }
      },
      "outputs": [
        {
          "output_type": "execute_result",
          "data": {
            "text/plain": [
              "27"
            ]
          },
          "metadata": {},
          "execution_count": 29
        }
      ],
      "source": [
        "# 3^3\n",
        "pow(3,3)"
      ]
    },
    {
      "cell_type": "code",
      "execution_count": 30,
      "metadata": {
        "ExecuteTime": {
          "end_time": "2024-09-27T13:38:04.959610Z",
          "start_time": "2024-09-27T13:38:04.953519Z"
        },
        "id": "O-KLWcbAiad_",
        "outputId": "ae9dce37-9839-42fa-a386-7ebf320a8a1c",
        "colab": {
          "base_uri": "https://localhost:8080/"
        }
      },
      "outputs": [
        {
          "output_type": "execute_result",
          "data": {
            "text/plain": [
              "0.5"
            ]
          },
          "metadata": {},
          "execution_count": 30
        }
      ],
      "source": [
        "# 2^(-1)\n",
        "pow(2,-1)"
      ]
    },
    {
      "cell_type": "markdown",
      "metadata": {
        "id": "OCtPtvpsiad_"
      },
      "source": [
        "- range([start], stop, [step]) 내장함수로 쉽게 `시퀀스(Sequence)` 생성 가능\n",
        "- start와 step은 생략 가능하며 start는 0, step은 1이 고정값"
      ]
    },
    {
      "cell_type": "code",
      "execution_count": 31,
      "metadata": {
        "ExecuteTime": {
          "end_time": "2024-09-27T13:38:04.966612Z",
          "start_time": "2024-09-27T13:38:04.960614Z"
        },
        "id": "yWY1YrS9iad_",
        "outputId": "4851df1b-0107-4016-eec8-d1e103b4da64",
        "colab": {
          "base_uri": "https://localhost:8080/"
        }
      },
      "outputs": [
        {
          "output_type": "execute_result",
          "data": {
            "text/plain": [
              "range(0, 10)"
            ]
          },
          "metadata": {},
          "execution_count": 31
        }
      ],
      "source": [
        "# 0이상 10미만 시퀀스 생성\n",
        "range(10)"
      ]
    },
    {
      "cell_type": "code",
      "execution_count": 32,
      "metadata": {
        "ExecuteTime": {
          "end_time": "2024-09-27T13:38:04.973848Z",
          "start_time": "2024-09-27T13:38:04.966612Z"
        },
        "id": "Cd4WsuBNiad_",
        "outputId": "e99baee3-488c-4048-aa48-538785c3cb14",
        "colab": {
          "base_uri": "https://localhost:8080/"
        }
      },
      "outputs": [
        {
          "output_type": "execute_result",
          "data": {
            "text/plain": [
              "[0, 1, 2, 3, 4, 5, 6, 7, 8, 9]"
            ]
          },
          "metadata": {},
          "execution_count": 32
        }
      ],
      "source": [
        "# 0이상 10미만 시퀀스 리스트 생성\n",
        "list(range(10))"
      ]
    },
    {
      "cell_type": "code",
      "execution_count": 33,
      "metadata": {
        "ExecuteTime": {
          "end_time": "2024-09-27T13:38:04.980369Z",
          "start_time": "2024-09-27T13:38:04.974851Z"
        },
        "id": "ekAo6X4ciaeA",
        "outputId": "6b511b2a-0d34-4fca-8905-e901e1c2acea",
        "colab": {
          "base_uri": "https://localhost:8080/"
        }
      },
      "outputs": [
        {
          "output_type": "execute_result",
          "data": {
            "text/plain": [
              "[3, 4, 5, 6, 7, 8, 9]"
            ]
          },
          "metadata": {},
          "execution_count": 33
        }
      ],
      "source": [
        "# 3이상 10미만 시퀀스 리스트 생성\n",
        "list(range(3,10))"
      ]
    },
    {
      "cell_type": "code",
      "execution_count": 34,
      "metadata": {
        "ExecuteTime": {
          "end_time": "2024-09-27T13:38:04.987037Z",
          "start_time": "2024-09-27T13:38:04.980369Z"
        },
        "id": "ic5QR8S1iaeA",
        "outputId": "310b53e1-f1d6-4534-c942-a3517fd2128d",
        "colab": {
          "base_uri": "https://localhost:8080/"
        }
      },
      "outputs": [
        {
          "output_type": "execute_result",
          "data": {
            "text/plain": [
              "[]"
            ]
          },
          "metadata": {},
          "execution_count": 34
        }
      ],
      "source": [
        "# 0이상 3미만 역 시퀀스 리스트 생성\n",
        "list(range(0,3,-1))"
      ]
    },
    {
      "cell_type": "code",
      "execution_count": 35,
      "metadata": {
        "ExecuteTime": {
          "end_time": "2024-09-27T13:38:04.994013Z",
          "start_time": "2024-09-27T13:38:04.988040Z"
        },
        "id": "eKvNvvDtiaeA",
        "outputId": "aff6aa90-9623-43de-a49a-2a0e43305a21",
        "colab": {
          "base_uri": "https://localhost:8080/"
        }
      },
      "outputs": [
        {
          "output_type": "execute_result",
          "data": {
            "text/plain": [
              "[3, 5, 7, 9]"
            ]
          },
          "metadata": {},
          "execution_count": 35
        }
      ],
      "source": [
        "# 3이상 10미만 2간격 시퀀스 리스트 생성\n",
        "list(range(3,10,2))"
      ]
    },
    {
      "cell_type": "code",
      "execution_count": 36,
      "metadata": {
        "ExecuteTime": {
          "end_time": "2024-09-27T13:38:05.001574Z",
          "start_time": "2024-09-27T13:38:04.995016Z"
        },
        "id": "LM0N4uisiaeA",
        "outputId": "29087b11-336c-409f-a8cc-a59cf6653393",
        "colab": {
          "base_uri": "https://localhost:8080/"
        }
      },
      "outputs": [
        {
          "output_type": "execute_result",
          "data": {
            "text/plain": [
              "[10, 9, 8, 7, 6, 5, 4]"
            ]
          },
          "metadata": {},
          "execution_count": 36
        }
      ],
      "source": [
        "# 10이상 3미만 역 시퀀스 리스트 생성\n",
        "list(range(10,3,-1))"
      ]
    },
    {
      "cell_type": "code",
      "execution_count": 37,
      "metadata": {
        "ExecuteTime": {
          "end_time": "2024-09-27T13:38:05.008445Z",
          "start_time": "2024-09-27T13:38:05.002577Z"
        },
        "id": "PR_5eYgyiaeA",
        "outputId": "28f6dfed-779f-484b-cfce-d01cbfd56f1a",
        "colab": {
          "base_uri": "https://localhost:8080/"
        }
      },
      "outputs": [
        {
          "output_type": "execute_result",
          "data": {
            "text/plain": [
              "(0, 1, 2, 3, 4, 5, 6, 7, 8, 9)"
            ]
          },
          "metadata": {},
          "execution_count": 37
        }
      ],
      "source": [
        "# 0이상 10미만 튜플 생성\n",
        "tuple(range(10))"
      ]
    },
    {
      "cell_type": "code",
      "execution_count": 38,
      "metadata": {
        "ExecuteTime": {
          "end_time": "2024-09-27T13:38:05.015510Z",
          "start_time": "2024-09-27T13:38:05.008445Z"
        },
        "id": "D_TRSKbCiaeA",
        "outputId": "6e2d63e2-683d-4e34-fee2-e6a525decadf",
        "colab": {
          "base_uri": "https://localhost:8080/"
        }
      },
      "outputs": [
        {
          "output_type": "execute_result",
          "data": {
            "text/plain": [
              "['h', 'e', 'l', 'l', 'o']"
            ]
          },
          "metadata": {},
          "execution_count": 38
        }
      ],
      "source": [
        "# 'hello' 문자열 리스트 변환\n",
        "list('hello')"
      ]
    },
    {
      "cell_type": "code",
      "execution_count": 39,
      "metadata": {
        "ExecuteTime": {
          "end_time": "2024-09-27T13:38:05.023076Z",
          "start_time": "2024-09-27T13:38:05.016512Z"
        },
        "id": "uIT3SpcgiaeF",
        "outputId": "d7741204-3173-45cf-cdd5-19f4c834d662",
        "colab": {
          "base_uri": "https://localhost:8080/"
        }
      },
      "outputs": [
        {
          "output_type": "execute_result",
          "data": {
            "text/plain": [
              "('h', 'e', 'l', 'l', 'o')"
            ]
          },
          "metadata": {},
          "execution_count": 39
        }
      ],
      "source": [
        "# 'hello' 문자열 튜플 변환\n",
        "tuple('hello')"
      ]
    },
    {
      "cell_type": "markdown",
      "metadata": {
        "id": "omSJvXNEiaeF"
      },
      "source": [
        "- **Question:** range 함수를 사용하여 아래와 같은 tuple 값을 출력하시오\n",
        "\n",
        "```python\n",
        "(5, 3, 1, -1, -3, -5, -7, -9)\n",
        "```"
      ]
    },
    {
      "cell_type": "code",
      "execution_count": 39,
      "metadata": {
        "ExecuteTime": {
          "end_time": "2021-10-06T02:24:11.329468Z",
          "start_time": "2021-10-06T02:24:11.318539Z"
        },
        "id": "2-sDfc7LiaeF"
      },
      "outputs": [],
      "source": [
        "\n"
      ]
    },
    {
      "cell_type": "markdown",
      "metadata": {
        "id": "08cijudBiaeF"
      },
      "source": [
        "## 변수의 생성과 삭제\n",
        "\n",
        "- `변수이름1, 변수이름2, 변수이름3 = 값1, 값2, 값3`\n",
        "- 변수의 갯수와 값의 갯수는 동일해야 하며 나열된 순서대로 할당"
      ]
    },
    {
      "cell_type": "code",
      "execution_count": 42,
      "metadata": {
        "ExecuteTime": {
          "end_time": "2024-09-27T13:38:05.029123Z",
          "start_time": "2024-09-27T13:38:05.023076Z"
        },
        "id": "eT4LOtw-iaeF"
      },
      "outputs": [],
      "source": [
        "# x = 10\n",
        "# y = 20\n",
        "# z = 30\n",
        "x, y, z = 10, 20, 30"
      ]
    },
    {
      "cell_type": "code",
      "execution_count": 43,
      "metadata": {
        "ExecuteTime": {
          "end_time": "2024-09-27T13:38:05.036726Z",
          "start_time": "2024-09-27T13:38:05.030126Z"
        },
        "id": "LSlAT31IiaeF",
        "outputId": "d282dfd7-8eaf-4160-dc1b-9f4231d18bdb",
        "colab": {
          "base_uri": "https://localhost:8080/"
        }
      },
      "outputs": [
        {
          "output_type": "execute_result",
          "data": {
            "text/plain": [
              "10"
            ]
          },
          "metadata": {},
          "execution_count": 43
        }
      ],
      "source": [
        "x"
      ]
    },
    {
      "cell_type": "code",
      "execution_count": 44,
      "metadata": {
        "ExecuteTime": {
          "end_time": "2024-09-27T13:38:05.044404Z",
          "start_time": "2024-09-27T13:38:05.036726Z"
        },
        "id": "wLQjhz89iaeG",
        "outputId": "479d4098-4429-46a0-c80f-1a8cd8ec3f1c",
        "colab": {
          "base_uri": "https://localhost:8080/"
        }
      },
      "outputs": [
        {
          "output_type": "execute_result",
          "data": {
            "text/plain": [
              "20"
            ]
          },
          "metadata": {},
          "execution_count": 44
        }
      ],
      "source": [
        "y"
      ]
    },
    {
      "cell_type": "code",
      "execution_count": 45,
      "metadata": {
        "ExecuteTime": {
          "end_time": "2024-09-27T13:38:05.051582Z",
          "start_time": "2024-09-27T13:38:05.044404Z"
        },
        "id": "Fswdv6ZyiaeG",
        "outputId": "cec03087-c6ae-4f1a-a253-cd91a8249288",
        "colab": {
          "base_uri": "https://localhost:8080/"
        }
      },
      "outputs": [
        {
          "output_type": "execute_result",
          "data": {
            "text/plain": [
              "30"
            ]
          },
          "metadata": {},
          "execution_count": 45
        }
      ],
      "source": [
        "z"
      ]
    },
    {
      "cell_type": "markdown",
      "metadata": {
        "id": "aGAKhZ5EiaeG"
      },
      "source": [
        "- `변수1 = 변수2 = 변수3 = 값`\n",
        "- 마지막 값으로 앞의 변수에 모두 할당"
      ]
    },
    {
      "cell_type": "code",
      "execution_count": 46,
      "metadata": {
        "ExecuteTime": {
          "end_time": "2024-09-27T13:38:05.057872Z",
          "start_time": "2024-09-27T13:38:05.052584Z"
        },
        "id": "FMsaMIupiaeG"
      },
      "outputs": [],
      "source": [
        "x = y = z = 10"
      ]
    },
    {
      "cell_type": "code",
      "execution_count": 47,
      "metadata": {
        "ExecuteTime": {
          "end_time": "2024-09-27T13:38:05.065638Z",
          "start_time": "2024-09-27T13:38:05.058874Z"
        },
        "id": "uRXHwF2-iaeH",
        "outputId": "699a0243-65a8-4e1e-9c85-8d9210925065",
        "colab": {
          "base_uri": "https://localhost:8080/"
        }
      },
      "outputs": [
        {
          "output_type": "execute_result",
          "data": {
            "text/plain": [
              "10"
            ]
          },
          "metadata": {},
          "execution_count": 47
        }
      ],
      "source": [
        "x"
      ]
    },
    {
      "cell_type": "code",
      "execution_count": 48,
      "metadata": {
        "ExecuteTime": {
          "end_time": "2024-09-27T13:38:05.072336Z",
          "start_time": "2024-09-27T13:38:05.066641Z"
        },
        "id": "At7KfA0NiaeH",
        "outputId": "2663a156-87b1-401c-dede-c3cef2595e44",
        "colab": {
          "base_uri": "https://localhost:8080/"
        }
      },
      "outputs": [
        {
          "output_type": "execute_result",
          "data": {
            "text/plain": [
              "10"
            ]
          },
          "metadata": {},
          "execution_count": 48
        }
      ],
      "source": [
        "y"
      ]
    },
    {
      "cell_type": "code",
      "execution_count": 49,
      "metadata": {
        "ExecuteTime": {
          "end_time": "2024-09-27T13:38:05.079382Z",
          "start_time": "2024-09-27T13:38:05.072336Z"
        },
        "id": "njW_pFoLiaeH",
        "outputId": "823acbc2-6d29-43fd-c8da-7f56c2084f92",
        "colab": {
          "base_uri": "https://localhost:8080/"
        }
      },
      "outputs": [
        {
          "output_type": "execute_result",
          "data": {
            "text/plain": [
              "10"
            ]
          },
          "metadata": {},
          "execution_count": 49
        }
      ],
      "source": [
        "z"
      ]
    },
    {
      "cell_type": "code",
      "execution_count": 50,
      "metadata": {
        "ExecuteTime": {
          "end_time": "2024-09-27T13:38:05.085807Z",
          "start_time": "2024-09-27T13:38:05.079382Z"
        },
        "id": "ZUVq-vM4iaeH",
        "outputId": "6a031586-9aa5-43b8-a272-505ceace13a0",
        "colab": {
          "base_uri": "https://localhost:8080/"
        }
      },
      "outputs": [
        {
          "output_type": "stream",
          "name": "stdout",
          "text": [
            "1 python [1, 2, 3]\n"
          ]
        }
      ],
      "source": [
        "a = 1\n",
        "b = \"python\"\n",
        "c = [1,2,3]\n",
        "print(a, b, c)"
      ]
    },
    {
      "cell_type": "code",
      "execution_count": 51,
      "metadata": {
        "ExecuteTime": {
          "end_time": "2024-09-27T13:38:05.093014Z",
          "start_time": "2024-09-27T13:38:05.086810Z"
        },
        "id": "IiI59u2viaeI",
        "outputId": "d7c0bc1b-ab66-4392-9337-01748a12aa9d",
        "colab": {
          "base_uri": "https://localhost:8080/"
        }
      },
      "outputs": [
        {
          "output_type": "stream",
          "name": "stdout",
          "text": [
            "10 35.2 pineapple\n"
          ]
        }
      ],
      "source": [
        "d, e, f = 10, 35.2, 'pineapple'\n",
        "print(d, e, f)"
      ]
    },
    {
      "cell_type": "markdown",
      "metadata": {
        "id": "DYCT477EiaeI"
      },
      "source": [
        "- `변수1, 변수2 = 변수2, 변수1`\n",
        "- 변수1과 변수2의 값 치환"
      ]
    },
    {
      "cell_type": "code",
      "execution_count": 52,
      "metadata": {
        "ExecuteTime": {
          "end_time": "2024-09-27T13:38:05.100221Z",
          "start_time": "2024-09-27T13:38:05.094017Z"
        },
        "id": "lURnDic8iaeI",
        "outputId": "edf04a7f-4cff-4483-d1ac-b856c2e58e7e",
        "colab": {
          "base_uri": "https://localhost:8080/"
        }
      },
      "outputs": [
        {
          "output_type": "stream",
          "name": "stdout",
          "text": [
            "10 20\n"
          ]
        }
      ],
      "source": [
        "x, y = 10, 20\n",
        "print(x, y)"
      ]
    },
    {
      "cell_type": "code",
      "execution_count": 53,
      "metadata": {
        "ExecuteTime": {
          "end_time": "2024-09-27T13:38:05.107184Z",
          "start_time": "2024-09-27T13:38:05.101223Z"
        },
        "id": "5ed4WtUjiaeI"
      },
      "outputs": [],
      "source": [
        "# 값 치환\n",
        "x, y = y, x"
      ]
    },
    {
      "cell_type": "code",
      "execution_count": 54,
      "metadata": {
        "ExecuteTime": {
          "end_time": "2024-09-27T13:38:05.114926Z",
          "start_time": "2024-09-27T13:38:05.108186Z"
        },
        "id": "QbKpizRFiaeI",
        "outputId": "195bdb15-d0e2-450b-95f0-805d7b5b4d4d",
        "colab": {
          "base_uri": "https://localhost:8080/"
        }
      },
      "outputs": [
        {
          "output_type": "execute_result",
          "data": {
            "text/plain": [
              "20"
            ]
          },
          "metadata": {},
          "execution_count": 54
        }
      ],
      "source": [
        "x"
      ]
    },
    {
      "cell_type": "code",
      "execution_count": 55,
      "metadata": {
        "ExecuteTime": {
          "end_time": "2024-09-27T13:38:05.121355Z",
          "start_time": "2024-09-27T13:38:05.115929Z"
        },
        "id": "QXur9d65iaeJ",
        "outputId": "9ca9e821-dadc-4a32-889a-e811af6f5046",
        "colab": {
          "base_uri": "https://localhost:8080/"
        }
      },
      "outputs": [
        {
          "output_type": "execute_result",
          "data": {
            "text/plain": [
              "10"
            ]
          },
          "metadata": {},
          "execution_count": 55
        }
      ],
      "source": [
        "y"
      ]
    },
    {
      "cell_type": "code",
      "execution_count": 56,
      "metadata": {
        "ExecuteTime": {
          "end_time": "2024-09-27T13:38:05.127078Z",
          "start_time": "2024-09-27T13:38:05.121355Z"
        },
        "id": "5IpbCFOaiaeJ"
      },
      "outputs": [],
      "source": [
        "# del 명령어로 변수 삭제 가능\n",
        "# del x\n",
        "# x"
      ]
    },
    {
      "cell_type": "markdown",
      "metadata": {
        "id": "sFk-SQCtiaeJ"
      },
      "source": [
        "- **(주의)** 변수끼리 할당 시 복사하지 않고 할당하면 동일 변수로 취급"
      ]
    },
    {
      "cell_type": "code",
      "execution_count": 57,
      "metadata": {
        "ExecuteTime": {
          "end_time": "2024-09-27T13:38:05.134044Z",
          "start_time": "2024-09-27T13:38:05.128080Z"
        },
        "id": "9_gkaJnJiaeJ",
        "outputId": "5f7b0fe2-e9bb-4d90-e8b0-383ed26825ae",
        "colab": {
          "base_uri": "https://localhost:8080/"
        }
      },
      "outputs": [
        {
          "output_type": "stream",
          "name": "stdout",
          "text": [
            "[200, 20, 30] [200, 20, 30]\n"
          ]
        }
      ],
      "source": [
        "a = [10, 20, 30]\n",
        "b = a\n",
        "a[0] = 200\n",
        "print(a, b)\n",
        "# a = [200, 20, 30]\n",
        "# b = [10, 20, 30]"
      ]
    },
    {
      "cell_type": "code",
      "execution_count": 58,
      "metadata": {
        "ExecuteTime": {
          "end_time": "2024-09-27T13:38:05.140751Z",
          "start_time": "2024-09-27T13:38:05.134044Z"
        },
        "id": "ZBdKrxSYiaeJ",
        "outputId": "1acee385-032e-4496-9095-610f71a7d469",
        "colab": {
          "base_uri": "https://localhost:8080/"
        }
      },
      "outputs": [
        {
          "output_type": "stream",
          "name": "stdout",
          "text": [
            "[200, 20, 30] [10, 20, 30]\n"
          ]
        }
      ],
      "source": [
        "# 복사방법1\n",
        "a = [10, 20, 30]\n",
        "b = a.copy()    # 복사방법1\n",
        "a[0] = 200\n",
        "print(a, b)"
      ]
    },
    {
      "cell_type": "code",
      "execution_count": 59,
      "metadata": {
        "ExecuteTime": {
          "end_time": "2024-09-27T13:38:05.147313Z",
          "start_time": "2024-09-27T13:38:05.140751Z"
        },
        "id": "s_a_IyvniaeJ",
        "outputId": "1153677c-5dc4-4b16-9380-9002ff525e18",
        "colab": {
          "base_uri": "https://localhost:8080/"
        }
      },
      "outputs": [
        {
          "output_type": "stream",
          "name": "stdout",
          "text": [
            "[200, 20, 30] [10, 20, 30]\n"
          ]
        }
      ],
      "source": [
        "# 복사방법2\n",
        "a = [10, 20, 30]\n",
        "b = a[:]    # 복사방법2\n",
        "a[0] = 200\n",
        "print(a, b)"
      ]
    },
    {
      "cell_type": "code",
      "execution_count": 60,
      "metadata": {
        "ExecuteTime": {
          "end_time": "2024-09-27T13:38:05.153837Z",
          "start_time": "2024-09-27T13:38:05.147313Z"
        },
        "id": "L1ZtIVODiaeK",
        "outputId": "fe476b2d-92b6-4529-dd06-6203c1f67995",
        "colab": {
          "base_uri": "https://localhost:8080/"
        }
      },
      "outputs": [
        {
          "output_type": "stream",
          "name": "stdout",
          "text": [
            "python life\n"
          ]
        }
      ],
      "source": [
        "a, b = ('python', 'life')\n",
        "print(a, b)"
      ]
    },
    {
      "cell_type": "code",
      "execution_count": 61,
      "metadata": {
        "ExecuteTime": {
          "end_time": "2024-09-27T13:38:05.160637Z",
          "start_time": "2024-09-27T13:38:05.153837Z"
        },
        "id": "MrDfYHXQiaeK",
        "outputId": "8edf2233-becb-4f23-9829-6f83a839feb9",
        "colab": {
          "base_uri": "https://localhost:8080/"
        }
      },
      "outputs": [
        {
          "output_type": "stream",
          "name": "stdout",
          "text": [
            "python life\n"
          ]
        }
      ],
      "source": [
        "(a, b) = 'python', 'life'\n",
        "print(a, b)"
      ]
    },
    {
      "cell_type": "code",
      "execution_count": 62,
      "metadata": {
        "ExecuteTime": {
          "end_time": "2024-09-27T13:38:05.167350Z",
          "start_time": "2024-09-27T13:38:05.160637Z"
        },
        "id": "TmxRwaQHiaeK",
        "outputId": "b0c2f2f3-9e73-44a0-9b69-67e859336823",
        "colab": {
          "base_uri": "https://localhost:8080/"
        }
      },
      "outputs": [
        {
          "output_type": "stream",
          "name": "stdout",
          "text": [
            "python life\n"
          ]
        }
      ],
      "source": [
        "[a,b] = ['python', 'life']\n",
        "print(a, b)"
      ]
    },
    {
      "cell_type": "markdown",
      "metadata": {
        "id": "VIhirBTiiaeK"
      },
      "source": [
        "- **Question:** 다음 중 사용할 수 없는 변수명을 모두 고르고 이유를 설명하시오\n",
        "\n",
        "(1) none\n",
        "(2) normal\n",
        "(3) my1\n",
        "(4) 111\n",
        "(5) _python\n",
        "(6) *python\n",
        "(7) 변수"
      ]
    },
    {
      "cell_type": "code",
      "execution_count": 63,
      "metadata": {
        "ExecuteTime": {
          "end_time": "2024-09-27T13:38:05.173823Z",
          "start_time": "2024-09-27T13:38:05.167350Z"
        },
        "id": "IKcryru2iaeK"
      },
      "outputs": [],
      "source": [
        "# 설명\n",
        "# 1)\n",
        "# 2)\n",
        "# 3)\n",
        "# ..."
      ]
    },
    {
      "cell_type": "markdown",
      "metadata": {
        "id": "waLmXTySiaeK"
      },
      "source": [
        "## 빈 변수 생성\n",
        "\n",
        "- **None:** 파이썬에서 아무것도 없는 빈 상태를 나타내는 자료형\n",
        "\n",
        "> **특징:**\n",
        "> - 비어있는 문자/리스트/집합/딕셔너리와 다름\n",
        "> - 불리언으로 인지될 False나 0과 다름\n",
        "> - `None`은 문자와도 달라서 따옴표 없이 사용\n",
        "\n",
        "> **적절한 사용 시점:**\n",
        "> - 값을 알수 없거나 존재하지 않는 경우\n",
        "> - 값이 `없음` 일 경우 (ex) 데이터 재로딩)\n",
        "> - 값이 정의되지 않는 경우\n",
        "> - 값을 초기화 해서 사용하는 경우 (ex) 변수 재사용)\n",
        "\n",
        "<!-- https://m.blog.naver.com/PostView.naver?isHttpsRedirect=true&blogId=youndok&logNo=222085870181 -->"
      ]
    },
    {
      "cell_type": "code",
      "execution_count": 64,
      "metadata": {
        "ExecuteTime": {
          "end_time": "2024-09-27T13:38:05.180277Z",
          "start_time": "2024-09-27T13:38:05.174825Z"
        },
        "id": "AYi03latiaeL"
      },
      "outputs": [],
      "source": [
        "# x ="
      ]
    },
    {
      "cell_type": "code",
      "execution_count": 65,
      "metadata": {
        "ExecuteTime": {
          "end_time": "2024-09-27T13:38:05.187011Z",
          "start_time": "2024-09-27T13:38:05.180277Z"
        },
        "id": "ioYHZ-cjiaeL"
      },
      "outputs": [],
      "source": [
        "x = None\n",
        "x"
      ]
    },
    {
      "cell_type": "code",
      "execution_count": 66,
      "metadata": {
        "ExecuteTime": {
          "end_time": "2024-09-27T13:38:05.194231Z",
          "start_time": "2024-09-27T13:38:05.188013Z"
        },
        "id": "WXnGdlJFiaeL",
        "outputId": "63d41098-6d7d-44df-cf69-2866e46e05b0",
        "colab": {
          "base_uri": "https://localhost:8080/"
        }
      },
      "outputs": [
        {
          "output_type": "execute_result",
          "data": {
            "text/plain": [
              "NoneType"
            ]
          },
          "metadata": {},
          "execution_count": 66
        }
      ],
      "source": [
        "type(x)"
      ]
    },
    {
      "cell_type": "code",
      "execution_count": 67,
      "metadata": {
        "ExecuteTime": {
          "end_time": "2024-09-27T13:38:05.200890Z",
          "start_time": "2024-09-27T13:38:05.194231Z"
        },
        "id": "g_GkVxfdiaeL",
        "outputId": "35be4d6f-0eee-443b-f005-83cdb1377276",
        "colab": {
          "base_uri": "https://localhost:8080/"
        }
      },
      "outputs": [
        {
          "output_type": "execute_result",
          "data": {
            "text/plain": [
              "False"
            ]
          },
          "metadata": {},
          "execution_count": 67
        }
      ],
      "source": [
        "# None과 False가 같은지 비교\n",
        "None == False"
      ]
    },
    {
      "cell_type": "code",
      "execution_count": 68,
      "metadata": {
        "ExecuteTime": {
          "end_time": "2024-09-27T13:38:05.208446Z",
          "start_time": "2024-09-27T13:38:05.200890Z"
        },
        "id": "IM62BJ7DiaeL",
        "outputId": "86cc2df8-4f1a-4f91-8a20-ab2583ca9023",
        "colab": {
          "base_uri": "https://localhost:8080/"
        }
      },
      "outputs": [
        {
          "output_type": "execute_result",
          "data": {
            "text/plain": [
              "False"
            ]
          },
          "metadata": {},
          "execution_count": 68
        }
      ],
      "source": [
        "# None과 True가 같은지 비교\n",
        "None == True"
      ]
    },
    {
      "cell_type": "markdown",
      "metadata": {
        "id": "wIm3dxXpiaeL"
      },
      "source": [
        "## 변수의 연산"
      ]
    },
    {
      "cell_type": "code",
      "execution_count": 69,
      "metadata": {
        "ExecuteTime": {
          "end_time": "2024-09-27T13:38:05.216169Z",
          "start_time": "2024-09-27T13:38:05.208446Z"
        },
        "id": "QcoAbWTSiaeM",
        "outputId": "e20bb718-e891-4649-f139-89501a1c8066",
        "colab": {
          "base_uri": "https://localhost:8080/"
        }
      },
      "outputs": [
        {
          "output_type": "execute_result",
          "data": {
            "text/plain": [
              "30"
            ]
          },
          "metadata": {},
          "execution_count": 69
        }
      ],
      "source": [
        "a = 10\n",
        "b = 20\n",
        "a + b"
      ]
    },
    {
      "cell_type": "code",
      "execution_count": 70,
      "metadata": {
        "ExecuteTime": {
          "end_time": "2024-09-27T13:38:05.223519Z",
          "start_time": "2024-09-27T13:38:05.216169Z"
        },
        "id": "GcUHc4v_iaeM",
        "outputId": "9601542c-a6e4-42ea-ef75-6c13d43703b7",
        "colab": {
          "base_uri": "https://localhost:8080/"
        }
      },
      "outputs": [
        {
          "output_type": "execute_result",
          "data": {
            "text/plain": [
              "30"
            ]
          },
          "metadata": {},
          "execution_count": 70
        }
      ],
      "source": [
        "a = 10\n",
        "a + 20"
      ]
    },
    {
      "cell_type": "code",
      "execution_count": 71,
      "metadata": {
        "ExecuteTime": {
          "end_time": "2024-09-27T13:38:05.231097Z",
          "start_time": "2024-09-27T13:38:05.223519Z"
        },
        "id": "Zyd_5I4-iaeM",
        "outputId": "46004c1f-5c12-4bdb-b776-17e3467b21ac",
        "colab": {
          "base_uri": "https://localhost:8080/"
        }
      },
      "outputs": [
        {
          "output_type": "execute_result",
          "data": {
            "text/plain": [
              "10"
            ]
          },
          "metadata": {},
          "execution_count": 71
        }
      ],
      "source": [
        "a"
      ]
    },
    {
      "cell_type": "code",
      "execution_count": 72,
      "metadata": {
        "ExecuteTime": {
          "end_time": "2024-09-27T13:38:05.238015Z",
          "start_time": "2024-09-27T13:38:05.231097Z"
        },
        "id": "wgyoSUN3iaeM",
        "outputId": "a86e6c8b-ec19-4b6f-ca3d-0d1e6d9ae2c6",
        "colab": {
          "base_uri": "https://localhost:8080/"
        }
      },
      "outputs": [
        {
          "output_type": "execute_result",
          "data": {
            "text/plain": [
              "30"
            ]
          },
          "metadata": {},
          "execution_count": 72
        }
      ],
      "source": [
        "a = 10\n",
        "a = a + 20\n",
        "a"
      ]
    },
    {
      "cell_type": "code",
      "execution_count": 73,
      "metadata": {
        "ExecuteTime": {
          "end_time": "2024-09-27T13:38:05.244532Z",
          "start_time": "2024-09-27T13:38:05.239017Z"
        },
        "id": "2M8ivM7LiaeM",
        "outputId": "bd7892c3-46cc-4cf5-8d3f-bd26f20d2f73",
        "colab": {
          "base_uri": "https://localhost:8080/"
        }
      },
      "outputs": [
        {
          "output_type": "execute_result",
          "data": {
            "text/plain": [
              "-30"
            ]
          },
          "metadata": {},
          "execution_count": 73
        }
      ],
      "source": [
        "-a"
      ]
    },
    {
      "cell_type": "markdown",
      "metadata": {
        "id": "npHVNhOziaeM"
      },
      "source": [
        "## 변수에 값을 입력받아 연산\n",
        "\n",
        "> - **input():** 사용자가 입력한 값을 가져오는 함수\n",
        "> - 입력값은 문자열로 간주"
      ]
    },
    {
      "cell_type": "code",
      "execution_count": 75,
      "metadata": {
        "ExecuteTime": {
          "end_time": "2024-09-27T13:38:05.250790Z",
          "start_time": "2024-09-27T13:38:05.244532Z"
        },
        "id": "jv9kdXG6iaeN",
        "outputId": "896bc56c-bf13-4318-f0f3-ca98c385dd00",
        "colab": {
          "base_uri": "https://localhost:8080/",
          "height": 52
        }
      },
      "outputs": [
        {
          "name": "stdout",
          "output_type": "stream",
          "text": [
            "10\n"
          ]
        },
        {
          "output_type": "execute_result",
          "data": {
            "text/plain": [
              "'10'"
            ],
            "application/vnd.google.colaboratory.intrinsic+json": {
              "type": "string"
            }
          },
          "metadata": {},
          "execution_count": 75
        }
      ],
      "source": [
        " input()"
      ]
    },
    {
      "cell_type": "code",
      "execution_count": 80,
      "metadata": {
        "ExecuteTime": {
          "end_time": "2024-09-27T13:38:05.257678Z",
          "start_time": "2024-09-27T13:38:05.254793Z"
        },
        "id": "uPGibRIOiaeN",
        "outputId": "381abc99-e91d-4272-b8be-14284d5a4006",
        "colab": {
          "base_uri": "https://localhost:8080/"
        }
      },
      "outputs": [
        {
          "name": "stdout",
          "output_type": "stream",
          "text": [
            "10\n"
          ]
        }
      ],
      "source": [
        " x = input()"
      ]
    },
    {
      "cell_type": "code",
      "execution_count": 81,
      "metadata": {
        "ExecuteTime": {
          "end_time": "2024-09-27T13:38:05.264552Z",
          "start_time": "2024-09-27T13:38:05.258680Z"
        },
        "id": "wtT-_H9qiaeN"
      },
      "outputs": [],
      "source": [
        "# x"
      ]
    },
    {
      "cell_type": "code",
      "execution_count": 84,
      "metadata": {
        "ExecuteTime": {
          "end_time": "2024-09-27T13:38:05.271446Z",
          "start_time": "2024-09-27T13:38:05.265554Z"
        },
        "id": "zfxYDqWDiaeN",
        "outputId": "65f0e17f-00cd-46ad-bcfb-99d70d8c970e",
        "colab": {
          "base_uri": "https://localhost:8080/"
        }
      },
      "outputs": [
        {
          "name": "stdout",
          "output_type": "stream",
          "text": [
            "입력값을 받습니다: 100\n"
          ]
        }
      ],
      "source": [
        " x = input('입력값을 받습니다: ')"
      ]
    },
    {
      "cell_type": "code",
      "execution_count": 85,
      "metadata": {
        "ExecuteTime": {
          "end_time": "2024-09-27T13:38:05.278394Z",
          "start_time": "2024-09-27T13:38:05.271446Z"
        },
        "id": "L6VdGYXiiaeN"
      },
      "outputs": [],
      "source": [
        "# x"
      ]
    },
    {
      "cell_type": "code",
      "execution_count": 86,
      "metadata": {
        "ExecuteTime": {
          "end_time": "2024-09-27T13:38:05.285418Z",
          "start_time": "2024-09-27T13:38:05.279396Z"
        },
        "id": "U1zK4up1iaeN",
        "outputId": "57f1659b-bd46-4c72-8c96-d54b687aff84",
        "colab": {
          "base_uri": "https://localhost:8080/",
          "height": 70
        }
      },
      "outputs": [
        {
          "name": "stdout",
          "output_type": "stream",
          "text": [
            "첫 번째 숫자를 입력하세요: 10\n",
            "두 번째 숫자를 입력하세요: 100\n"
          ]
        },
        {
          "output_type": "execute_result",
          "data": {
            "text/plain": [
              "'10100'"
            ],
            "application/vnd.google.colaboratory.intrinsic+json": {
              "type": "string"
            }
          },
          "metadata": {},
          "execution_count": 86
        }
      ],
      "source": [
        " a = input('첫 번째 숫자를 입력하세요: ')\n",
        " b = input('두 번째 숫자를 입력하세요: ')\n",
        " a + b"
      ]
    },
    {
      "cell_type": "code",
      "execution_count": 87,
      "metadata": {
        "ExecuteTime": {
          "end_time": "2024-09-27T13:38:05.292303Z",
          "start_time": "2024-09-27T13:38:05.286421Z"
        },
        "id": "mRucdF3YiaeN"
      },
      "outputs": [],
      "source": [
        "# type(x)"
      ]
    },
    {
      "cell_type": "code",
      "execution_count": 88,
      "metadata": {
        "ExecuteTime": {
          "end_time": "2024-09-27T13:38:05.299598Z",
          "start_time": "2024-09-27T13:38:05.293305Z"
        },
        "id": "8QpAdFRciaeN"
      },
      "outputs": [],
      "source": [
        "# type(a)"
      ]
    },
    {
      "cell_type": "code",
      "execution_count": 91,
      "metadata": {
        "ExecuteTime": {
          "end_time": "2024-09-27T13:38:05.305981Z",
          "start_time": "2024-09-27T13:38:05.300601Z"
        },
        "id": "6IMd3Ab4iaeO",
        "outputId": "4b7a939e-0653-473d-974a-0e759893d7f0",
        "colab": {
          "base_uri": "https://localhost:8080/"
        }
      },
      "outputs": [
        {
          "name": "stdout",
          "output_type": "stream",
          "text": [
            "첫 번째 숫자를 입력하세요: 10\n",
            "두 번째 숫자를 입력하세요: 100\n"
          ]
        },
        {
          "output_type": "execute_result",
          "data": {
            "text/plain": [
              "110"
            ]
          },
          "metadata": {},
          "execution_count": 91
        }
      ],
      "source": [
        " a = int(input('첫 번째 숫자를 입력하세요: '))\n",
        " b = int(input('두 번째 숫자를 입력하세요: '))\n",
        " a + b"
      ]
    },
    {
      "cell_type": "code",
      "execution_count": 101,
      "metadata": {
        "ExecuteTime": {
          "end_time": "2024-09-27T13:38:05.312556Z",
          "start_time": "2024-09-27T13:38:05.306983Z"
        },
        "id": "QVMnQ-wHiaeO",
        "outputId": "edd1a2d3-e0e5-488e-9474-ccccb64e9b93",
        "colab": {
          "base_uri": "https://localhost:8080/"
        }
      },
      "outputs": [
        {
          "name": "stdout",
          "output_type": "stream",
          "text": [
            "첫 번째 숫자를 입력하세요: 100\n",
            "두 번째 숫자를 입력하세요: 10.5\n"
          ]
        },
        {
          "output_type": "execute_result",
          "data": {
            "text/plain": [
              "110.5"
            ]
          },
          "metadata": {},
          "execution_count": 101
        }
      ],
      "source": [
        " # a는 정수 100, b는 실수 10.5를 입력받아 합계를 출력\n",
        " a = int(input('첫 번째 숫자를 입력하세요: '))\n",
        " b = float(input('두 번째 숫자를 입력하세요: '))\n",
        " a + b"
      ]
    },
    {
      "cell_type": "markdown",
      "metadata": {
        "id": "6oTfQlRSiaeO"
      },
      "source": [
        "- `변수1, 변수2 = input('문자열').split('기준문자열')`\n",
        "- 여러개의 문자열을 입력받을 시, 분리(split) 구분자(기준문자열)를 지정하여 사용 가능"
      ]
    },
    {
      "cell_type": "code",
      "execution_count": 108,
      "metadata": {
        "ExecuteTime": {
          "end_time": "2024-09-27T13:38:05.319319Z",
          "start_time": "2024-09-27T13:38:05.313558Z"
        },
        "id": "cQeor3qGiaeO",
        "outputId": "6398dda8-dec7-40bf-bf04-83e63dc83514",
        "colab": {
          "base_uri": "https://localhost:8080/"
        }
      },
      "outputs": [
        {
          "output_type": "stream",
          "name": "stdout",
          "text": [
            "['My', 'name', 'is', 'KK']\n",
            "My name is KK\n"
          ]
        }
      ],
      "source": [
        "temp = 'My name is KK'\n",
        "print(temp.split(' '))\n",
        "print(' '.join(temp.split(' ')))"
      ]
    },
    {
      "cell_type": "code",
      "execution_count": 109,
      "metadata": {
        "ExecuteTime": {
          "end_time": "2024-09-27T13:38:05.326036Z",
          "start_time": "2024-09-27T13:38:05.320322Z"
        },
        "id": "7P0JfFYZiaeO",
        "outputId": "5bb84aa9-0a75-4137-b1c5-b9624a47e1b9",
        "colab": {
          "base_uri": "https://localhost:8080/"
        }
      },
      "outputs": [
        {
          "output_type": "stream",
          "name": "stdout",
          "text": [
            "문자열 2개를 입력하세요: kk, happy\n",
            "kk  happy\n"
          ]
        }
      ],
      "source": [
        " a, b = input('문자열 2개를 입력하세요: ').split(',')\n",
        " print(a, b)"
      ]
    },
    {
      "cell_type": "code",
      "execution_count": 112,
      "metadata": {
        "ExecuteTime": {
          "end_time": "2024-09-27T13:38:05.332590Z",
          "start_time": "2024-09-27T13:38:05.327039Z"
        },
        "id": "cWTrGjCViaeO",
        "outputId": "33e10bad-30ab-4c23-ffc4-54b8f3fb81ea",
        "colab": {
          "base_uri": "https://localhost:8080/",
          "height": 52
        }
      },
      "outputs": [
        {
          "name": "stdout",
          "output_type": "stream",
          "text": [
            "숫자 두 개를 입력하세요: 10 100\n"
          ]
        },
        {
          "output_type": "execute_result",
          "data": {
            "text/plain": [
              "'10100'"
            ],
            "application/vnd.google.colaboratory.intrinsic+json": {
              "type": "string"
            }
          },
          "metadata": {},
          "execution_count": 112
        }
      ],
      "source": [
        " a, b = input('숫자 두 개를 입력하세요: ').split() # split 값이 없으면 공백을 기준으로 분리\n",
        " a + b"
      ]
    },
    {
      "cell_type": "code",
      "execution_count": 114,
      "metadata": {
        "ExecuteTime": {
          "end_time": "2024-09-27T13:38:05.339033Z",
          "start_time": "2024-09-27T13:38:05.333595Z"
        },
        "id": "amCCzNeyiaeO",
        "outputId": "be1fa8d5-d2da-4f97-e499-c8162d363ab4",
        "colab": {
          "base_uri": "https://localhost:8080/"
        }
      },
      "outputs": [
        {
          "name": "stdout",
          "output_type": "stream",
          "text": [
            "숫자 두 개를 입력하세요: 10 100\n"
          ]
        },
        {
          "output_type": "execute_result",
          "data": {
            "text/plain": [
              "110"
            ]
          },
          "metadata": {},
          "execution_count": 114
        }
      ],
      "source": [
        " a, b = input('숫자 두 개를 입력하세요: ').split()\n",
        " int(a) + int(b)"
      ]
    },
    {
      "cell_type": "code",
      "execution_count": 115,
      "metadata": {
        "ExecuteTime": {
          "end_time": "2024-09-27T13:38:05.346168Z",
          "start_time": "2024-09-27T13:38:05.340035Z"
        },
        "id": "XOhqGgK1iaeO",
        "outputId": "49dbfe1c-9c6d-4bfa-e49b-a7f2826ba86c",
        "colab": {
          "base_uri": "https://localhost:8080/"
        }
      },
      "outputs": [
        {
          "name": "stdout",
          "output_type": "stream",
          "text": [
            "숫자 두 개를 입력하세요: 10 100\n"
          ]
        },
        {
          "output_type": "execute_result",
          "data": {
            "text/plain": [
              "110"
            ]
          },
          "metadata": {},
          "execution_count": 115
        }
      ],
      "source": [
        " a, b = input('숫자 두 개를 입력하세요: ').split()\n",
        " a = int(a)\n",
        " b = int(b)\n",
        " a + b"
      ]
    },
    {
      "cell_type": "code",
      "execution_count": 121,
      "metadata": {
        "ExecuteTime": {
          "end_time": "2024-09-27T13:38:05.353051Z",
          "start_time": "2024-09-27T13:38:05.347170Z"
        },
        "id": "4_FW4WWmiaeP",
        "outputId": "4cfd7619-c44d-4aa7-c496-5bc20e24638c",
        "colab": {
          "base_uri": "https://localhost:8080/"
        }
      },
      "outputs": [
        {
          "name": "stdout",
          "output_type": "stream",
          "text": [
            "숫자 두 개를 입력하세요: 10 100\n"
          ]
        },
        {
          "output_type": "execute_result",
          "data": {
            "text/plain": [
              "110"
            ]
          },
          "metadata": {},
          "execution_count": 121
        }
      ],
      "source": [
        "#  map(함수, 값) 내장함수를 사용하여 각각의 값의 함수처리 출력\n",
        "#  숫자 입력시 공백을 기준으로 2개를 입력\n",
        "#  출력은 2개의 입력값 합\n",
        "a, b = map(int, input('숫자 두 개를 입력하세요: ').split())\n",
        "a + b"
      ]
    },
    {
      "cell_type": "markdown",
      "metadata": {
        "id": "7EkPil_ViaeP"
      },
      "source": [
        "- **Question:** 정수 5개를 입력받아 합계를 출력하시오"
      ]
    },
    {
      "cell_type": "code",
      "execution_count": 120,
      "metadata": {
        "ExecuteTime": {
          "end_time": "2021-10-06T04:05:32.667158Z",
          "start_time": "2021-10-06T04:05:28.518927Z"
        },
        "id": "xURDes-FiaeP"
      },
      "outputs": [],
      "source": [
        "\n"
      ]
    },
    {
      "cell_type": "markdown",
      "metadata": {
        "id": "9bb0RkJriaeP"
      },
      "source": [
        "## 변수의 비교와 논리\n",
        "\n",
        "- **Question:** 한 과목이라도 50점 미만이면 불합격(False)를 출력하시오\n",
        "\n",
        "```python\n",
        "korean = 92\n",
        "english = 49\n",
        "mathematics = 86\n",
        "science = 81\n",
        "history = 51\n",
        "```"
      ]
    },
    {
      "cell_type": "code",
      "execution_count": 123,
      "metadata": {
        "ExecuteTime": {
          "end_time": "2024-09-27T13:38:05.359700Z",
          "start_time": "2024-09-27T13:38:05.354053Z"
        },
        "id": "VYv5ZxrZiaeP"
      },
      "outputs": [],
      "source": [
        "korean = 92\n",
        "english = 49\n",
        "mathematics = 86\n",
        "science = 81\n",
        "history = 51\n",
        "\n"
      ]
    },
    {
      "cell_type": "markdown",
      "metadata": {
        "id": "ltmKGu0NiaeP"
      },
      "source": [
        "## 순서가 있는 시퀀스 데이터 형태\n",
        "\n",
        "- **시퀀스(Sequence):** 리스트/튜플/문자열 등으로 연속적으로 이어진 순서가 있는 자료형\n",
        "> - 시퀀스는 어떠한 자료형으로 구성되든 공통된 동작과 기능을 제공\n",
        "> - 시퀀스의 각 값을 요소(Element)라고 함\n",
        "> - 순서가 있기 때문에 `인덱스/인덱싱/슬라이싱` 가능"
      ]
    },
    {
      "cell_type": "code",
      "execution_count": 124,
      "metadata": {
        "ExecuteTime": {
          "end_time": "2024-09-27T13:38:05.367008Z",
          "start_time": "2024-09-27T13:38:05.359700Z"
        },
        "id": "uHMGKRE2iaeP",
        "outputId": "1da10f3a-91fb-4bd3-abb9-efcc426a9bfb",
        "colab": {
          "base_uri": "https://localhost:8080/"
        }
      },
      "outputs": [
        {
          "output_type": "execute_result",
          "data": {
            "text/plain": [
              "[0, 10, 20, 30, 40, 50, 60, 70, 80, 90]"
            ]
          },
          "metadata": {},
          "execution_count": 124
        }
      ],
      "source": [
        "a = [0, 10, 20, 30, 40, 50, 60, 70, 80, 90]\n",
        "a"
      ]
    },
    {
      "cell_type": "code",
      "execution_count": 125,
      "metadata": {
        "ExecuteTime": {
          "end_time": "2024-09-27T13:38:05.373627Z",
          "start_time": "2024-09-27T13:38:05.367008Z"
        },
        "id": "f-l5sn-_iaeQ",
        "outputId": "22fb7e7c-f5ac-4bdb-8cfd-18808af32817",
        "colab": {
          "base_uri": "https://localhost:8080/"
        }
      },
      "outputs": [
        {
          "output_type": "execute_result",
          "data": {
            "text/plain": [
              "[0, 10, 20, 30, 40, 50, 60, 70, 80, 90]"
            ]
          },
          "metadata": {},
          "execution_count": 125
        }
      ],
      "source": [
        "# 0이상 100미만 10간격 시퀀스 리스트 생성\n",
        "a = list(range(0, 100, 10))\n",
        "a"
      ]
    },
    {
      "cell_type": "markdown",
      "metadata": {
        "id": "3K9Q3dHPiaeQ"
      },
      "source": [
        "- 시퀀스는 멤버연산자를 사용해서 멤버를 조회 할 수 있음"
      ]
    },
    {
      "cell_type": "code",
      "execution_count": 126,
      "metadata": {
        "ExecuteTime": {
          "end_time": "2024-09-27T13:38:05.380586Z",
          "start_time": "2024-09-27T13:38:05.373627Z"
        },
        "id": "ueB5Q9bGiaeQ",
        "outputId": "fbb6c8f8-04bd-4ae4-bec0-50b1b687a3d6",
        "colab": {
          "base_uri": "https://localhost:8080/"
        }
      },
      "outputs": [
        {
          "output_type": "execute_result",
          "data": {
            "text/plain": [
              "True"
            ]
          },
          "metadata": {},
          "execution_count": 126
        }
      ],
      "source": [
        "# 30이 a리스트에 포함되는지 여부\n",
        "30 in a"
      ]
    },
    {
      "cell_type": "code",
      "execution_count": 127,
      "metadata": {
        "ExecuteTime": {
          "end_time": "2024-09-27T13:38:05.387173Z",
          "start_time": "2024-09-27T13:38:05.380586Z"
        },
        "id": "PfAj8kk7iaeQ",
        "outputId": "763c70f0-4640-4126-97da-85d68d4eb845",
        "colab": {
          "base_uri": "https://localhost:8080/"
        }
      },
      "outputs": [
        {
          "output_type": "execute_result",
          "data": {
            "text/plain": [
              "False"
            ]
          },
          "metadata": {},
          "execution_count": 127
        }
      ],
      "source": [
        "# 100이 a리스트에 포함되는지 여부\n",
        "100 in a"
      ]
    },
    {
      "cell_type": "code",
      "execution_count": 128,
      "metadata": {
        "ExecuteTime": {
          "end_time": "2024-09-27T13:38:05.394075Z",
          "start_time": "2024-09-27T13:38:05.387173Z"
        },
        "id": "jKEXPQI_iaeQ",
        "outputId": "a5aa254b-83e2-4582-987e-f80af4843274",
        "colab": {
          "base_uri": "https://localhost:8080/"
        }
      },
      "outputs": [
        {
          "output_type": "execute_result",
          "data": {
            "text/plain": [
              "True"
            ]
          },
          "metadata": {},
          "execution_count": 128
        }
      ],
      "source": [
        "# 100이 a리스트에 포함되지 않는지 여부\n",
        "100 not in a"
      ]
    },
    {
      "cell_type": "code",
      "execution_count": 129,
      "metadata": {
        "ExecuteTime": {
          "end_time": "2024-09-27T13:38:05.400777Z",
          "start_time": "2024-09-27T13:38:05.394075Z"
        },
        "id": "sPBHViq7iaeQ",
        "outputId": "4af29c84-0bcd-4003-f44a-919f85d39f49",
        "colab": {
          "base_uri": "https://localhost:8080/"
        }
      },
      "outputs": [
        {
          "output_type": "execute_result",
          "data": {
            "text/plain": [
              "True"
            ]
          },
          "metadata": {},
          "execution_count": 129
        }
      ],
      "source": [
        "# 43이 (38, 76, 43, 62, 19) 튜플에 포함되는지 여부\n",
        "43 in (38, 76, 43, 62, 19)"
      ]
    },
    {
      "cell_type": "markdown",
      "metadata": {
        "id": "lBo5o36siaeR"
      },
      "source": [
        "- 시퀀스가 길어지고 일일이 만들기 어려우면 **`range()`** 함수로 쉽게 생성 가능\n",
        "\n",
        "```python\n",
        "range(start, stop, step)    # start부터 stop-1까지 step간격으로 생성\n",
        "```\n",
        "\n",
        "```python\n",
        "range(5)    # 0,1,2,3,4 (시작 인덱스완 간격이 자동으로 0과 1로 지정)\n",
        "range(1,5)    # 1,2,3,4 (간격은 자동으로 1로 지정)\n",
        "range(1,5,2)    # 1,3\n",
        "```"
      ]
    },
    {
      "cell_type": "code",
      "execution_count": 130,
      "metadata": {
        "ExecuteTime": {
          "end_time": "2024-09-27T13:38:05.407596Z",
          "start_time": "2024-09-27T13:38:05.400777Z"
        },
        "id": "fbOGBEs6iaeR",
        "outputId": "5f9dca4b-7eb1-4ba8-b663-fcf2f76fefa2",
        "colab": {
          "base_uri": "https://localhost:8080/"
        }
      },
      "outputs": [
        {
          "output_type": "execute_result",
          "data": {
            "text/plain": [
              "True"
            ]
          },
          "metadata": {},
          "execution_count": 130
        }
      ],
      "source": [
        "# 1이 0이상 10미만 시퀀스에 포함되는지 여부\n",
        "1 in range(10)"
      ]
    },
    {
      "cell_type": "code",
      "execution_count": 131,
      "metadata": {
        "ExecuteTime": {
          "end_time": "2024-09-27T13:38:05.414366Z",
          "start_time": "2024-09-27T13:38:05.407596Z"
        },
        "id": "bi9kwQcZiaeR",
        "outputId": "eb5c42e7-c688-4f5f-906a-caf86a4c4942",
        "colab": {
          "base_uri": "https://localhost:8080/"
        }
      },
      "outputs": [
        {
          "output_type": "execute_result",
          "data": {
            "text/plain": [
              "True"
            ]
          },
          "metadata": {},
          "execution_count": 131
        }
      ],
      "source": [
        "# 'P'문자가 'Hello, Python'에 포함되는지 여부\n",
        "'P' in 'Hello, Python'"
      ]
    },
    {
      "cell_type": "markdown",
      "metadata": {
        "id": "YoaN27fbiaeR"
      },
      "source": [
        "- 시퀀스는 일부 산술연산자를 사용할 수 있으면 오로지 **`Python`** 에서만 가능!"
      ]
    },
    {
      "cell_type": "code",
      "execution_count": 133,
      "metadata": {
        "ExecuteTime": {
          "end_time": "2024-09-27T13:38:05.421160Z",
          "start_time": "2024-09-27T13:38:05.414366Z"
        },
        "id": "4mWMzp1ciaeR",
        "outputId": "7365007f-fa24-4761-c0a6-57e739a29f0d",
        "colab": {
          "base_uri": "https://localhost:8080/"
        }
      },
      "outputs": [
        {
          "output_type": "execute_result",
          "data": {
            "text/plain": [
              "[0, 10, 20, 30, 0, 10, 20, 30]"
            ]
          },
          "metadata": {},
          "execution_count": 133
        }
      ],
      "source": [
        "# [0, 10, 20, 30] 리스트와 [0, 10, 20, 30] 리스트 붙이기\n",
        "a = [0, 10, 20, 30]\n",
        "b = [0, 10, 20, 30]\n",
        "a + b"
      ]
    },
    {
      "cell_type": "code",
      "execution_count": 134,
      "metadata": {
        "ExecuteTime": {
          "end_time": "2024-09-27T13:38:05.427007Z",
          "start_time": "2024-09-27T13:38:05.422163Z"
        },
        "id": "bIWBrgStiaeR"
      },
      "outputs": [],
      "source": [
        "# 파이썬이 이해하는 형태가 아닌 함수모습으로 연산은 불가\n",
        "# range(0, 10) + range(10, 20)"
      ]
    },
    {
      "cell_type": "code",
      "execution_count": 135,
      "metadata": {
        "ExecuteTime": {
          "end_time": "2024-09-27T13:38:05.434874Z",
          "start_time": "2024-09-27T13:38:05.428010Z"
        },
        "id": "URjlMwDmiaeR",
        "outputId": "d9bc98fd-bb58-4b4c-b19e-04f6b36d6b78",
        "colab": {
          "base_uri": "https://localhost:8080/"
        }
      },
      "outputs": [
        {
          "output_type": "execute_result",
          "data": {
            "text/plain": [
              "[0, 1, 2, 3, 4, 5, 6, 7, 8, 9, 10, 11, 12, 13, 14, 15, 16, 17, 18, 19]"
            ]
          },
          "metadata": {},
          "execution_count": 135
        }
      ],
      "source": [
        "# 0이상 10미만 시퀀스 리스트와 10이상 20미만 시퀀스 리스트 붙이기\n",
        "list(range(0, 10)) + list(range(10, 20))"
      ]
    },
    {
      "cell_type": "code",
      "execution_count": 136,
      "metadata": {
        "ExecuteTime": {
          "end_time": "2024-09-27T13:38:05.442102Z",
          "start_time": "2024-09-27T13:38:05.435877Z"
        },
        "id": "CFYylDr3iaeR",
        "outputId": "a056c555-4c62-41bb-f4b3-a330a21190b2",
        "colab": {
          "base_uri": "https://localhost:8080/"
        }
      },
      "outputs": [
        {
          "output_type": "execute_result",
          "data": {
            "text/plain": [
              "(0, 1, 2, 3, 4, 5, 6, 7, 8, 9, 10, 11, 12, 13, 14, 15, 16, 17, 18, 19)"
            ]
          },
          "metadata": {},
          "execution_count": 136
        }
      ],
      "source": [
        "# 0이상 10미만 시퀀스 튜플과 10이상 20미만 시퀀스 튜플 붙이기\n",
        "tuple(range(0, 10)) + tuple(range(10, 20))"
      ]
    },
    {
      "cell_type": "code",
      "execution_count": 137,
      "metadata": {
        "ExecuteTime": {
          "end_time": "2024-09-27T13:38:05.448841Z",
          "start_time": "2024-09-27T13:38:05.442102Z"
        },
        "id": "TeSDCF4xiaeS",
        "outputId": "2a52eacc-0384-49b2-c755-b0eca9c13339",
        "colab": {
          "base_uri": "https://localhost:8080/",
          "height": 35
        }
      },
      "outputs": [
        {
          "output_type": "execute_result",
          "data": {
            "text/plain": [
              "'Hello, world!'"
            ],
            "application/vnd.google.colaboratory.intrinsic+json": {
              "type": "string"
            }
          },
          "metadata": {},
          "execution_count": 137
        }
      ],
      "source": [
        "'Hello, ' + 'world!'"
      ]
    },
    {
      "cell_type": "code",
      "execution_count": 138,
      "metadata": {
        "ExecuteTime": {
          "end_time": "2024-09-27T13:38:05.455100Z",
          "start_time": "2024-09-27T13:38:05.448841Z"
        },
        "id": "ByZwIaRWiaeS"
      },
      "outputs": [],
      "source": [
        "# 문자열과 숫자의 연산 불가\n",
        "# 'Hello, ' + 10"
      ]
    },
    {
      "cell_type": "code",
      "execution_count": 139,
      "metadata": {
        "ExecuteTime": {
          "end_time": "2024-09-27T13:38:05.462773Z",
          "start_time": "2024-09-27T13:38:05.456103Z"
        },
        "id": "N2JRA8E7iaeS",
        "outputId": "a77da564-7c4c-4d22-8689-6681dda0f60d",
        "colab": {
          "base_uri": "https://localhost:8080/",
          "height": 35
        }
      },
      "outputs": [
        {
          "output_type": "execute_result",
          "data": {
            "text/plain": [
              "'Hello, 10'"
            ],
            "application/vnd.google.colaboratory.intrinsic+json": {
              "type": "string"
            }
          },
          "metadata": {},
          "execution_count": 139
        }
      ],
      "source": [
        "# 형태를 통일하면 연산 가능\n",
        "'Hello, ' + str(10)"
      ]
    },
    {
      "cell_type": "code",
      "execution_count": 140,
      "metadata": {
        "ExecuteTime": {
          "end_time": "2024-09-27T13:38:05.470182Z",
          "start_time": "2024-09-27T13:38:05.462773Z"
        },
        "id": "c_a3A-stiaeS",
        "outputId": "c4ecaa94-6fbe-404c-de32-326a5fdab6c6",
        "colab": {
          "base_uri": "https://localhost:8080/",
          "height": 35
        }
      },
      "outputs": [
        {
          "output_type": "execute_result",
          "data": {
            "text/plain": [
              "'Hello, 1.5'"
            ],
            "application/vnd.google.colaboratory.intrinsic+json": {
              "type": "string"
            }
          },
          "metadata": {},
          "execution_count": 140
        }
      ],
      "source": [
        "'Hello, ' + str(1.5)"
      ]
    },
    {
      "cell_type": "code",
      "execution_count": 141,
      "metadata": {
        "ExecuteTime": {
          "end_time": "2024-09-27T13:38:05.476761Z",
          "start_time": "2024-09-27T13:38:05.471184Z"
        },
        "id": "RGf1NvpoiaeS",
        "outputId": "8dcc01eb-ab68-41c2-950a-4ee5db40d889",
        "colab": {
          "base_uri": "https://localhost:8080/"
        }
      },
      "outputs": [
        {
          "output_type": "execute_result",
          "data": {
            "text/plain": [
              "[0, 10, 20, 30, 0, 10, 20, 30, 0, 10, 20, 30]"
            ]
          },
          "metadata": {},
          "execution_count": 141
        }
      ],
      "source": [
        "# [0, 10, 20, 30] 리스트 3번 반복하기\n",
        "[0, 10, 20, 30] * 3"
      ]
    },
    {
      "cell_type": "code",
      "execution_count": 142,
      "metadata": {
        "ExecuteTime": {
          "end_time": "2024-09-27T13:38:05.483595Z",
          "start_time": "2024-09-27T13:38:05.476761Z"
        },
        "id": "BVQbT7LmiaeT",
        "outputId": "da7303ce-e79a-4506-da84-26645810e019",
        "colab": {
          "base_uri": "https://localhost:8080/"
        }
      },
      "outputs": [
        {
          "output_type": "execute_result",
          "data": {
            "text/plain": [
              "[0, 2, 4, 0, 2, 4, 0, 2, 4]"
            ]
          },
          "metadata": {},
          "execution_count": 142
        }
      ],
      "source": [
        "# 0이상 5미만 2간격 시퀀스 리스트 3번 반복하기\n",
        "list(range(0, 5, 2)) * 3"
      ]
    },
    {
      "cell_type": "code",
      "execution_count": 143,
      "metadata": {
        "ExecuteTime": {
          "end_time": "2024-09-27T13:38:05.490305Z",
          "start_time": "2024-09-27T13:38:05.483595Z"
        },
        "id": "rIstCwEmiaeT",
        "outputId": "83974811-7d07-4b40-ed3b-69539d4f7284",
        "colab": {
          "base_uri": "https://localhost:8080/"
        }
      },
      "outputs": [
        {
          "output_type": "execute_result",
          "data": {
            "text/plain": [
              "(0, 2, 4, 0, 2, 4, 0, 2, 4)"
            ]
          },
          "metadata": {},
          "execution_count": 143
        }
      ],
      "source": [
        "# 0이상 5미만 2간격 시퀀스 튜플 3번 반복하기\n",
        "tuple(range(0, 5, 2)) * 3"
      ]
    },
    {
      "cell_type": "code",
      "execution_count": 144,
      "metadata": {
        "ExecuteTime": {
          "end_time": "2024-09-27T13:38:05.496689Z",
          "start_time": "2024-09-27T13:38:05.490305Z"
        },
        "id": "1WrYkA0diaeT",
        "outputId": "acc42209-6971-4153-a1d6-3c74b7a7422b",
        "colab": {
          "base_uri": "https://localhost:8080/",
          "height": 35
        }
      },
      "outputs": [
        {
          "output_type": "execute_result",
          "data": {
            "text/plain": [
              "'Hello, Hello, Hello, '"
            ],
            "application/vnd.google.colaboratory.intrinsic+json": {
              "type": "string"
            }
          },
          "metadata": {},
          "execution_count": 144
        }
      ],
      "source": [
        "# 문자열 3번 반복하기\n",
        "'Hello, ' * 3"
      ]
    },
    {
      "cell_type": "code",
      "execution_count": 145,
      "metadata": {
        "ExecuteTime": {
          "end_time": "2024-09-27T13:38:05.502730Z",
          "start_time": "2024-09-27T13:38:05.496689Z"
        },
        "id": "u5Fl6PmjiaeT"
      },
      "outputs": [],
      "source": [
        "a = [0, 10, 20, 30, 40, 50, 60, 70, 80, 90]"
      ]
    },
    {
      "cell_type": "code",
      "execution_count": 146,
      "metadata": {
        "ExecuteTime": {
          "end_time": "2024-09-27T13:38:05.510407Z",
          "start_time": "2024-09-27T13:38:05.502730Z"
        },
        "id": "iPxY_7KZiaeU",
        "outputId": "56315ad9-7b52-4f41-e673-a6c1404e0f69",
        "colab": {
          "base_uri": "https://localhost:8080/"
        }
      },
      "outputs": [
        {
          "output_type": "execute_result",
          "data": {
            "text/plain": [
              "10"
            ]
          },
          "metadata": {},
          "execution_count": 146
        }
      ],
      "source": [
        "# 값의 갯수 측정\n",
        "len(a)"
      ]
    },
    {
      "cell_type": "code",
      "execution_count": 147,
      "metadata": {
        "ExecuteTime": {
          "end_time": "2024-09-27T13:38:05.517007Z",
          "start_time": "2024-09-27T13:38:05.510407Z"
        },
        "id": "4RCqPoEeiaeU",
        "outputId": "7c518dc5-3bdf-4a52-b1be-fbc4c567a82c",
        "colab": {
          "base_uri": "https://localhost:8080/"
        }
      },
      "outputs": [
        {
          "output_type": "execute_result",
          "data": {
            "text/plain": [
              "5"
            ]
          },
          "metadata": {},
          "execution_count": 147
        }
      ],
      "source": [
        "b = (38, 76, 43, 62, 19)\n",
        "len(b)"
      ]
    },
    {
      "cell_type": "code",
      "execution_count": 148,
      "metadata": {
        "ExecuteTime": {
          "end_time": "2024-09-27T13:38:05.523493Z",
          "start_time": "2024-09-27T13:38:05.517007Z"
        },
        "id": "UveE3H41iaeU",
        "outputId": "7ffffab1-fa2f-4a5b-fded-1016f925d636",
        "colab": {
          "base_uri": "https://localhost:8080/"
        }
      },
      "outputs": [
        {
          "output_type": "execute_result",
          "data": {
            "text/plain": [
              "5"
            ]
          },
          "metadata": {},
          "execution_count": 148
        }
      ],
      "source": [
        "# 0이상 10미만 2간격 시퀀스의 갯수\n",
        "len(range(0, 10, 2))"
      ]
    },
    {
      "cell_type": "code",
      "execution_count": 149,
      "metadata": {
        "ExecuteTime": {
          "end_time": "2024-09-27T13:38:05.530075Z",
          "start_time": "2024-09-27T13:38:05.523493Z"
        },
        "id": "4IibQtwHiaeU",
        "outputId": "92cba448-92ec-43bf-9ffd-d933cfe59637",
        "colab": {
          "base_uri": "https://localhost:8080/"
        }
      },
      "outputs": [
        {
          "output_type": "execute_result",
          "data": {
            "text/plain": [
              "13"
            ]
          },
          "metadata": {},
          "execution_count": 149
        }
      ],
      "source": [
        "# 문자열은 공백도 포함하여 갯수를 계산\n",
        "hello = 'Hello, world!'\n",
        "len(hello)"
      ]
    },
    {
      "cell_type": "code",
      "execution_count": 150,
      "metadata": {
        "ExecuteTime": {
          "end_time": "2024-09-27T13:38:05.536631Z",
          "start_time": "2024-09-27T13:38:05.531077Z"
        },
        "id": "VYG6paK8iaeU",
        "outputId": "086b9eda-855f-4307-f1ce-3b34da3ad5af",
        "colab": {
          "base_uri": "https://localhost:8080/"
        }
      },
      "outputs": [
        {
          "output_type": "execute_result",
          "data": {
            "text/plain": [
              "5"
            ]
          },
          "metadata": {},
          "execution_count": 150
        }
      ],
      "source": [
        "hello = '안녕하세요'\n",
        "len(hello)"
      ]
    },
    {
      "cell_type": "markdown",
      "metadata": {
        "id": "J5QN93O8iaeU"
      },
      "source": [
        "- **Question:** 다음 2개의 변수를 사용하여 최근 4년간의 연도 및 GDP를 출력하시오\n",
        "\n",
        "```python\n",
        "year = [2011, 2012, 2013, 2014, 2015, 2016, 2017, 2018]\n",
        "GDP = [10249679, 10195318, 10143645, 10103233, 10022181, 9930616, 9857426, 9838892]\n",
        "```"
      ]
    },
    {
      "cell_type": "code",
      "execution_count": 165,
      "metadata": {
        "id": "3KbkHKc7iaeU",
        "outputId": "4ac34132-cc82-4585-f05c-5bfdc7c0fd11",
        "colab": {
          "base_uri": "https://localhost:8080/"
        }
      },
      "outputs": [
        {
          "output_type": "stream",
          "name": "stdout",
          "text": [
            "Year: [2015, 2016, 2017, 2018]\n",
            "GDP: [10022181, 9930616, 9857426, 9838892]\n"
          ]
        }
      ],
      "source": [
        "year = [2011, 2012, 2013, 2014, 2015, 2016, 2017, 2018]\n",
        "GDP = [10249679, 10195318, 10143645, 10103233, 10022181, 9930616, 9857426, 9838892]\n",
        "\n",
        "print(\"Year:\", year[-4:])  # 최근 4년\n",
        "print(\"GDP:\", GDP[-4:])    # 최근 4년의 GDP\n"
      ]
    },
    {
      "cell_type": "markdown",
      "metadata": {
        "id": "WO5ITdg0iaeV"
      },
      "source": [
        "- **Question:** 다음 튜플에서 인덱스가 홀수인 값들을 출력하시오\n",
        "\n",
        "```python\n",
        "n = (-32, 75, 97, -10, 9, 32, 4, -15, 0, 76, 14, 2)\n",
        "```"
      ]
    },
    {
      "cell_type": "code",
      "execution_count": 168,
      "metadata": {
        "id": "YPtA2m7ziaeV",
        "outputId": "4b2bbfce-7a67-43c3-82e3-a37c0e84b60a",
        "colab": {
          "base_uri": "https://localhost:8080/"
        }
      },
      "outputs": [
        {
          "output_type": "stream",
          "name": "stdout",
          "text": [
            "(75, -10, 32, -15, 76, 2)\n"
          ]
        }
      ],
      "source": [
        "n = (-32, 75, 97, -10, 9, 32, 4, -15, 0, 76, 14, 2)\n",
        "\n",
        "# 홀수 인덱스 값 추출\n",
        "odd_index_values = n[1::2]  # 1부터 시작해서 2 간격으로 값 추출\n",
        "print(odd_index_values)\n",
        "\n"
      ]
    },
    {
      "cell_type": "markdown",
      "metadata": {
        "id": "a1CcwLWIiaeV"
      },
      "source": [
        "- **Question:** 아래와 같이 3층의 $*$ 문자로 이루어진 별자리를 `star`라는 변수로 만들어 변수에 저장된 별자리를 출력하시오\n",
        "\n",
        "```python\n",
        "*\n",
        "**\n",
        "***\n",
        "```"
      ]
    },
    {
      "cell_type": "code",
      "execution_count": null,
      "metadata": {
        "id": "FjK_mAn6iaeV"
      },
      "outputs": [],
      "source": [
        "\n"
      ]
    },
    {
      "cell_type": "markdown",
      "metadata": {
        "id": "mX4vAlMMiaeV"
      },
      "source": [
        "- **Question:** 우리나라는 섭씨 온도표시를 사용하지만, 미국은 화씨 온도표시를 사용합니다.    \n",
        "0도의 섭씨는 화씨로 32도 입니다. 만약 18도의 섭씨는 화씨로 얼마가 될지 출력하시오.    \n",
        "이때 사용할 변수명 섭씨는 `C` 화씨는 `F`로 하시오.\n"
      ]
    },
    {
      "cell_type": "code",
      "execution_count": null,
      "metadata": {
        "id": "vhEgMll5iaeV"
      },
      "outputs": [],
      "source": [
        "\n"
      ]
    },
    {
      "cell_type": "markdown",
      "metadata": {
        "id": "KI3-o9uqiaeV"
      },
      "source": [
        "- **Question:** 아래와같이 휴대폰번호가 저장된 변수에서 하이푼('-')을 대신 공백을 반영하여 아래와 같이 출력하라\n",
        "\n",
        "```python\n",
        "number = \"010-1234-5678\"\n",
        "\n",
        "# 예상출력\n",
        "010 1234 5678\n",
        "```"
      ]
    },
    {
      "cell_type": "code",
      "execution_count": null,
      "metadata": {
        "id": "_joUvb-xiaeV"
      },
      "outputs": [],
      "source": [
        "\n"
      ]
    },
    {
      "cell_type": "markdown",
      "metadata": {
        "id": "KQCgY7BmiaeW"
      },
      "source": [
        "- **Question:** `range` 함수를 사용하여 0이상 10000 미만인 모든 짝수의 합계를 `sum` 내장함수를 사용하여 `summation` 이란 변수에 저장하고, 갯수를 `count`라는 변수에 저장한 후 평균을 출력하시오"
      ]
    },
    {
      "cell_type": "code",
      "execution_count": null,
      "metadata": {
        "id": "WDBHo6_diaeW"
      },
      "outputs": [],
      "source": [
        "\n"
      ]
    }
  ],
  "metadata": {
    "hide_input": false,
    "kernelspec": {
      "display_name": "Python 3 (ipykernel)",
      "language": "python",
      "name": "python3"
    },
    "language_info": {
      "codemirror_mode": {
        "name": "ipython",
        "version": 3
      },
      "file_extension": ".py",
      "mimetype": "text/x-python",
      "name": "python",
      "nbconvert_exporter": "python",
      "pygments_lexer": "ipython3",
      "version": "3.11.5"
    },
    "toc": {
      "base_numbering": 1,
      "nav_menu": {},
      "number_sections": true,
      "sideBar": true,
      "skip_h1_title": false,
      "title_cell": "Table of Contents",
      "title_sidebar": "Contents",
      "toc_cell": false,
      "toc_position": {
        "height": "calc(100% - 180px)",
        "left": "10px",
        "top": "150px",
        "width": "308.823px"
      },
      "toc_section_display": true,
      "toc_window_display": true
    },
    "varInspector": {
      "cols": {
        "lenName": 16,
        "lenType": 16,
        "lenVar": 40
      },
      "kernels_config": {
        "python": {
          "delete_cmd_postfix": "",
          "delete_cmd_prefix": "del ",
          "library": "var_list.py",
          "varRefreshCmd": "print(var_dic_list())"
        },
        "r": {
          "delete_cmd_postfix": ") ",
          "delete_cmd_prefix": "rm(",
          "library": "var_list.r",
          "varRefreshCmd": "cat(var_dic_list()) "
        }
      },
      "position": {
        "height": "388.4px",
        "left": "850.92px",
        "right": "20px",
        "top": "120px",
        "width": "347px"
      },
      "types_to_exclude": [
        "module",
        "function",
        "builtin_function_or_method",
        "instance",
        "_Feature"
      ],
      "window_display": false
    },
    "colab": {
      "provenance": []
    }
  },
  "nbformat": 4,
  "nbformat_minor": 0
}